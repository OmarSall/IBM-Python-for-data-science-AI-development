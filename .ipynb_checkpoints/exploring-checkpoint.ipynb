{
 "cells": [
  {
   "cell_type": "code",
   "execution_count": 7,
   "id": "dc5a8426",
   "metadata": {},
   "outputs": [],
   "source": [
    "my_string = 'Hello ,Om.ar'"
   ]
  },
  {
   "cell_type": "code",
   "execution_count": 8,
   "id": "92347bd6",
   "metadata": {},
   "outputs": [
    {
     "data": {
      "text/plain": [
       "['Hello ,Om', 'ar']"
      ]
     },
     "execution_count": 8,
     "metadata": {},
     "output_type": "execute_result"
    }
   ],
   "source": [
    "split_text = my_string.split(\".\")\n",
    "split_text"
   ]
  },
  {
   "cell_type": "code",
   "execution_count": 9,
   "id": "9f977682",
   "metadata": {},
   "outputs": [],
   "source": [
    "my_string1 = \" H e llo  \""
   ]
  },
  {
   "cell_type": "code",
   "execution_count": 10,
   "id": "395383d2",
   "metadata": {},
   "outputs": [],
   "source": [
    "trimmed = my_string1.strip()"
   ]
  },
  {
   "cell_type": "code",
   "execution_count": 11,
   "id": "6e7bcbdb",
   "metadata": {},
   "outputs": [
    {
     "data": {
      "text/plain": [
       "'H e llo'"
      ]
     },
     "execution_count": 11,
     "metadata": {},
     "output_type": "execute_result"
    }
   ],
   "source": [
    "trimmed"
   ]
  },
  {
   "cell_type": "code",
   "execution_count": 12,
   "id": "e695f78c",
   "metadata": {},
   "outputs": [
    {
     "data": {
      "text/plain": [
       "float"
      ]
     },
     "execution_count": 12,
     "metadata": {},
     "output_type": "execute_result"
    }
   ],
   "source": [
    "type(2/2)"
   ]
  },
  {
   "cell_type": "code",
   "execution_count": 13,
   "id": "284fd288",
   "metadata": {},
   "outputs": [
    {
     "data": {
      "text/plain": [
       "['hej', 'Omarix']"
      ]
     },
     "execution_count": 13,
     "metadata": {},
     "output_type": "execute_result"
    }
   ],
   "source": [
    "a = 'hej Omarix'\n",
    "a.split()"
   ]
  },
  {
   "cell_type": "code",
   "execution_count": 14,
   "id": "7b0c529a",
   "metadata": {},
   "outputs": [
    {
     "ename": "SyntaxError",
     "evalue": "cannot assign to literal (Temp/ipykernel_9236/3293032332.py, line 1)",
     "output_type": "error",
     "traceback": [
      "\u001b[1;36m  File \u001b[1;32m\"C:\\Users\\Omar\\AppData\\Local\\Temp/ipykernel_9236/3293032332.py\"\u001b[1;36m, line \u001b[1;32m1\u001b[0m\n\u001b[1;33m    1=2\u001b[0m\n\u001b[1;37m    ^\u001b[0m\n\u001b[1;31mSyntaxError\u001b[0m\u001b[1;31m:\u001b[0m cannot assign to literal\n"
     ]
    }
   ],
   "source": [
    "1=2"
   ]
  },
  {
   "cell_type": "code",
   "execution_count": 15,
   "id": "414287b4",
   "metadata": {},
   "outputs": [
    {
     "data": {
      "text/plain": [
       "[1, 3, 2]"
      ]
     },
     "execution_count": 15,
     "metadata": {},
     "output_type": "execute_result"
    }
   ],
   "source": [
    " L=[1,3,2]\n",
    "sorted(L)\n",
    "L"
   ]
  },
  {
   "cell_type": "code",
   "execution_count": 18,
   "id": "0180a027",
   "metadata": {},
   "outputs": [],
   "source": [
    "#Press Shift+Enter to run the code\n",
    "class TextAnalyzer(object):\n",
    "    def __init__ (self, text):\n",
    "     # remove punctuation\n",
    "        formattedText = text.replace('.','').replace(',','').replace('!','').replace('?','')\n",
    "        \n",
    "     # make text lowercase\n",
    "        formattedText = formattedText.lower()\n",
    "\n",
    "        self.fmtText = formattedText\n",
    "\n",
    "    def freqAll(self):        \n",
    "        # split text into words\n",
    "        wordList = self.fmtText.split(' ')\n",
    "        # Create dictionary\n",
    "        freqMap = {}\n",
    "        for word in set(wordList):\n",
    "            freqMap[word] = wordList.count(word)\n",
    "\n",
    "        return freqMap\n",
    "           \n",
    "    def freqOf(self,word):\n",
    "        # get frequency map\n",
    "        freqDict = self.freqAll()\n",
    "\n",
    "        if word in freqDict:\n",
    "            return freqDict[word]\n",
    "        else:\n",
    "            return 0"
   ]
  },
  {
   "cell_type": "code",
   "execution_count": 19,
   "id": "b4749878",
   "metadata": {},
   "outputs": [],
   "source": [
    "givenstring=\"Lorem ipsum dolor! diam amet, consetetur Lorem magna. sed diam nonumy eirmod tempor. diam et labore? et diam magna. et diam amet.\""
   ]
  },
  {
   "cell_type": "code",
   "execution_count": 20,
   "id": "a9a7a895",
   "metadata": {},
   "outputs": [],
   "source": [
    "new_object =TextAnalyzer(givenstring)"
   ]
  },
  {
   "cell_type": "code",
   "execution_count": 21,
   "id": "c82894ef",
   "metadata": {},
   "outputs": [
    {
     "data": {
      "text/plain": [
       "<__main__.TextAnalyzer at 0x2a3fe43fca0>"
      ]
     },
     "execution_count": 21,
     "metadata": {},
     "output_type": "execute_result"
    }
   ],
   "source": [
    "new_object"
   ]
  },
  {
   "cell_type": "code",
   "execution_count": 22,
   "id": "903d90bf",
   "metadata": {},
   "outputs": [
    {
     "data": {
      "text/plain": [
       "{'et': 3,\n",
       " 'diam': 5,\n",
       " 'nonumy': 1,\n",
       " 'labore': 1,\n",
       " 'magna': 2,\n",
       " 'dolor': 1,\n",
       " 'consetetur': 1,\n",
       " 'amet': 2,\n",
       " 'lorem': 2,\n",
       " 'tempor': 1,\n",
       " 'ipsum': 1,\n",
       " 'sed': 1,\n",
       " 'eirmod': 1}"
      ]
     },
     "execution_count": 22,
     "metadata": {},
     "output_type": "execute_result"
    }
   ],
   "source": [
    "new_object.freqAll()"
   ]
  },
  {
   "cell_type": "code",
   "execution_count": 23,
   "id": "f5baaf69",
   "metadata": {},
   "outputs": [
    {
     "data": {
      "text/plain": [
       "3"
      ]
     },
     "execution_count": 23,
     "metadata": {},
     "output_type": "execute_result"
    }
   ],
   "source": [
    "new_object.freqOf('et')"
   ]
  },
  {
   "cell_type": "markdown",
   "id": "a93c33b0",
   "metadata": {},
   "source": [
    "# Reading and Writing files with open"
   ]
  },
  {
   "cell_type": "code",
   "execution_count": null,
   "id": "b511c755",
   "metadata": {},
   "outputs": [],
   "source": [
    "def cleanFiles(currentMem,exMem):\n",
    "    with open(currentMem,'r+') as writeFile: \n",
    "        with open(exMem,'a+') as appendFile:\n",
    "            #get the data\n",
    "            writeFile.seek(0)\n",
    "            members = writeFile.readlines()\n",
    "            #remove header\n",
    "            header = members[0]\n",
    "            members.pop(0)\n",
    "                \n",
    "            inactive = [member for member in members if ('no' in member)]\n",
    "            '''\n",
    "            The above is the same as \n",
    "\n",
    "            for member in members:\n",
    "            if 'no' in member:\n",
    "                inactive.append(member)\n",
    "            '''\n",
    "            #go to the beginning of the write file\n",
    "            writeFile.seek(0) \n",
    "            writeFile.write(header)\n",
    "            for member in members:\n",
    "                if (member in inactive):\n",
    "                    appendFile.write(member)\n",
    "                else:\n",
    "                    writeFile.write(member)      \n",
    "            writeFile.truncate()\n",
    "                \n",
    "memReg = 'members.txt'\n",
    "exReg = 'inactive.txt'\n",
    "cleanFiles(memReg,exReg)\n",
    "\n",
    "# code to help you see the files\n",
    "\n",
    "headers = \"Membership No  Date Joined  Active  \\n\"\n",
    "\n",
    "with open(memReg,'r') as readFile:\n",
    "    print(\"Active Members: \\n\\n\")\n",
    "    print(readFile.read())\n",
    "    \n",
    "with open(exReg,'r') as readFile:\n",
    "    print(\"Inactive Members: \\n\\n\")\n",
    "    print(readFile.read())\n",
    "    "
   ]
  },
  {
   "cell_type": "code",
   "execution_count": 24,
   "id": "caf07b9c",
   "metadata": {},
   "outputs": [
    {
     "data": {
      "text/plain": [
       "'banana'"
      ]
     },
     "execution_count": 24,
     "metadata": {},
     "output_type": "execute_result"
    }
   ],
   "source": [
    "fruits = ['apple', 'banana', 'cherry']\n",
    "\n",
    "fruits.pop(1)"
   ]
  },
  {
   "cell_type": "code",
   "execution_count": 25,
   "id": "a64481c8",
   "metadata": {},
   "outputs": [
    {
     "data": {
      "text/plain": [
       "['apple', 'cherry']"
      ]
     },
     "execution_count": 25,
     "metadata": {},
     "output_type": "execute_result"
    }
   ],
   "source": [
    "fruits\n"
   ]
  },
  {
   "cell_type": "code",
   "execution_count": 26,
   "id": "090a66a7",
   "metadata": {},
   "outputs": [
    {
     "ename": "SyntaxError",
     "evalue": "invalid syntax (Temp/ipykernel_9236/2368385101.py, line 1)",
     "output_type": "error",
     "traceback": [
      "\u001b[1;36m  File \u001b[1;32m\"C:\\Users\\Omar\\AppData\\Local\\Temp/ipykernel_9236/2368385101.py\"\u001b[1;36m, line \u001b[1;32m1\u001b[0m\n\u001b[1;33m    <details><summary>Click here for the solution</summary>\u001b[0m\n\u001b[1;37m    ^\u001b[0m\n\u001b[1;31mSyntaxError\u001b[0m\u001b[1;31m:\u001b[0m invalid syntax\n"
     ]
    }
   ],
   "source": [
    "<details><summary>Click here for the solution</summary>\n",
    "\n",
    "```python\n",
    "\n",
    "\n",
    "a = np.array([-1, 1])\n",
    "b = np.array([1, 1])\n",
    "Plotvec2(a, b)\n",
    "print(\"The dot product is\", np.dot(a,b))\n",
    "\n",
    "```\n",
    "\n",
    "</details>\n"
   ]
  },
  {
   "cell_type": "markdown",
   "id": "287cfb0d",
   "metadata": {},
   "source": [
    "<details><summary>Click here for the solution</summary>\n",
    "\n",
    "```python\n",
    "\n",
    "\n",
    "a = np.array([-1, 1])\n",
    "b = np.array([1, 1])\n",
    "Plotvec2(a, b)\n",
    "print(\"The dot product is\", np.dot(a,b))\n",
    "\n",
    "```\n",
    "\n",
    "</details>\n"
   ]
  },
  {
   "cell_type": "code",
   "execution_count": null,
   "id": "e39c628b",
   "metadata": {},
   "outputs": [],
   "source": []
  },
  {
   "cell_type": "markdown",
   "id": "e366e06d",
   "metadata": {},
   "source": [
    "# API course - coursera IBM"
   ]
  },
  {
   "cell_type": "code",
   "execution_count": 27,
   "id": "5479138b",
   "metadata": {},
   "outputs": [],
   "source": [
    "import requests"
   ]
  },
  {
   "cell_type": "code",
   "execution_count": 28,
   "id": "88c83df6",
   "metadata": {},
   "outputs": [],
   "source": [
    "url = 'https://www.ibm.com/'"
   ]
  },
  {
   "cell_type": "code",
   "execution_count": 29,
   "id": "51b6ac65",
   "metadata": {},
   "outputs": [],
   "source": [
    "r = requests.get(url)"
   ]
  },
  {
   "cell_type": "code",
   "execution_count": 31,
   "id": "501ab280",
   "metadata": {},
   "outputs": [
    {
     "data": {
      "text/plain": [
       "200"
      ]
     },
     "execution_count": 31,
     "metadata": {},
     "output_type": "execute_result"
    }
   ],
   "source": [
    "r.status_code"
   ]
  },
  {
   "cell_type": "code",
   "execution_count": 35,
   "id": "8f47301d",
   "metadata": {},
   "outputs": [],
   "source": [
    "header = r.request.headers"
   ]
  },
  {
   "cell_type": "code",
   "execution_count": 36,
   "id": "99be30e8",
   "metadata": {},
   "outputs": [],
   "source": [
    "r.request.body"
   ]
  },
  {
   "cell_type": "code",
   "execution_count": 37,
   "id": "da5e7933",
   "metadata": {},
   "outputs": [
    {
     "ename": "KeyError",
     "evalue": "'date'",
     "output_type": "error",
     "traceback": [
      "\u001b[1;31m---------------------------------------------------------------------------\u001b[0m",
      "\u001b[1;31mKeyError\u001b[0m                                  Traceback (most recent call last)",
      "\u001b[1;32m~\\AppData\\Local\\Temp/ipykernel_9236/232059545.py\u001b[0m in \u001b[0;36m<module>\u001b[1;34m\u001b[0m\n\u001b[1;32m----> 1\u001b[1;33m \u001b[0mheader\u001b[0m\u001b[1;33m[\u001b[0m\u001b[1;34m'date'\u001b[0m\u001b[1;33m]\u001b[0m\u001b[1;33m\u001b[0m\u001b[1;33m\u001b[0m\u001b[0m\n\u001b[0m",
      "\u001b[1;32m~\\anaconda3\\lib\\site-packages\\requests\\structures.py\u001b[0m in \u001b[0;36m__getitem__\u001b[1;34m(self, key)\u001b[0m\n\u001b[0;32m     52\u001b[0m \u001b[1;33m\u001b[0m\u001b[0m\n\u001b[0;32m     53\u001b[0m     \u001b[1;32mdef\u001b[0m \u001b[0m__getitem__\u001b[0m\u001b[1;33m(\u001b[0m\u001b[0mself\u001b[0m\u001b[1;33m,\u001b[0m \u001b[0mkey\u001b[0m\u001b[1;33m)\u001b[0m\u001b[1;33m:\u001b[0m\u001b[1;33m\u001b[0m\u001b[1;33m\u001b[0m\u001b[0m\n\u001b[1;32m---> 54\u001b[1;33m         \u001b[1;32mreturn\u001b[0m \u001b[0mself\u001b[0m\u001b[1;33m.\u001b[0m\u001b[0m_store\u001b[0m\u001b[1;33m[\u001b[0m\u001b[0mkey\u001b[0m\u001b[1;33m.\u001b[0m\u001b[0mlower\u001b[0m\u001b[1;33m(\u001b[0m\u001b[1;33m)\u001b[0m\u001b[1;33m]\u001b[0m\u001b[1;33m[\u001b[0m\u001b[1;36m1\u001b[0m\u001b[1;33m]\u001b[0m\u001b[1;33m\u001b[0m\u001b[1;33m\u001b[0m\u001b[0m\n\u001b[0m\u001b[0;32m     55\u001b[0m \u001b[1;33m\u001b[0m\u001b[0m\n\u001b[0;32m     56\u001b[0m     \u001b[1;32mdef\u001b[0m \u001b[0m__delitem__\u001b[0m\u001b[1;33m(\u001b[0m\u001b[0mself\u001b[0m\u001b[1;33m,\u001b[0m \u001b[0mkey\u001b[0m\u001b[1;33m)\u001b[0m\u001b[1;33m:\u001b[0m\u001b[1;33m\u001b[0m\u001b[1;33m\u001b[0m\u001b[0m\n",
      "\u001b[1;31mKeyError\u001b[0m: 'date'"
     ]
    }
   ],
   "source": [
    "header['date']"
   ]
  },
  {
   "cell_type": "code",
   "execution_count": 38,
   "id": "8438b980",
   "metadata": {},
   "outputs": [
    {
     "ename": "KeyError",
     "evalue": "'content-type'",
     "output_type": "error",
     "traceback": [
      "\u001b[1;31m---------------------------------------------------------------------------\u001b[0m",
      "\u001b[1;31mKeyError\u001b[0m                                  Traceback (most recent call last)",
      "\u001b[1;32m~\\AppData\\Local\\Temp/ipykernel_9236/1934929075.py\u001b[0m in \u001b[0;36m<module>\u001b[1;34m\u001b[0m\n\u001b[1;32m----> 1\u001b[1;33m \u001b[0mheader\u001b[0m\u001b[1;33m[\u001b[0m\u001b[1;34m'Content-Type'\u001b[0m\u001b[1;33m]\u001b[0m\u001b[1;33m\u001b[0m\u001b[1;33m\u001b[0m\u001b[0m\n\u001b[0m",
      "\u001b[1;32m~\\anaconda3\\lib\\site-packages\\requests\\structures.py\u001b[0m in \u001b[0;36m__getitem__\u001b[1;34m(self, key)\u001b[0m\n\u001b[0;32m     52\u001b[0m \u001b[1;33m\u001b[0m\u001b[0m\n\u001b[0;32m     53\u001b[0m     \u001b[1;32mdef\u001b[0m \u001b[0m__getitem__\u001b[0m\u001b[1;33m(\u001b[0m\u001b[0mself\u001b[0m\u001b[1;33m,\u001b[0m \u001b[0mkey\u001b[0m\u001b[1;33m)\u001b[0m\u001b[1;33m:\u001b[0m\u001b[1;33m\u001b[0m\u001b[1;33m\u001b[0m\u001b[0m\n\u001b[1;32m---> 54\u001b[1;33m         \u001b[1;32mreturn\u001b[0m \u001b[0mself\u001b[0m\u001b[1;33m.\u001b[0m\u001b[0m_store\u001b[0m\u001b[1;33m[\u001b[0m\u001b[0mkey\u001b[0m\u001b[1;33m.\u001b[0m\u001b[0mlower\u001b[0m\u001b[1;33m(\u001b[0m\u001b[1;33m)\u001b[0m\u001b[1;33m]\u001b[0m\u001b[1;33m[\u001b[0m\u001b[1;36m1\u001b[0m\u001b[1;33m]\u001b[0m\u001b[1;33m\u001b[0m\u001b[1;33m\u001b[0m\u001b[0m\n\u001b[0m\u001b[0;32m     55\u001b[0m \u001b[1;33m\u001b[0m\u001b[0m\n\u001b[0;32m     56\u001b[0m     \u001b[1;32mdef\u001b[0m \u001b[0m__delitem__\u001b[0m\u001b[1;33m(\u001b[0m\u001b[0mself\u001b[0m\u001b[1;33m,\u001b[0m \u001b[0mkey\u001b[0m\u001b[1;33m)\u001b[0m\u001b[1;33m:\u001b[0m\u001b[1;33m\u001b[0m\u001b[1;33m\u001b[0m\u001b[0m\n",
      "\u001b[1;31mKeyError\u001b[0m: 'content-type'"
     ]
    }
   ],
   "source": [
    "header['Content-Type']"
   ]
  },
  {
   "cell_type": "code",
   "execution_count": 39,
   "id": "0f4f2fe6",
   "metadata": {},
   "outputs": [
    {
     "data": {
      "text/plain": [
       "'utf-8'"
      ]
     },
     "execution_count": 39,
     "metadata": {},
     "output_type": "execute_result"
    }
   ],
   "source": [
    "r.encoding"
   ]
  },
  {
   "cell_type": "code",
   "execution_count": 40,
   "id": "aa0d7aef",
   "metadata": {},
   "outputs": [
    {
     "data": {
      "text/plain": [
       "'\\n<!DOCTYPE HTML>\\n<html lang=\"en-uk\">\\n<head>\\n    \\n    \\n    \\n    \\n    <meta charset=\"UTF-8\"/>\\n    <met'"
      ]
     },
     "execution_count": 40,
     "metadata": {},
     "output_type": "execute_result"
    }
   ],
   "source": [
    "r.text[0:100]"
   ]
  },
  {
   "cell_type": "code",
   "execution_count": 41,
   "id": "5473a59c",
   "metadata": {},
   "outputs": [
    {
     "data": {
      "text/plain": [
       "'http://httpbin.org/get?name=Joseph&ID=123'"
      ]
     },
     "execution_count": 41,
     "metadata": {},
     "output_type": "execute_result"
    }
   ],
   "source": [
    "url_get = 'http://httpbin.org/get'\n",
    "payload = {\"name\": \"Joseph\", \"ID\":\"123\"}\n",
    "r = requests.get(url_get, params=payload)\n",
    "r.url"
   ]
  },
  {
   "cell_type": "code",
   "execution_count": 42,
   "id": "600239c1",
   "metadata": {},
   "outputs": [
    {
     "data": {
      "text/plain": [
       "'{\\n  \"args\": {\\n    \"ID\": \"123\", \\n    \"name\": \"Joseph\"\\n  }, \\n  \"headers\": {\\n    \"Accept\": \"*/*\", \\n    \"Accept-Encoding\": \"gzip, deflate, br\", \\n    \"Host\": \"httpbin.org\", \\n    \"User-Agent\": \"python-requests/2.26.0\", \\n    \"X-Amzn-Trace-Id\": \"Root=1-659de1d7-64944de47362a53136fd8c0b\"\\n  }, \\n  \"origin\": \"37.30.12.4\", \\n  \"url\": \"http://httpbin.org/get?name=Joseph&ID=123\"\\n}\\n'"
      ]
     },
     "execution_count": 42,
     "metadata": {},
     "output_type": "execute_result"
    }
   ],
   "source": [
    "r.text"
   ]
  },
  {
   "cell_type": "code",
   "execution_count": 43,
   "id": "fb4d1c3e",
   "metadata": {},
   "outputs": [
    {
     "data": {
      "text/plain": [
       "{'args': {'ID': '123', 'name': 'Joseph'},\n",
       " 'headers': {'Accept': '*/*',\n",
       "  'Accept-Encoding': 'gzip, deflate, br',\n",
       "  'Host': 'httpbin.org',\n",
       "  'User-Agent': 'python-requests/2.26.0',\n",
       "  'X-Amzn-Trace-Id': 'Root=1-659de1d7-64944de47362a53136fd8c0b'},\n",
       " 'origin': '37.30.12.4',\n",
       " 'url': 'http://httpbin.org/get?name=Joseph&ID=123'}"
      ]
     },
     "execution_count": 43,
     "metadata": {},
     "output_type": "execute_result"
    }
   ],
   "source": [
    "r.json()"
   ]
  },
  {
   "cell_type": "code",
   "execution_count": 44,
   "id": "a481fda4",
   "metadata": {},
   "outputs": [],
   "source": [
    "url_post = \"http://httpbin.org/post\"\n",
    "r_post = requests.post(url_post, data=payload)"
   ]
  },
  {
   "cell_type": "code",
   "execution_count": 45,
   "id": "e0ae5d8a",
   "metadata": {},
   "outputs": [
    {
     "name": "stdout",
     "output_type": "stream",
     "text": [
      "POST request URL: http://httpbin.org/post\n",
      "GET request URL: http://httpbin.org/get?name=Joseph&ID=123\n"
     ]
    }
   ],
   "source": [
    "print(\"POST request URL:\", r_post.url)\n",
    "print(\"GET request URL:\", r.url)"
   ]
  },
  {
   "cell_type": "markdown",
   "id": "1e87cd3b",
   "metadata": {},
   "source": [
    "# Write the commands to download the txt file in the given link."
   ]
  },
  {
   "cell_type": "code",
   "execution_count": null,
   "id": "a48b7f69",
   "metadata": {},
   "outputs": [],
   "source": [
    "url='https://cf-courses-data.s3.us.cloud-object-storage.appdomain.cloud/IBMDeveloperSkillsNetwork-PY0101EN-SkillsNetwork/labs/Module%205/data/Example1.txt'\n",
    "\n",
    "path = os.path.join(os.getcwd(), 'Example1.txt')\n",
    "r=requests.get(url)\n",
    "with open(path, 'wb') as file:\n",
    "    file.write(r.content)"
   ]
  },
  {
   "cell_type": "code",
   "execution_count": null,
   "id": "5c78cb85",
   "metadata": {},
   "outputs": [],
   "source": []
  },
  {
   "cell_type": "code",
   "execution_count": null,
   "id": "f5c5c686",
   "metadata": {},
   "outputs": [],
   "source": []
  },
  {
   "cell_type": "code",
   "execution_count": 46,
   "id": "23d8ceb5",
   "metadata": {},
   "outputs": [
    {
     "ename": "NameError",
     "evalue": "name 'get_cell' is not defined",
     "output_type": "error",
     "traceback": [
      "\u001b[1;31m---------------------------------------------------------------------------\u001b[0m",
      "\u001b[1;31mNameError\u001b[0m                                 Traceback (most recent call last)",
      "\u001b[1;32m~\\AppData\\Local\\Temp/ipykernel_9236/4248340153.py\u001b[0m in \u001b[0;36m<module>\u001b[1;34m\u001b[0m\n\u001b[0;32m      1\u001b[0m \u001b[1;31m## **Get Methods**\u001b[0m\u001b[1;33m\u001b[0m\u001b[1;33m\u001b[0m\u001b[0m\n\u001b[0;32m      2\u001b[0m \u001b[1;33m\u001b[0m\u001b[0m\n\u001b[1;32m----> 3\u001b[1;33m \u001b[1;33m-\u001b[0m \u001b[0mget_cell\u001b[0m\u001b[1;33m(\u001b[0m\u001b[1;33m)\u001b[0m\u001b[1;33m\u001b[0m\u001b[1;33m\u001b[0m\u001b[0m\n\u001b[0m\u001b[0;32m      4\u001b[0m \u001b[1;33m-\u001b[0m \u001b[0mget_city\u001b[0m\u001b[1;33m(\u001b[0m\u001b[1;33m)\u001b[0m\u001b[1;33m\u001b[0m\u001b[1;33m\u001b[0m\u001b[0m\n\u001b[0;32m      5\u001b[0m \u001b[1;33m-\u001b[0m \u001b[0mget_dob\u001b[0m\u001b[1;33m(\u001b[0m\u001b[1;33m)\u001b[0m\u001b[1;33m\u001b[0m\u001b[1;33m\u001b[0m\u001b[0m\n",
      "\u001b[1;31mNameError\u001b[0m: name 'get_cell' is not defined"
     ]
    }
   ],
   "source": [
    "## **Get Methods**\n",
    "\n",
    "- get_cell()\n",
    "- get_city()\n",
    "- get_dob()\n",
    "- get_email()\n",
    "- get_first_name()\n",
    "- get_full_name()\n",
    "- get_gender()\n",
    "- get_id()\n",
    "- get_id_number()\n",
    "- get_id_type()\n",
    "- get_info()\n",
    "- get_last_name()\n",
    "- get_login_md5()\n",
    "- get_login_salt()\n",
    "- get_login_sha1()\n",
    "- get_login_sha256()\n",
    "- get_nat()\n",
    "- get_password()\n",
    "- get_phone()\n",
    "- get_picture()\n",
    "- get_postcode()\n",
    "- get_registered()\n",
    "- get_state()\n",
    "- get_street()\n",
    "- get_username()\n",
    "- get_zipcode()\n"
   ]
  },
  {
   "cell_type": "code",
   "execution_count": 53,
   "id": "5cbe1ee1",
   "metadata": {},
   "outputs": [],
   "source": [
    "import requests\n",
    "import pandas as pd\n",
    "import json"
   ]
  },
  {
   "cell_type": "code",
   "execution_count": 54,
   "id": "36464cfd",
   "metadata": {},
   "outputs": [],
   "source": [
    "data = requests.get(\"https://fruityvice.com/api/fruit/all\")"
   ]
  },
  {
   "cell_type": "code",
   "execution_count": 55,
   "id": "f71e0d44",
   "metadata": {},
   "outputs": [],
   "source": [
    "results = json.loads(data.text)"
   ]
  },
  {
   "cell_type": "code",
   "execution_count": 56,
   "id": "173a4bb8",
   "metadata": {},
   "outputs": [
    {
     "data": {
      "text/html": [
       "<div>\n",
       "<style scoped>\n",
       "    .dataframe tbody tr th:only-of-type {\n",
       "        vertical-align: middle;\n",
       "    }\n",
       "\n",
       "    .dataframe tbody tr th {\n",
       "        vertical-align: top;\n",
       "    }\n",
       "\n",
       "    .dataframe thead th {\n",
       "        text-align: right;\n",
       "    }\n",
       "</style>\n",
       "<table border=\"1\" class=\"dataframe\">\n",
       "  <thead>\n",
       "    <tr style=\"text-align: right;\">\n",
       "      <th></th>\n",
       "      <th>name</th>\n",
       "      <th>id</th>\n",
       "      <th>family</th>\n",
       "      <th>order</th>\n",
       "      <th>genus</th>\n",
       "      <th>nutritions</th>\n",
       "    </tr>\n",
       "  </thead>\n",
       "  <tbody>\n",
       "    <tr>\n",
       "      <th>0</th>\n",
       "      <td>Persimmon</td>\n",
       "      <td>52</td>\n",
       "      <td>Ebenaceae</td>\n",
       "      <td>Rosales</td>\n",
       "      <td>Diospyros</td>\n",
       "      <td>{'calories': 81, 'fat': 0.0, 'sugar': 18.0, 'c...</td>\n",
       "    </tr>\n",
       "    <tr>\n",
       "      <th>1</th>\n",
       "      <td>Strawberry</td>\n",
       "      <td>3</td>\n",
       "      <td>Rosaceae</td>\n",
       "      <td>Rosales</td>\n",
       "      <td>Fragaria</td>\n",
       "      <td>{'calories': 29, 'fat': 0.4, 'sugar': 5.4, 'ca...</td>\n",
       "    </tr>\n",
       "    <tr>\n",
       "      <th>2</th>\n",
       "      <td>Banana</td>\n",
       "      <td>1</td>\n",
       "      <td>Musaceae</td>\n",
       "      <td>Zingiberales</td>\n",
       "      <td>Musa</td>\n",
       "      <td>{'calories': 96, 'fat': 0.2, 'sugar': 17.2, 'c...</td>\n",
       "    </tr>\n",
       "    <tr>\n",
       "      <th>3</th>\n",
       "      <td>Tomato</td>\n",
       "      <td>5</td>\n",
       "      <td>Solanaceae</td>\n",
       "      <td>Solanales</td>\n",
       "      <td>Solanum</td>\n",
       "      <td>{'calories': 74, 'fat': 0.2, 'sugar': 2.6, 'ca...</td>\n",
       "    </tr>\n",
       "    <tr>\n",
       "      <th>4</th>\n",
       "      <td>Pear</td>\n",
       "      <td>4</td>\n",
       "      <td>Rosaceae</td>\n",
       "      <td>Rosales</td>\n",
       "      <td>Pyrus</td>\n",
       "      <td>{'calories': 57, 'fat': 0.1, 'sugar': 10.0, 'c...</td>\n",
       "    </tr>\n",
       "    <tr>\n",
       "      <th>5</th>\n",
       "      <td>Durian</td>\n",
       "      <td>60</td>\n",
       "      <td>Malvaceae</td>\n",
       "      <td>Malvales</td>\n",
       "      <td>Durio</td>\n",
       "      <td>{'calories': 147, 'fat': 5.3, 'sugar': 6.75, '...</td>\n",
       "    </tr>\n",
       "    <tr>\n",
       "      <th>6</th>\n",
       "      <td>Blackberry</td>\n",
       "      <td>64</td>\n",
       "      <td>Rosaceae</td>\n",
       "      <td>Rosales</td>\n",
       "      <td>Rubus</td>\n",
       "      <td>{'calories': 40, 'fat': 0.4, 'sugar': 4.5, 'ca...</td>\n",
       "    </tr>\n",
       "    <tr>\n",
       "      <th>7</th>\n",
       "      <td>Lingonberry</td>\n",
       "      <td>65</td>\n",
       "      <td>Ericaceae</td>\n",
       "      <td>Ericales</td>\n",
       "      <td>Vaccinium</td>\n",
       "      <td>{'calories': 50, 'fat': 0.34, 'sugar': 5.74, '...</td>\n",
       "    </tr>\n",
       "    <tr>\n",
       "      <th>8</th>\n",
       "      <td>Kiwi</td>\n",
       "      <td>66</td>\n",
       "      <td>Actinidiaceae</td>\n",
       "      <td>Struthioniformes</td>\n",
       "      <td>Apteryx</td>\n",
       "      <td>{'calories': 61, 'fat': 0.5, 'sugar': 9.0, 'ca...</td>\n",
       "    </tr>\n",
       "    <tr>\n",
       "      <th>9</th>\n",
       "      <td>Lychee</td>\n",
       "      <td>67</td>\n",
       "      <td>Sapindaceae</td>\n",
       "      <td>Sapindales</td>\n",
       "      <td>Litchi</td>\n",
       "      <td>{'calories': 66, 'fat': 0.44, 'sugar': 15.0, '...</td>\n",
       "    </tr>\n",
       "    <tr>\n",
       "      <th>10</th>\n",
       "      <td>Pineapple</td>\n",
       "      <td>10</td>\n",
       "      <td>Bromeliaceae</td>\n",
       "      <td>Poales</td>\n",
       "      <td>Ananas</td>\n",
       "      <td>{'calories': 50, 'fat': 0.12, 'sugar': 9.85, '...</td>\n",
       "    </tr>\n",
       "    <tr>\n",
       "      <th>11</th>\n",
       "      <td>Fig</td>\n",
       "      <td>68</td>\n",
       "      <td>Moraceae</td>\n",
       "      <td>Rosales</td>\n",
       "      <td>Ficus</td>\n",
       "      <td>{'calories': 74, 'fat': 0.3, 'sugar': 16.0, 'c...</td>\n",
       "    </tr>\n",
       "    <tr>\n",
       "      <th>12</th>\n",
       "      <td>Gooseberry</td>\n",
       "      <td>69</td>\n",
       "      <td>Grossulariaceae</td>\n",
       "      <td>Saxifragales</td>\n",
       "      <td>Ribes</td>\n",
       "      <td>{'calories': 44, 'fat': 0.6, 'sugar': 0.0, 'ca...</td>\n",
       "    </tr>\n",
       "    <tr>\n",
       "      <th>13</th>\n",
       "      <td>Passionfruit</td>\n",
       "      <td>70</td>\n",
       "      <td>Passifloraceae</td>\n",
       "      <td>Malpighiales</td>\n",
       "      <td>Passiflora</td>\n",
       "      <td>{'calories': 97, 'fat': 0.7, 'sugar': 11.2, 'c...</td>\n",
       "    </tr>\n",
       "    <tr>\n",
       "      <th>14</th>\n",
       "      <td>Plum</td>\n",
       "      <td>71</td>\n",
       "      <td>Rosaceae</td>\n",
       "      <td>Rosales</td>\n",
       "      <td>Prunus</td>\n",
       "      <td>{'calories': 46, 'fat': 0.28, 'sugar': 9.92, '...</td>\n",
       "    </tr>\n",
       "    <tr>\n",
       "      <th>15</th>\n",
       "      <td>Orange</td>\n",
       "      <td>2</td>\n",
       "      <td>Rutaceae</td>\n",
       "      <td>Sapindales</td>\n",
       "      <td>Citrus</td>\n",
       "      <td>{'calories': 43, 'fat': 0.2, 'sugar': 8.2, 'ca...</td>\n",
       "    </tr>\n",
       "    <tr>\n",
       "      <th>16</th>\n",
       "      <td>GreenApple</td>\n",
       "      <td>72</td>\n",
       "      <td>Rosaceae</td>\n",
       "      <td>Rosales</td>\n",
       "      <td>Malus</td>\n",
       "      <td>{'calories': 21, 'fat': 0.1, 'sugar': 6.4, 'ca...</td>\n",
       "    </tr>\n",
       "    <tr>\n",
       "      <th>17</th>\n",
       "      <td>Raspberry</td>\n",
       "      <td>23</td>\n",
       "      <td>Rosaceae</td>\n",
       "      <td>Rosales</td>\n",
       "      <td>Rubus</td>\n",
       "      <td>{'calories': 53, 'fat': 0.7, 'sugar': 4.4, 'ca...</td>\n",
       "    </tr>\n",
       "    <tr>\n",
       "      <th>18</th>\n",
       "      <td>Watermelon</td>\n",
       "      <td>25</td>\n",
       "      <td>Cucurbitaceae</td>\n",
       "      <td>Cucurbitales</td>\n",
       "      <td>Citrullus</td>\n",
       "      <td>{'calories': 30, 'fat': 0.2, 'sugar': 6.0, 'ca...</td>\n",
       "    </tr>\n",
       "    <tr>\n",
       "      <th>19</th>\n",
       "      <td>Lemon</td>\n",
       "      <td>26</td>\n",
       "      <td>Rutaceae</td>\n",
       "      <td>Sapindales</td>\n",
       "      <td>Citrus</td>\n",
       "      <td>{'calories': 29, 'fat': 0.3, 'sugar': 2.5, 'ca...</td>\n",
       "    </tr>\n",
       "    <tr>\n",
       "      <th>20</th>\n",
       "      <td>Mango</td>\n",
       "      <td>27</td>\n",
       "      <td>Anacardiaceae</td>\n",
       "      <td>Sapindales</td>\n",
       "      <td>Mangifera</td>\n",
       "      <td>{'calories': 60, 'fat': 0.38, 'sugar': 13.7, '...</td>\n",
       "    </tr>\n",
       "    <tr>\n",
       "      <th>21</th>\n",
       "      <td>Blueberry</td>\n",
       "      <td>33</td>\n",
       "      <td>Rosaceae</td>\n",
       "      <td>Rosales</td>\n",
       "      <td>Fragaria</td>\n",
       "      <td>{'calories': 29, 'fat': 0.4, 'sugar': 5.4, 'ca...</td>\n",
       "    </tr>\n",
       "    <tr>\n",
       "      <th>22</th>\n",
       "      <td>Apple</td>\n",
       "      <td>6</td>\n",
       "      <td>Rosaceae</td>\n",
       "      <td>Rosales</td>\n",
       "      <td>Malus</td>\n",
       "      <td>{'calories': 52, 'fat': 0.4, 'sugar': 10.3, 'c...</td>\n",
       "    </tr>\n",
       "    <tr>\n",
       "      <th>23</th>\n",
       "      <td>Guava</td>\n",
       "      <td>37</td>\n",
       "      <td>Myrtaceae</td>\n",
       "      <td>Myrtales</td>\n",
       "      <td>Psidium</td>\n",
       "      <td>{'calories': 68, 'fat': 1.0, 'sugar': 9.0, 'ca...</td>\n",
       "    </tr>\n",
       "    <tr>\n",
       "      <th>24</th>\n",
       "      <td>Apricot</td>\n",
       "      <td>35</td>\n",
       "      <td>Rosaceae</td>\n",
       "      <td>Rosales</td>\n",
       "      <td>Prunus</td>\n",
       "      <td>{'calories': 15, 'fat': 0.1, 'sugar': 3.2, 'ca...</td>\n",
       "    </tr>\n",
       "    <tr>\n",
       "      <th>25</th>\n",
       "      <td>Papaya</td>\n",
       "      <td>42</td>\n",
       "      <td>Caricaceae</td>\n",
       "      <td>Caricacea</td>\n",
       "      <td>Carica</td>\n",
       "      <td>{'calories': 43, 'fat': 0.4, 'sugar': 1.0, 'ca...</td>\n",
       "    </tr>\n",
       "    <tr>\n",
       "      <th>26</th>\n",
       "      <td>Melon</td>\n",
       "      <td>41</td>\n",
       "      <td>Cucurbitaceae</td>\n",
       "      <td>Cucurbitaceae</td>\n",
       "      <td>Cucumis</td>\n",
       "      <td>{'calories': 34, 'fat': 0.0, 'sugar': 8.0, 'ca...</td>\n",
       "    </tr>\n",
       "    <tr>\n",
       "      <th>27</th>\n",
       "      <td>Tangerine</td>\n",
       "      <td>77</td>\n",
       "      <td>Rutaceae</td>\n",
       "      <td>Sapindales</td>\n",
       "      <td>Citrus</td>\n",
       "      <td>{'calories': 45, 'fat': 0.4, 'sugar': 9.1, 'ca...</td>\n",
       "    </tr>\n",
       "    <tr>\n",
       "      <th>28</th>\n",
       "      <td>Pitahaya</td>\n",
       "      <td>78</td>\n",
       "      <td>Cactaceae</td>\n",
       "      <td>Caryophyllales</td>\n",
       "      <td>Cactaceae</td>\n",
       "      <td>{'calories': 36, 'fat': 0.4, 'sugar': 3.0, 'ca...</td>\n",
       "    </tr>\n",
       "    <tr>\n",
       "      <th>29</th>\n",
       "      <td>Lime</td>\n",
       "      <td>44</td>\n",
       "      <td>Rutaceae</td>\n",
       "      <td>Sapindales</td>\n",
       "      <td>Citrus</td>\n",
       "      <td>{'calories': 25, 'fat': 0.1, 'sugar': 1.7, 'ca...</td>\n",
       "    </tr>\n",
       "    <tr>\n",
       "      <th>30</th>\n",
       "      <td>Pomegranate</td>\n",
       "      <td>79</td>\n",
       "      <td>Lythraceae</td>\n",
       "      <td>Myrtales</td>\n",
       "      <td>Punica</td>\n",
       "      <td>{'calories': 83, 'fat': 1.2, 'sugar': 13.7, 'c...</td>\n",
       "    </tr>\n",
       "    <tr>\n",
       "      <th>31</th>\n",
       "      <td>Dragonfruit</td>\n",
       "      <td>80</td>\n",
       "      <td>Cactaceae</td>\n",
       "      <td>Caryophyllales</td>\n",
       "      <td>Selenicereus</td>\n",
       "      <td>{'calories': 60, 'fat': 1.5, 'sugar': 8.0, 'ca...</td>\n",
       "    </tr>\n",
       "    <tr>\n",
       "      <th>32</th>\n",
       "      <td>Grape</td>\n",
       "      <td>81</td>\n",
       "      <td>Vitaceae</td>\n",
       "      <td>Vitales</td>\n",
       "      <td>Vitis</td>\n",
       "      <td>{'calories': 69, 'fat': 0.16, 'sugar': 16.0, '...</td>\n",
       "    </tr>\n",
       "    <tr>\n",
       "      <th>33</th>\n",
       "      <td>Morus</td>\n",
       "      <td>82</td>\n",
       "      <td>Moraceae</td>\n",
       "      <td>Rosales</td>\n",
       "      <td>Morus</td>\n",
       "      <td>{'calories': 43, 'fat': 0.39, 'sugar': 8.1, 'c...</td>\n",
       "    </tr>\n",
       "    <tr>\n",
       "      <th>34</th>\n",
       "      <td>Feijoa</td>\n",
       "      <td>76</td>\n",
       "      <td>Myrtaceae</td>\n",
       "      <td>Myrtoideae</td>\n",
       "      <td>Sellowiana</td>\n",
       "      <td>{'calories': 44, 'fat': 0.4, 'sugar': 3.0, 'ca...</td>\n",
       "    </tr>\n",
       "    <tr>\n",
       "      <th>35</th>\n",
       "      <td>Avocado</td>\n",
       "      <td>84</td>\n",
       "      <td>Lauraceae</td>\n",
       "      <td>Laurales</td>\n",
       "      <td>Persea</td>\n",
       "      <td>{'calories': 160, 'fat': 14.66, 'sugar': 0.66,...</td>\n",
       "    </tr>\n",
       "    <tr>\n",
       "      <th>36</th>\n",
       "      <td>Kiwifruit</td>\n",
       "      <td>85</td>\n",
       "      <td>Actinidiaceae</td>\n",
       "      <td>Ericales</td>\n",
       "      <td>Actinidia</td>\n",
       "      <td>{'calories': 61, 'fat': 0.5, 'sugar': 8.9, 'ca...</td>\n",
       "    </tr>\n",
       "    <tr>\n",
       "      <th>37</th>\n",
       "      <td>Cranberry</td>\n",
       "      <td>87</td>\n",
       "      <td>Ericaceae</td>\n",
       "      <td>Ericales</td>\n",
       "      <td>Vaccinium</td>\n",
       "      <td>{'calories': 46, 'fat': 0.1, 'sugar': 4.0, 'ca...</td>\n",
       "    </tr>\n",
       "    <tr>\n",
       "      <th>38</th>\n",
       "      <td>Cherry</td>\n",
       "      <td>9</td>\n",
       "      <td>Rosaceae</td>\n",
       "      <td>Rosales</td>\n",
       "      <td>Prunus</td>\n",
       "      <td>{'calories': 50, 'fat': 0.3, 'sugar': 8.0, 'ca...</td>\n",
       "    </tr>\n",
       "    <tr>\n",
       "      <th>39</th>\n",
       "      <td>Peach</td>\n",
       "      <td>86</td>\n",
       "      <td>Rosaceae</td>\n",
       "      <td>Rosales</td>\n",
       "      <td>Prunus</td>\n",
       "      <td>{'calories': 39, 'fat': 0.25, 'sugar': 8.4, 'c...</td>\n",
       "    </tr>\n",
       "    <tr>\n",
       "      <th>40</th>\n",
       "      <td>Jackfruit</td>\n",
       "      <td>94</td>\n",
       "      <td>Moraceae</td>\n",
       "      <td>Rosales</td>\n",
       "      <td>Artocarpus</td>\n",
       "      <td>{'calories': 95, 'fat': 0.0, 'sugar': 19.1, 'c...</td>\n",
       "    </tr>\n",
       "    <tr>\n",
       "      <th>41</th>\n",
       "      <td>Horned Melon</td>\n",
       "      <td>95</td>\n",
       "      <td>Cucurbitaceae</td>\n",
       "      <td>Cucurbitales</td>\n",
       "      <td>Cucumis</td>\n",
       "      <td>{'calories': 44, 'fat': 1.26, 'sugar': 0.5, 'c...</td>\n",
       "    </tr>\n",
       "    <tr>\n",
       "      <th>42</th>\n",
       "      <td>Hazelnut</td>\n",
       "      <td>96</td>\n",
       "      <td>Betulaceae</td>\n",
       "      <td>Fagales</td>\n",
       "      <td>Corylus</td>\n",
       "      <td>{'calories': 628, 'fat': 61.0, 'sugar': 4.3, '...</td>\n",
       "    </tr>\n",
       "    <tr>\n",
       "      <th>43</th>\n",
       "      <td>Pomelo</td>\n",
       "      <td>98</td>\n",
       "      <td>Rutaceae</td>\n",
       "      <td>Sapindales</td>\n",
       "      <td>Citrus</td>\n",
       "      <td>{'calories': 37, 'fat': 0.0, 'sugar': 8.5, 'ca...</td>\n",
       "    </tr>\n",
       "    <tr>\n",
       "      <th>44</th>\n",
       "      <td>Mangosteen</td>\n",
       "      <td>99</td>\n",
       "      <td>Clusiaceae</td>\n",
       "      <td>Malpighiales</td>\n",
       "      <td>Garcinia</td>\n",
       "      <td>{'calories': 73, 'fat': 0.58, 'sugar': 16.11, ...</td>\n",
       "    </tr>\n",
       "  </tbody>\n",
       "</table>\n",
       "</div>"
      ],
      "text/plain": [
       "            name  id           family             order         genus  \\\n",
       "0      Persimmon  52        Ebenaceae           Rosales     Diospyros   \n",
       "1     Strawberry   3         Rosaceae           Rosales      Fragaria   \n",
       "2         Banana   1         Musaceae      Zingiberales          Musa   \n",
       "3         Tomato   5       Solanaceae         Solanales       Solanum   \n",
       "4           Pear   4         Rosaceae           Rosales         Pyrus   \n",
       "5         Durian  60        Malvaceae          Malvales         Durio   \n",
       "6     Blackberry  64         Rosaceae           Rosales         Rubus   \n",
       "7    Lingonberry  65        Ericaceae          Ericales     Vaccinium   \n",
       "8           Kiwi  66    Actinidiaceae  Struthioniformes       Apteryx   \n",
       "9         Lychee  67      Sapindaceae        Sapindales        Litchi   \n",
       "10     Pineapple  10     Bromeliaceae            Poales        Ananas   \n",
       "11           Fig  68         Moraceae           Rosales         Ficus   \n",
       "12    Gooseberry  69  Grossulariaceae      Saxifragales         Ribes   \n",
       "13  Passionfruit  70   Passifloraceae      Malpighiales    Passiflora   \n",
       "14          Plum  71         Rosaceae           Rosales        Prunus   \n",
       "15        Orange   2         Rutaceae        Sapindales        Citrus   \n",
       "16    GreenApple  72         Rosaceae           Rosales         Malus   \n",
       "17     Raspberry  23         Rosaceae           Rosales         Rubus   \n",
       "18    Watermelon  25    Cucurbitaceae      Cucurbitales     Citrullus   \n",
       "19         Lemon  26         Rutaceae        Sapindales        Citrus   \n",
       "20         Mango  27    Anacardiaceae        Sapindales     Mangifera   \n",
       "21     Blueberry  33         Rosaceae           Rosales      Fragaria   \n",
       "22         Apple   6         Rosaceae           Rosales         Malus   \n",
       "23         Guava  37        Myrtaceae          Myrtales       Psidium   \n",
       "24       Apricot  35         Rosaceae           Rosales        Prunus   \n",
       "25        Papaya  42       Caricaceae         Caricacea        Carica   \n",
       "26         Melon  41    Cucurbitaceae     Cucurbitaceae       Cucumis   \n",
       "27     Tangerine  77         Rutaceae        Sapindales        Citrus   \n",
       "28      Pitahaya  78        Cactaceae    Caryophyllales     Cactaceae   \n",
       "29          Lime  44         Rutaceae        Sapindales        Citrus   \n",
       "30   Pomegranate  79       Lythraceae          Myrtales        Punica   \n",
       "31   Dragonfruit  80        Cactaceae    Caryophyllales  Selenicereus   \n",
       "32         Grape  81         Vitaceae           Vitales         Vitis   \n",
       "33         Morus  82         Moraceae           Rosales         Morus   \n",
       "34        Feijoa  76        Myrtaceae        Myrtoideae    Sellowiana   \n",
       "35       Avocado  84        Lauraceae          Laurales        Persea   \n",
       "36     Kiwifruit  85    Actinidiaceae          Ericales     Actinidia   \n",
       "37     Cranberry  87        Ericaceae          Ericales     Vaccinium   \n",
       "38        Cherry   9         Rosaceae           Rosales        Prunus   \n",
       "39         Peach  86         Rosaceae           Rosales        Prunus   \n",
       "40     Jackfruit  94         Moraceae           Rosales    Artocarpus   \n",
       "41  Horned Melon  95    Cucurbitaceae      Cucurbitales       Cucumis   \n",
       "42      Hazelnut  96       Betulaceae           Fagales       Corylus   \n",
       "43        Pomelo  98         Rutaceae        Sapindales        Citrus   \n",
       "44    Mangosteen  99       Clusiaceae      Malpighiales      Garcinia   \n",
       "\n",
       "                                           nutritions  \n",
       "0   {'calories': 81, 'fat': 0.0, 'sugar': 18.0, 'c...  \n",
       "1   {'calories': 29, 'fat': 0.4, 'sugar': 5.4, 'ca...  \n",
       "2   {'calories': 96, 'fat': 0.2, 'sugar': 17.2, 'c...  \n",
       "3   {'calories': 74, 'fat': 0.2, 'sugar': 2.6, 'ca...  \n",
       "4   {'calories': 57, 'fat': 0.1, 'sugar': 10.0, 'c...  \n",
       "5   {'calories': 147, 'fat': 5.3, 'sugar': 6.75, '...  \n",
       "6   {'calories': 40, 'fat': 0.4, 'sugar': 4.5, 'ca...  \n",
       "7   {'calories': 50, 'fat': 0.34, 'sugar': 5.74, '...  \n",
       "8   {'calories': 61, 'fat': 0.5, 'sugar': 9.0, 'ca...  \n",
       "9   {'calories': 66, 'fat': 0.44, 'sugar': 15.0, '...  \n",
       "10  {'calories': 50, 'fat': 0.12, 'sugar': 9.85, '...  \n",
       "11  {'calories': 74, 'fat': 0.3, 'sugar': 16.0, 'c...  \n",
       "12  {'calories': 44, 'fat': 0.6, 'sugar': 0.0, 'ca...  \n",
       "13  {'calories': 97, 'fat': 0.7, 'sugar': 11.2, 'c...  \n",
       "14  {'calories': 46, 'fat': 0.28, 'sugar': 9.92, '...  \n",
       "15  {'calories': 43, 'fat': 0.2, 'sugar': 8.2, 'ca...  \n",
       "16  {'calories': 21, 'fat': 0.1, 'sugar': 6.4, 'ca...  \n",
       "17  {'calories': 53, 'fat': 0.7, 'sugar': 4.4, 'ca...  \n",
       "18  {'calories': 30, 'fat': 0.2, 'sugar': 6.0, 'ca...  \n",
       "19  {'calories': 29, 'fat': 0.3, 'sugar': 2.5, 'ca...  \n",
       "20  {'calories': 60, 'fat': 0.38, 'sugar': 13.7, '...  \n",
       "21  {'calories': 29, 'fat': 0.4, 'sugar': 5.4, 'ca...  \n",
       "22  {'calories': 52, 'fat': 0.4, 'sugar': 10.3, 'c...  \n",
       "23  {'calories': 68, 'fat': 1.0, 'sugar': 9.0, 'ca...  \n",
       "24  {'calories': 15, 'fat': 0.1, 'sugar': 3.2, 'ca...  \n",
       "25  {'calories': 43, 'fat': 0.4, 'sugar': 1.0, 'ca...  \n",
       "26  {'calories': 34, 'fat': 0.0, 'sugar': 8.0, 'ca...  \n",
       "27  {'calories': 45, 'fat': 0.4, 'sugar': 9.1, 'ca...  \n",
       "28  {'calories': 36, 'fat': 0.4, 'sugar': 3.0, 'ca...  \n",
       "29  {'calories': 25, 'fat': 0.1, 'sugar': 1.7, 'ca...  \n",
       "30  {'calories': 83, 'fat': 1.2, 'sugar': 13.7, 'c...  \n",
       "31  {'calories': 60, 'fat': 1.5, 'sugar': 8.0, 'ca...  \n",
       "32  {'calories': 69, 'fat': 0.16, 'sugar': 16.0, '...  \n",
       "33  {'calories': 43, 'fat': 0.39, 'sugar': 8.1, 'c...  \n",
       "34  {'calories': 44, 'fat': 0.4, 'sugar': 3.0, 'ca...  \n",
       "35  {'calories': 160, 'fat': 14.66, 'sugar': 0.66,...  \n",
       "36  {'calories': 61, 'fat': 0.5, 'sugar': 8.9, 'ca...  \n",
       "37  {'calories': 46, 'fat': 0.1, 'sugar': 4.0, 'ca...  \n",
       "38  {'calories': 50, 'fat': 0.3, 'sugar': 8.0, 'ca...  \n",
       "39  {'calories': 39, 'fat': 0.25, 'sugar': 8.4, 'c...  \n",
       "40  {'calories': 95, 'fat': 0.0, 'sugar': 19.1, 'c...  \n",
       "41  {'calories': 44, 'fat': 1.26, 'sugar': 0.5, 'c...  \n",
       "42  {'calories': 628, 'fat': 61.0, 'sugar': 4.3, '...  \n",
       "43  {'calories': 37, 'fat': 0.0, 'sugar': 8.5, 'ca...  \n",
       "44  {'calories': 73, 'fat': 0.58, 'sugar': 16.11, ...  "
      ]
     },
     "execution_count": 56,
     "metadata": {},
     "output_type": "execute_result"
    }
   ],
   "source": [
    "pd.DataFrame(results)"
   ]
  },
  {
   "cell_type": "code",
   "execution_count": 57,
   "id": "05625d8c",
   "metadata": {},
   "outputs": [
    {
     "data": {
      "text/html": [
       "<div>\n",
       "<style scoped>\n",
       "    .dataframe tbody tr th:only-of-type {\n",
       "        vertical-align: middle;\n",
       "    }\n",
       "\n",
       "    .dataframe tbody tr th {\n",
       "        vertical-align: top;\n",
       "    }\n",
       "\n",
       "    .dataframe thead th {\n",
       "        text-align: right;\n",
       "    }\n",
       "</style>\n",
       "<table border=\"1\" class=\"dataframe\">\n",
       "  <thead>\n",
       "    <tr style=\"text-align: right;\">\n",
       "      <th></th>\n",
       "      <th>name</th>\n",
       "      <th>id</th>\n",
       "      <th>family</th>\n",
       "      <th>order</th>\n",
       "      <th>genus</th>\n",
       "      <th>nutritions.calories</th>\n",
       "      <th>nutritions.fat</th>\n",
       "      <th>nutritions.sugar</th>\n",
       "      <th>nutritions.carbohydrates</th>\n",
       "      <th>nutritions.protein</th>\n",
       "    </tr>\n",
       "  </thead>\n",
       "  <tbody>\n",
       "    <tr>\n",
       "      <th>0</th>\n",
       "      <td>Persimmon</td>\n",
       "      <td>52</td>\n",
       "      <td>Ebenaceae</td>\n",
       "      <td>Rosales</td>\n",
       "      <td>Diospyros</td>\n",
       "      <td>81</td>\n",
       "      <td>0.00</td>\n",
       "      <td>18.00</td>\n",
       "      <td>18.00</td>\n",
       "      <td>0.00</td>\n",
       "    </tr>\n",
       "    <tr>\n",
       "      <th>1</th>\n",
       "      <td>Strawberry</td>\n",
       "      <td>3</td>\n",
       "      <td>Rosaceae</td>\n",
       "      <td>Rosales</td>\n",
       "      <td>Fragaria</td>\n",
       "      <td>29</td>\n",
       "      <td>0.40</td>\n",
       "      <td>5.40</td>\n",
       "      <td>5.50</td>\n",
       "      <td>0.80</td>\n",
       "    </tr>\n",
       "    <tr>\n",
       "      <th>2</th>\n",
       "      <td>Banana</td>\n",
       "      <td>1</td>\n",
       "      <td>Musaceae</td>\n",
       "      <td>Zingiberales</td>\n",
       "      <td>Musa</td>\n",
       "      <td>96</td>\n",
       "      <td>0.20</td>\n",
       "      <td>17.20</td>\n",
       "      <td>22.00</td>\n",
       "      <td>1.00</td>\n",
       "    </tr>\n",
       "    <tr>\n",
       "      <th>3</th>\n",
       "      <td>Tomato</td>\n",
       "      <td>5</td>\n",
       "      <td>Solanaceae</td>\n",
       "      <td>Solanales</td>\n",
       "      <td>Solanum</td>\n",
       "      <td>74</td>\n",
       "      <td>0.20</td>\n",
       "      <td>2.60</td>\n",
       "      <td>3.90</td>\n",
       "      <td>0.90</td>\n",
       "    </tr>\n",
       "    <tr>\n",
       "      <th>4</th>\n",
       "      <td>Pear</td>\n",
       "      <td>4</td>\n",
       "      <td>Rosaceae</td>\n",
       "      <td>Rosales</td>\n",
       "      <td>Pyrus</td>\n",
       "      <td>57</td>\n",
       "      <td>0.10</td>\n",
       "      <td>10.00</td>\n",
       "      <td>15.00</td>\n",
       "      <td>0.40</td>\n",
       "    </tr>\n",
       "    <tr>\n",
       "      <th>5</th>\n",
       "      <td>Durian</td>\n",
       "      <td>60</td>\n",
       "      <td>Malvaceae</td>\n",
       "      <td>Malvales</td>\n",
       "      <td>Durio</td>\n",
       "      <td>147</td>\n",
       "      <td>5.30</td>\n",
       "      <td>6.75</td>\n",
       "      <td>27.10</td>\n",
       "      <td>1.50</td>\n",
       "    </tr>\n",
       "    <tr>\n",
       "      <th>6</th>\n",
       "      <td>Blackberry</td>\n",
       "      <td>64</td>\n",
       "      <td>Rosaceae</td>\n",
       "      <td>Rosales</td>\n",
       "      <td>Rubus</td>\n",
       "      <td>40</td>\n",
       "      <td>0.40</td>\n",
       "      <td>4.50</td>\n",
       "      <td>9.00</td>\n",
       "      <td>1.30</td>\n",
       "    </tr>\n",
       "    <tr>\n",
       "      <th>7</th>\n",
       "      <td>Lingonberry</td>\n",
       "      <td>65</td>\n",
       "      <td>Ericaceae</td>\n",
       "      <td>Ericales</td>\n",
       "      <td>Vaccinium</td>\n",
       "      <td>50</td>\n",
       "      <td>0.34</td>\n",
       "      <td>5.74</td>\n",
       "      <td>11.30</td>\n",
       "      <td>0.75</td>\n",
       "    </tr>\n",
       "    <tr>\n",
       "      <th>8</th>\n",
       "      <td>Kiwi</td>\n",
       "      <td>66</td>\n",
       "      <td>Actinidiaceae</td>\n",
       "      <td>Struthioniformes</td>\n",
       "      <td>Apteryx</td>\n",
       "      <td>61</td>\n",
       "      <td>0.50</td>\n",
       "      <td>9.00</td>\n",
       "      <td>15.00</td>\n",
       "      <td>1.10</td>\n",
       "    </tr>\n",
       "    <tr>\n",
       "      <th>9</th>\n",
       "      <td>Lychee</td>\n",
       "      <td>67</td>\n",
       "      <td>Sapindaceae</td>\n",
       "      <td>Sapindales</td>\n",
       "      <td>Litchi</td>\n",
       "      <td>66</td>\n",
       "      <td>0.44</td>\n",
       "      <td>15.00</td>\n",
       "      <td>17.00</td>\n",
       "      <td>0.80</td>\n",
       "    </tr>\n",
       "    <tr>\n",
       "      <th>10</th>\n",
       "      <td>Pineapple</td>\n",
       "      <td>10</td>\n",
       "      <td>Bromeliaceae</td>\n",
       "      <td>Poales</td>\n",
       "      <td>Ananas</td>\n",
       "      <td>50</td>\n",
       "      <td>0.12</td>\n",
       "      <td>9.85</td>\n",
       "      <td>13.12</td>\n",
       "      <td>0.54</td>\n",
       "    </tr>\n",
       "    <tr>\n",
       "      <th>11</th>\n",
       "      <td>Fig</td>\n",
       "      <td>68</td>\n",
       "      <td>Moraceae</td>\n",
       "      <td>Rosales</td>\n",
       "      <td>Ficus</td>\n",
       "      <td>74</td>\n",
       "      <td>0.30</td>\n",
       "      <td>16.00</td>\n",
       "      <td>19.00</td>\n",
       "      <td>0.80</td>\n",
       "    </tr>\n",
       "    <tr>\n",
       "      <th>12</th>\n",
       "      <td>Gooseberry</td>\n",
       "      <td>69</td>\n",
       "      <td>Grossulariaceae</td>\n",
       "      <td>Saxifragales</td>\n",
       "      <td>Ribes</td>\n",
       "      <td>44</td>\n",
       "      <td>0.60</td>\n",
       "      <td>0.00</td>\n",
       "      <td>10.00</td>\n",
       "      <td>0.90</td>\n",
       "    </tr>\n",
       "    <tr>\n",
       "      <th>13</th>\n",
       "      <td>Passionfruit</td>\n",
       "      <td>70</td>\n",
       "      <td>Passifloraceae</td>\n",
       "      <td>Malpighiales</td>\n",
       "      <td>Passiflora</td>\n",
       "      <td>97</td>\n",
       "      <td>0.70</td>\n",
       "      <td>11.20</td>\n",
       "      <td>22.40</td>\n",
       "      <td>2.20</td>\n",
       "    </tr>\n",
       "    <tr>\n",
       "      <th>14</th>\n",
       "      <td>Plum</td>\n",
       "      <td>71</td>\n",
       "      <td>Rosaceae</td>\n",
       "      <td>Rosales</td>\n",
       "      <td>Prunus</td>\n",
       "      <td>46</td>\n",
       "      <td>0.28</td>\n",
       "      <td>9.92</td>\n",
       "      <td>11.40</td>\n",
       "      <td>0.70</td>\n",
       "    </tr>\n",
       "    <tr>\n",
       "      <th>15</th>\n",
       "      <td>Orange</td>\n",
       "      <td>2</td>\n",
       "      <td>Rutaceae</td>\n",
       "      <td>Sapindales</td>\n",
       "      <td>Citrus</td>\n",
       "      <td>43</td>\n",
       "      <td>0.20</td>\n",
       "      <td>8.20</td>\n",
       "      <td>8.30</td>\n",
       "      <td>1.00</td>\n",
       "    </tr>\n",
       "    <tr>\n",
       "      <th>16</th>\n",
       "      <td>GreenApple</td>\n",
       "      <td>72</td>\n",
       "      <td>Rosaceae</td>\n",
       "      <td>Rosales</td>\n",
       "      <td>Malus</td>\n",
       "      <td>21</td>\n",
       "      <td>0.10</td>\n",
       "      <td>6.40</td>\n",
       "      <td>3.10</td>\n",
       "      <td>0.40</td>\n",
       "    </tr>\n",
       "    <tr>\n",
       "      <th>17</th>\n",
       "      <td>Raspberry</td>\n",
       "      <td>23</td>\n",
       "      <td>Rosaceae</td>\n",
       "      <td>Rosales</td>\n",
       "      <td>Rubus</td>\n",
       "      <td>53</td>\n",
       "      <td>0.70</td>\n",
       "      <td>4.40</td>\n",
       "      <td>12.00</td>\n",
       "      <td>1.20</td>\n",
       "    </tr>\n",
       "    <tr>\n",
       "      <th>18</th>\n",
       "      <td>Watermelon</td>\n",
       "      <td>25</td>\n",
       "      <td>Cucurbitaceae</td>\n",
       "      <td>Cucurbitales</td>\n",
       "      <td>Citrullus</td>\n",
       "      <td>30</td>\n",
       "      <td>0.20</td>\n",
       "      <td>6.00</td>\n",
       "      <td>8.00</td>\n",
       "      <td>0.60</td>\n",
       "    </tr>\n",
       "    <tr>\n",
       "      <th>19</th>\n",
       "      <td>Lemon</td>\n",
       "      <td>26</td>\n",
       "      <td>Rutaceae</td>\n",
       "      <td>Sapindales</td>\n",
       "      <td>Citrus</td>\n",
       "      <td>29</td>\n",
       "      <td>0.30</td>\n",
       "      <td>2.50</td>\n",
       "      <td>9.00</td>\n",
       "      <td>1.10</td>\n",
       "    </tr>\n",
       "    <tr>\n",
       "      <th>20</th>\n",
       "      <td>Mango</td>\n",
       "      <td>27</td>\n",
       "      <td>Anacardiaceae</td>\n",
       "      <td>Sapindales</td>\n",
       "      <td>Mangifera</td>\n",
       "      <td>60</td>\n",
       "      <td>0.38</td>\n",
       "      <td>13.70</td>\n",
       "      <td>15.00</td>\n",
       "      <td>0.82</td>\n",
       "    </tr>\n",
       "    <tr>\n",
       "      <th>21</th>\n",
       "      <td>Blueberry</td>\n",
       "      <td>33</td>\n",
       "      <td>Rosaceae</td>\n",
       "      <td>Rosales</td>\n",
       "      <td>Fragaria</td>\n",
       "      <td>29</td>\n",
       "      <td>0.40</td>\n",
       "      <td>5.40</td>\n",
       "      <td>5.50</td>\n",
       "      <td>0.00</td>\n",
       "    </tr>\n",
       "    <tr>\n",
       "      <th>22</th>\n",
       "      <td>Apple</td>\n",
       "      <td>6</td>\n",
       "      <td>Rosaceae</td>\n",
       "      <td>Rosales</td>\n",
       "      <td>Malus</td>\n",
       "      <td>52</td>\n",
       "      <td>0.40</td>\n",
       "      <td>10.30</td>\n",
       "      <td>11.40</td>\n",
       "      <td>0.30</td>\n",
       "    </tr>\n",
       "    <tr>\n",
       "      <th>23</th>\n",
       "      <td>Guava</td>\n",
       "      <td>37</td>\n",
       "      <td>Myrtaceae</td>\n",
       "      <td>Myrtales</td>\n",
       "      <td>Psidium</td>\n",
       "      <td>68</td>\n",
       "      <td>1.00</td>\n",
       "      <td>9.00</td>\n",
       "      <td>14.00</td>\n",
       "      <td>2.60</td>\n",
       "    </tr>\n",
       "    <tr>\n",
       "      <th>24</th>\n",
       "      <td>Apricot</td>\n",
       "      <td>35</td>\n",
       "      <td>Rosaceae</td>\n",
       "      <td>Rosales</td>\n",
       "      <td>Prunus</td>\n",
       "      <td>15</td>\n",
       "      <td>0.10</td>\n",
       "      <td>3.20</td>\n",
       "      <td>3.90</td>\n",
       "      <td>0.50</td>\n",
       "    </tr>\n",
       "    <tr>\n",
       "      <th>25</th>\n",
       "      <td>Papaya</td>\n",
       "      <td>42</td>\n",
       "      <td>Caricaceae</td>\n",
       "      <td>Caricacea</td>\n",
       "      <td>Carica</td>\n",
       "      <td>43</td>\n",
       "      <td>0.40</td>\n",
       "      <td>1.00</td>\n",
       "      <td>11.00</td>\n",
       "      <td>0.00</td>\n",
       "    </tr>\n",
       "    <tr>\n",
       "      <th>26</th>\n",
       "      <td>Melon</td>\n",
       "      <td>41</td>\n",
       "      <td>Cucurbitaceae</td>\n",
       "      <td>Cucurbitaceae</td>\n",
       "      <td>Cucumis</td>\n",
       "      <td>34</td>\n",
       "      <td>0.00</td>\n",
       "      <td>8.00</td>\n",
       "      <td>8.00</td>\n",
       "      <td>0.00</td>\n",
       "    </tr>\n",
       "    <tr>\n",
       "      <th>27</th>\n",
       "      <td>Tangerine</td>\n",
       "      <td>77</td>\n",
       "      <td>Rutaceae</td>\n",
       "      <td>Sapindales</td>\n",
       "      <td>Citrus</td>\n",
       "      <td>45</td>\n",
       "      <td>0.40</td>\n",
       "      <td>9.10</td>\n",
       "      <td>8.30</td>\n",
       "      <td>0.00</td>\n",
       "    </tr>\n",
       "    <tr>\n",
       "      <th>28</th>\n",
       "      <td>Pitahaya</td>\n",
       "      <td>78</td>\n",
       "      <td>Cactaceae</td>\n",
       "      <td>Caryophyllales</td>\n",
       "      <td>Cactaceae</td>\n",
       "      <td>36</td>\n",
       "      <td>0.40</td>\n",
       "      <td>3.00</td>\n",
       "      <td>7.00</td>\n",
       "      <td>1.00</td>\n",
       "    </tr>\n",
       "    <tr>\n",
       "      <th>29</th>\n",
       "      <td>Lime</td>\n",
       "      <td>44</td>\n",
       "      <td>Rutaceae</td>\n",
       "      <td>Sapindales</td>\n",
       "      <td>Citrus</td>\n",
       "      <td>25</td>\n",
       "      <td>0.10</td>\n",
       "      <td>1.70</td>\n",
       "      <td>8.40</td>\n",
       "      <td>0.30</td>\n",
       "    </tr>\n",
       "    <tr>\n",
       "      <th>30</th>\n",
       "      <td>Pomegranate</td>\n",
       "      <td>79</td>\n",
       "      <td>Lythraceae</td>\n",
       "      <td>Myrtales</td>\n",
       "      <td>Punica</td>\n",
       "      <td>83</td>\n",
       "      <td>1.20</td>\n",
       "      <td>13.70</td>\n",
       "      <td>18.70</td>\n",
       "      <td>1.70</td>\n",
       "    </tr>\n",
       "    <tr>\n",
       "      <th>31</th>\n",
       "      <td>Dragonfruit</td>\n",
       "      <td>80</td>\n",
       "      <td>Cactaceae</td>\n",
       "      <td>Caryophyllales</td>\n",
       "      <td>Selenicereus</td>\n",
       "      <td>60</td>\n",
       "      <td>1.50</td>\n",
       "      <td>8.00</td>\n",
       "      <td>9.00</td>\n",
       "      <td>9.00</td>\n",
       "    </tr>\n",
       "    <tr>\n",
       "      <th>32</th>\n",
       "      <td>Grape</td>\n",
       "      <td>81</td>\n",
       "      <td>Vitaceae</td>\n",
       "      <td>Vitales</td>\n",
       "      <td>Vitis</td>\n",
       "      <td>69</td>\n",
       "      <td>0.16</td>\n",
       "      <td>16.00</td>\n",
       "      <td>18.10</td>\n",
       "      <td>0.72</td>\n",
       "    </tr>\n",
       "    <tr>\n",
       "      <th>33</th>\n",
       "      <td>Morus</td>\n",
       "      <td>82</td>\n",
       "      <td>Moraceae</td>\n",
       "      <td>Rosales</td>\n",
       "      <td>Morus</td>\n",
       "      <td>43</td>\n",
       "      <td>0.39</td>\n",
       "      <td>8.10</td>\n",
       "      <td>9.80</td>\n",
       "      <td>1.44</td>\n",
       "    </tr>\n",
       "    <tr>\n",
       "      <th>34</th>\n",
       "      <td>Feijoa</td>\n",
       "      <td>76</td>\n",
       "      <td>Myrtaceae</td>\n",
       "      <td>Myrtoideae</td>\n",
       "      <td>Sellowiana</td>\n",
       "      <td>44</td>\n",
       "      <td>0.40</td>\n",
       "      <td>3.00</td>\n",
       "      <td>8.00</td>\n",
       "      <td>0.60</td>\n",
       "    </tr>\n",
       "    <tr>\n",
       "      <th>35</th>\n",
       "      <td>Avocado</td>\n",
       "      <td>84</td>\n",
       "      <td>Lauraceae</td>\n",
       "      <td>Laurales</td>\n",
       "      <td>Persea</td>\n",
       "      <td>160</td>\n",
       "      <td>14.66</td>\n",
       "      <td>0.66</td>\n",
       "      <td>8.53</td>\n",
       "      <td>2.00</td>\n",
       "    </tr>\n",
       "    <tr>\n",
       "      <th>36</th>\n",
       "      <td>Kiwifruit</td>\n",
       "      <td>85</td>\n",
       "      <td>Actinidiaceae</td>\n",
       "      <td>Ericales</td>\n",
       "      <td>Actinidia</td>\n",
       "      <td>61</td>\n",
       "      <td>0.50</td>\n",
       "      <td>8.90</td>\n",
       "      <td>14.60</td>\n",
       "      <td>1.14</td>\n",
       "    </tr>\n",
       "    <tr>\n",
       "      <th>37</th>\n",
       "      <td>Cranberry</td>\n",
       "      <td>87</td>\n",
       "      <td>Ericaceae</td>\n",
       "      <td>Ericales</td>\n",
       "      <td>Vaccinium</td>\n",
       "      <td>46</td>\n",
       "      <td>0.10</td>\n",
       "      <td>4.00</td>\n",
       "      <td>12.20</td>\n",
       "      <td>0.40</td>\n",
       "    </tr>\n",
       "    <tr>\n",
       "      <th>38</th>\n",
       "      <td>Cherry</td>\n",
       "      <td>9</td>\n",
       "      <td>Rosaceae</td>\n",
       "      <td>Rosales</td>\n",
       "      <td>Prunus</td>\n",
       "      <td>50</td>\n",
       "      <td>0.30</td>\n",
       "      <td>8.00</td>\n",
       "      <td>12.00</td>\n",
       "      <td>1.00</td>\n",
       "    </tr>\n",
       "    <tr>\n",
       "      <th>39</th>\n",
       "      <td>Peach</td>\n",
       "      <td>86</td>\n",
       "      <td>Rosaceae</td>\n",
       "      <td>Rosales</td>\n",
       "      <td>Prunus</td>\n",
       "      <td>39</td>\n",
       "      <td>0.25</td>\n",
       "      <td>8.40</td>\n",
       "      <td>9.50</td>\n",
       "      <td>0.90</td>\n",
       "    </tr>\n",
       "    <tr>\n",
       "      <th>40</th>\n",
       "      <td>Jackfruit</td>\n",
       "      <td>94</td>\n",
       "      <td>Moraceae</td>\n",
       "      <td>Rosales</td>\n",
       "      <td>Artocarpus</td>\n",
       "      <td>95</td>\n",
       "      <td>0.00</td>\n",
       "      <td>19.10</td>\n",
       "      <td>23.20</td>\n",
       "      <td>1.72</td>\n",
       "    </tr>\n",
       "    <tr>\n",
       "      <th>41</th>\n",
       "      <td>Horned Melon</td>\n",
       "      <td>95</td>\n",
       "      <td>Cucurbitaceae</td>\n",
       "      <td>Cucurbitales</td>\n",
       "      <td>Cucumis</td>\n",
       "      <td>44</td>\n",
       "      <td>1.26</td>\n",
       "      <td>0.50</td>\n",
       "      <td>7.56</td>\n",
       "      <td>1.78</td>\n",
       "    </tr>\n",
       "    <tr>\n",
       "      <th>42</th>\n",
       "      <td>Hazelnut</td>\n",
       "      <td>96</td>\n",
       "      <td>Betulaceae</td>\n",
       "      <td>Fagales</td>\n",
       "      <td>Corylus</td>\n",
       "      <td>628</td>\n",
       "      <td>61.00</td>\n",
       "      <td>4.30</td>\n",
       "      <td>17.00</td>\n",
       "      <td>15.00</td>\n",
       "    </tr>\n",
       "    <tr>\n",
       "      <th>43</th>\n",
       "      <td>Pomelo</td>\n",
       "      <td>98</td>\n",
       "      <td>Rutaceae</td>\n",
       "      <td>Sapindales</td>\n",
       "      <td>Citrus</td>\n",
       "      <td>37</td>\n",
       "      <td>0.00</td>\n",
       "      <td>8.50</td>\n",
       "      <td>9.67</td>\n",
       "      <td>0.82</td>\n",
       "    </tr>\n",
       "    <tr>\n",
       "      <th>44</th>\n",
       "      <td>Mangosteen</td>\n",
       "      <td>99</td>\n",
       "      <td>Clusiaceae</td>\n",
       "      <td>Malpighiales</td>\n",
       "      <td>Garcinia</td>\n",
       "      <td>73</td>\n",
       "      <td>0.58</td>\n",
       "      <td>16.11</td>\n",
       "      <td>17.91</td>\n",
       "      <td>0.41</td>\n",
       "    </tr>\n",
       "  </tbody>\n",
       "</table>\n",
       "</div>"
      ],
      "text/plain": [
       "            name  id           family             order         genus  \\\n",
       "0      Persimmon  52        Ebenaceae           Rosales     Diospyros   \n",
       "1     Strawberry   3         Rosaceae           Rosales      Fragaria   \n",
       "2         Banana   1         Musaceae      Zingiberales          Musa   \n",
       "3         Tomato   5       Solanaceae         Solanales       Solanum   \n",
       "4           Pear   4         Rosaceae           Rosales         Pyrus   \n",
       "5         Durian  60        Malvaceae          Malvales         Durio   \n",
       "6     Blackberry  64         Rosaceae           Rosales         Rubus   \n",
       "7    Lingonberry  65        Ericaceae          Ericales     Vaccinium   \n",
       "8           Kiwi  66    Actinidiaceae  Struthioniformes       Apteryx   \n",
       "9         Lychee  67      Sapindaceae        Sapindales        Litchi   \n",
       "10     Pineapple  10     Bromeliaceae            Poales        Ananas   \n",
       "11           Fig  68         Moraceae           Rosales         Ficus   \n",
       "12    Gooseberry  69  Grossulariaceae      Saxifragales         Ribes   \n",
       "13  Passionfruit  70   Passifloraceae      Malpighiales    Passiflora   \n",
       "14          Plum  71         Rosaceae           Rosales        Prunus   \n",
       "15        Orange   2         Rutaceae        Sapindales        Citrus   \n",
       "16    GreenApple  72         Rosaceae           Rosales         Malus   \n",
       "17     Raspberry  23         Rosaceae           Rosales         Rubus   \n",
       "18    Watermelon  25    Cucurbitaceae      Cucurbitales     Citrullus   \n",
       "19         Lemon  26         Rutaceae        Sapindales        Citrus   \n",
       "20         Mango  27    Anacardiaceae        Sapindales     Mangifera   \n",
       "21     Blueberry  33         Rosaceae           Rosales      Fragaria   \n",
       "22         Apple   6         Rosaceae           Rosales         Malus   \n",
       "23         Guava  37        Myrtaceae          Myrtales       Psidium   \n",
       "24       Apricot  35         Rosaceae           Rosales        Prunus   \n",
       "25        Papaya  42       Caricaceae         Caricacea        Carica   \n",
       "26         Melon  41    Cucurbitaceae     Cucurbitaceae       Cucumis   \n",
       "27     Tangerine  77         Rutaceae        Sapindales        Citrus   \n",
       "28      Pitahaya  78        Cactaceae    Caryophyllales     Cactaceae   \n",
       "29          Lime  44         Rutaceae        Sapindales        Citrus   \n",
       "30   Pomegranate  79       Lythraceae          Myrtales        Punica   \n",
       "31   Dragonfruit  80        Cactaceae    Caryophyllales  Selenicereus   \n",
       "32         Grape  81         Vitaceae           Vitales         Vitis   \n",
       "33         Morus  82         Moraceae           Rosales         Morus   \n",
       "34        Feijoa  76        Myrtaceae        Myrtoideae    Sellowiana   \n",
       "35       Avocado  84        Lauraceae          Laurales        Persea   \n",
       "36     Kiwifruit  85    Actinidiaceae          Ericales     Actinidia   \n",
       "37     Cranberry  87        Ericaceae          Ericales     Vaccinium   \n",
       "38        Cherry   9         Rosaceae           Rosales        Prunus   \n",
       "39         Peach  86         Rosaceae           Rosales        Prunus   \n",
       "40     Jackfruit  94         Moraceae           Rosales    Artocarpus   \n",
       "41  Horned Melon  95    Cucurbitaceae      Cucurbitales       Cucumis   \n",
       "42      Hazelnut  96       Betulaceae           Fagales       Corylus   \n",
       "43        Pomelo  98         Rutaceae        Sapindales        Citrus   \n",
       "44    Mangosteen  99       Clusiaceae      Malpighiales      Garcinia   \n",
       "\n",
       "    nutritions.calories  nutritions.fat  nutritions.sugar  \\\n",
       "0                    81            0.00             18.00   \n",
       "1                    29            0.40              5.40   \n",
       "2                    96            0.20             17.20   \n",
       "3                    74            0.20              2.60   \n",
       "4                    57            0.10             10.00   \n",
       "5                   147            5.30              6.75   \n",
       "6                    40            0.40              4.50   \n",
       "7                    50            0.34              5.74   \n",
       "8                    61            0.50              9.00   \n",
       "9                    66            0.44             15.00   \n",
       "10                   50            0.12              9.85   \n",
       "11                   74            0.30             16.00   \n",
       "12                   44            0.60              0.00   \n",
       "13                   97            0.70             11.20   \n",
       "14                   46            0.28              9.92   \n",
       "15                   43            0.20              8.20   \n",
       "16                   21            0.10              6.40   \n",
       "17                   53            0.70              4.40   \n",
       "18                   30            0.20              6.00   \n",
       "19                   29            0.30              2.50   \n",
       "20                   60            0.38             13.70   \n",
       "21                   29            0.40              5.40   \n",
       "22                   52            0.40             10.30   \n",
       "23                   68            1.00              9.00   \n",
       "24                   15            0.10              3.20   \n",
       "25                   43            0.40              1.00   \n",
       "26                   34            0.00              8.00   \n",
       "27                   45            0.40              9.10   \n",
       "28                   36            0.40              3.00   \n",
       "29                   25            0.10              1.70   \n",
       "30                   83            1.20             13.70   \n",
       "31                   60            1.50              8.00   \n",
       "32                   69            0.16             16.00   \n",
       "33                   43            0.39              8.10   \n",
       "34                   44            0.40              3.00   \n",
       "35                  160           14.66              0.66   \n",
       "36                   61            0.50              8.90   \n",
       "37                   46            0.10              4.00   \n",
       "38                   50            0.30              8.00   \n",
       "39                   39            0.25              8.40   \n",
       "40                   95            0.00             19.10   \n",
       "41                   44            1.26              0.50   \n",
       "42                  628           61.00              4.30   \n",
       "43                   37            0.00              8.50   \n",
       "44                   73            0.58             16.11   \n",
       "\n",
       "    nutritions.carbohydrates  nutritions.protein  \n",
       "0                      18.00                0.00  \n",
       "1                       5.50                0.80  \n",
       "2                      22.00                1.00  \n",
       "3                       3.90                0.90  \n",
       "4                      15.00                0.40  \n",
       "5                      27.10                1.50  \n",
       "6                       9.00                1.30  \n",
       "7                      11.30                0.75  \n",
       "8                      15.00                1.10  \n",
       "9                      17.00                0.80  \n",
       "10                     13.12                0.54  \n",
       "11                     19.00                0.80  \n",
       "12                     10.00                0.90  \n",
       "13                     22.40                2.20  \n",
       "14                     11.40                0.70  \n",
       "15                      8.30                1.00  \n",
       "16                      3.10                0.40  \n",
       "17                     12.00                1.20  \n",
       "18                      8.00                0.60  \n",
       "19                      9.00                1.10  \n",
       "20                     15.00                0.82  \n",
       "21                      5.50                0.00  \n",
       "22                     11.40                0.30  \n",
       "23                     14.00                2.60  \n",
       "24                      3.90                0.50  \n",
       "25                     11.00                0.00  \n",
       "26                      8.00                0.00  \n",
       "27                      8.30                0.00  \n",
       "28                      7.00                1.00  \n",
       "29                      8.40                0.30  \n",
       "30                     18.70                1.70  \n",
       "31                      9.00                9.00  \n",
       "32                     18.10                0.72  \n",
       "33                      9.80                1.44  \n",
       "34                      8.00                0.60  \n",
       "35                      8.53                2.00  \n",
       "36                     14.60                1.14  \n",
       "37                     12.20                0.40  \n",
       "38                     12.00                1.00  \n",
       "39                      9.50                0.90  \n",
       "40                     23.20                1.72  \n",
       "41                      7.56                1.78  \n",
       "42                     17.00               15.00  \n",
       "43                      9.67                0.82  \n",
       "44                     17.91                0.41  "
      ]
     },
     "execution_count": 57,
     "metadata": {},
     "output_type": "execute_result"
    }
   ],
   "source": [
    "df2 = pd.json_normalize(results)\n",
    "df2"
   ]
  },
  {
   "cell_type": "code",
   "execution_count": 58,
   "id": "0f31b568",
   "metadata": {},
   "outputs": [
    {
     "data": {
      "text/plain": [
       "('Rosaceae', 'Prunus')"
      ]
     },
     "execution_count": 58,
     "metadata": {},
     "output_type": "execute_result"
    }
   ],
   "source": [
    "cherry = df2.loc[df2[\"name\"]=='Cherry']\n",
    "(cherry.iloc[0]['family']) , (cherry.iloc[0]['genus'])"
   ]
  },
  {
   "cell_type": "code",
   "execution_count": 59,
   "id": "5c2bad80",
   "metadata": {},
   "outputs": [
    {
     "data": {
      "text/html": [
       "<div>\n",
       "<style scoped>\n",
       "    .dataframe tbody tr th:only-of-type {\n",
       "        vertical-align: middle;\n",
       "    }\n",
       "\n",
       "    .dataframe tbody tr th {\n",
       "        vertical-align: top;\n",
       "    }\n",
       "\n",
       "    .dataframe thead th {\n",
       "        text-align: right;\n",
       "    }\n",
       "</style>\n",
       "<table border=\"1\" class=\"dataframe\">\n",
       "  <thead>\n",
       "    <tr style=\"text-align: right;\">\n",
       "      <th></th>\n",
       "      <th>name</th>\n",
       "      <th>id</th>\n",
       "      <th>family</th>\n",
       "      <th>order</th>\n",
       "      <th>genus</th>\n",
       "      <th>nutritions.calories</th>\n",
       "      <th>nutritions.fat</th>\n",
       "      <th>nutritions.sugar</th>\n",
       "      <th>nutritions.carbohydrates</th>\n",
       "      <th>nutritions.protein</th>\n",
       "    </tr>\n",
       "  </thead>\n",
       "  <tbody>\n",
       "    <tr>\n",
       "      <th>38</th>\n",
       "      <td>Cherry</td>\n",
       "      <td>9</td>\n",
       "      <td>Rosaceae</td>\n",
       "      <td>Rosales</td>\n",
       "      <td>Prunus</td>\n",
       "      <td>50</td>\n",
       "      <td>0.3</td>\n",
       "      <td>8.0</td>\n",
       "      <td>12.0</td>\n",
       "      <td>1.0</td>\n",
       "    </tr>\n",
       "  </tbody>\n",
       "</table>\n",
       "</div>"
      ],
      "text/plain": [
       "      name  id    family    order   genus  nutritions.calories  \\\n",
       "38  Cherry   9  Rosaceae  Rosales  Prunus                   50   \n",
       "\n",
       "    nutritions.fat  nutritions.sugar  nutritions.carbohydrates  \\\n",
       "38             0.3               8.0                      12.0   \n",
       "\n",
       "    nutritions.protein  \n",
       "38                 1.0  "
      ]
     },
     "execution_count": 59,
     "metadata": {},
     "output_type": "execute_result"
    }
   ],
   "source": [
    "cherry"
   ]
  },
  {
   "cell_type": "code",
   "execution_count": 63,
   "id": "7ca99925",
   "metadata": {},
   "outputs": [
    {
     "data": {
      "text/plain": [
       "'Rosaceae'"
      ]
     },
     "execution_count": 63,
     "metadata": {},
     "output_type": "execute_result"
    }
   ],
   "source": [
    "cherry.iloc[0][2]"
   ]
  },
  {
   "cell_type": "code",
   "execution_count": 64,
   "id": "da0c7941",
   "metadata": {},
   "outputs": [
    {
     "name": "stdout",
     "output_type": "stream",
     "text": [
      "Cherry\n",
      "9\n",
      "Rosaceae\n",
      "Rosales\n",
      "Prunus\n",
      "50\n",
      "0.3\n",
      "8.0\n",
      "12.0\n",
      "1.0\n"
     ]
    }
   ],
   "source": [
    "for item in cherry:\n",
    "    print(cherry.iloc[0][item])"
   ]
  },
  {
   "cell_type": "markdown",
   "id": "cdce0ecc",
   "metadata": {},
   "source": [
    "# Get methods randomuser"
   ]
  },
  {
   "cell_type": "code",
   "execution_count": 66,
   "id": "4bb8b34c",
   "metadata": {},
   "outputs": [
    {
     "name": "stdout",
     "output_type": "stream",
     "text": [
      "Collecting randomuser\n",
      "  Downloading randomuser-1.6.tar.gz (5.0 kB)\n",
      "Building wheels for collected packages: randomuser\n",
      "  Building wheel for randomuser (setup.py): started\n",
      "  Building wheel for randomuser (setup.py): finished with status 'done'\n",
      "  Created wheel for randomuser: filename=randomuser-1.6-py3-none-any.whl size=5083 sha256=c621385ac33076f86549831cd33c791d5a417b018a42b4743abc3899e2fae70b\n",
      "  Stored in directory: c:\\users\\omar\\appdata\\local\\pip\\cache\\wheels\\41\\6f\\23\\878c103a235dc2d4e85a3965c124aae8a28470c541b81aa2ba\n",
      "Successfully built randomuser\n",
      "Installing collected packages: randomuser\n",
      "Successfully installed randomuser-1.6\n"
     ]
    }
   ],
   "source": [
    "!pip install randomuser"
   ]
  },
  {
   "cell_type": "code",
   "execution_count": 67,
   "id": "ecaf853c",
   "metadata": {},
   "outputs": [],
   "source": [
    "from randomuser import RandomUser\n",
    "import pandas as pd"
   ]
  },
  {
   "cell_type": "code",
   "execution_count": 69,
   "id": "edddaf2f",
   "metadata": {},
   "outputs": [],
   "source": [
    "r = RandomUser()"
   ]
  },
  {
   "cell_type": "code",
   "execution_count": 70,
   "id": "04934461",
   "metadata": {},
   "outputs": [],
   "source": [
    "some_list = r.generate_users(14)"
   ]
  },
  {
   "cell_type": "code",
   "execution_count": 71,
   "id": "ed31be1e",
   "metadata": {},
   "outputs": [
    {
     "data": {
      "text/plain": [
       "[<randomuser.RandomUser at 0x2a3fe691460>,\n",
       " <randomuser.RandomUser at 0x2a3fe6913d0>,\n",
       " <randomuser.RandomUser at 0x2a380d5b9a0>,\n",
       " <randomuser.RandomUser at 0x2a3fe82d130>,\n",
       " <randomuser.RandomUser at 0x2a3fe82d310>,\n",
       " <randomuser.RandomUser at 0x2a3fe82d730>,\n",
       " <randomuser.RandomUser at 0x2a3fe82de20>,\n",
       " <randomuser.RandomUser at 0x2a3fe82d700>,\n",
       " <randomuser.RandomUser at 0x2a3fe82d220>,\n",
       " <randomuser.RandomUser at 0x2a3fe82d1f0>,\n",
       " <randomuser.RandomUser at 0x2a3fe82d0d0>,\n",
       " <randomuser.RandomUser at 0x2a3fe82d190>,\n",
       " <randomuser.RandomUser at 0x2a3fe82d400>,\n",
       " <randomuser.RandomUser at 0x2a3fe82d460>]"
      ]
     },
     "execution_count": 71,
     "metadata": {},
     "output_type": "execute_result"
    }
   ],
   "source": [
    "some_list"
   ]
  },
  {
   "cell_type": "code",
   "execution_count": 72,
   "id": "bda761c5",
   "metadata": {},
   "outputs": [],
   "source": [
    "name = r.get_full_name()"
   ]
  },
  {
   "cell_type": "code",
   "execution_count": 73,
   "id": "ea2b94a9",
   "metadata": {},
   "outputs": [
    {
     "data": {
      "text/plain": [
       "'Viljami Arola'"
      ]
     },
     "execution_count": 73,
     "metadata": {},
     "output_type": "execute_result"
    }
   ],
   "source": [
    "name\n"
   ]
  },
  {
   "cell_type": "code",
   "execution_count": 74,
   "id": "d30845e3",
   "metadata": {},
   "outputs": [
    {
     "name": "stdout",
     "output_type": "stream",
     "text": [
      "Oseas da Cunha   oseas.dacunha@example.com\n",
      "Isolina Ferreira   isolina.ferreira@example.com\n",
      "Tino Lemoine   tino.lemoine@example.com\n",
      "Giacomo Perez   giacomo.perez@example.com\n",
      "Sarah Butler   sarah.butler@example.com\n",
      "Jill Carpenter   jill.carpenter@example.com\n",
      "James Sims   james.sims@example.com\n",
      "Maja Wieser   maja.wieser@example.com\n",
      "Jared Willis   jared.willis@example.com\n",
      "Annika Vincent   annika.vincent@example.com\n",
      "آوینا سهيلي راد   awyn.shylyrd@example.com\n",
      "Nathan Sanders   nathan.sanders@example.com\n",
      "Debbie Hawkins   debbie.hawkins@example.com\n",
      "Ljudmila Böck   ljudmila.bock@example.com\n"
     ]
    }
   ],
   "source": [
    "for user in some_list:\n",
    "    print (user.get_full_name(),\" \",user.get_email())"
   ]
  },
  {
   "cell_type": "code",
   "execution_count": 75,
   "id": "e96839dc",
   "metadata": {},
   "outputs": [
    {
     "name": "stdout",
     "output_type": "stream",
     "text": [
      "https://randomuser.me/api/portraits/men/84.jpg\n",
      "https://randomuser.me/api/portraits/women/39.jpg\n",
      "https://randomuser.me/api/portraits/men/64.jpg\n",
      "https://randomuser.me/api/portraits/men/47.jpg\n",
      "https://randomuser.me/api/portraits/women/37.jpg\n",
      "https://randomuser.me/api/portraits/women/37.jpg\n",
      "https://randomuser.me/api/portraits/men/88.jpg\n",
      "https://randomuser.me/api/portraits/women/16.jpg\n",
      "https://randomuser.me/api/portraits/men/43.jpg\n",
      "https://randomuser.me/api/portraits/women/82.jpg\n",
      "https://randomuser.me/api/portraits/women/24.jpg\n",
      "https://randomuser.me/api/portraits/men/66.jpg\n",
      "https://randomuser.me/api/portraits/women/33.jpg\n",
      "https://randomuser.me/api/portraits/women/81.jpg\n"
     ]
    }
   ],
   "source": [
    "for photo in some_list:\n",
    "    print(photo.get_picture())"
   ]
  },
  {
   "cell_type": "code",
   "execution_count": 76,
   "id": "4db275b0",
   "metadata": {},
   "outputs": [],
   "source": [
    "def get_users():\n",
    "    users =[]\n",
    "     \n",
    "    for user in RandomUser.generate_users(10):\n",
    "        users.append({\"Name\":user.get_full_name(),\"Gender\":user.get_gender(),\"City\":user.get_city(),\"State\":user.get_state(),\"Email\":user.get_email(), \"DOB\":user.get_dob(),\"Picture\":user.get_picture()})\n",
    "      \n",
    "    return pd.DataFrame(users)     "
   ]
  },
  {
   "cell_type": "code",
   "execution_count": 77,
   "id": "90a1485f",
   "metadata": {},
   "outputs": [
    {
     "data": {
      "text/html": [
       "<div>\n",
       "<style scoped>\n",
       "    .dataframe tbody tr th:only-of-type {\n",
       "        vertical-align: middle;\n",
       "    }\n",
       "\n",
       "    .dataframe tbody tr th {\n",
       "        vertical-align: top;\n",
       "    }\n",
       "\n",
       "    .dataframe thead th {\n",
       "        text-align: right;\n",
       "    }\n",
       "</style>\n",
       "<table border=\"1\" class=\"dataframe\">\n",
       "  <thead>\n",
       "    <tr style=\"text-align: right;\">\n",
       "      <th></th>\n",
       "      <th>Name</th>\n",
       "      <th>Gender</th>\n",
       "      <th>City</th>\n",
       "      <th>State</th>\n",
       "      <th>Email</th>\n",
       "      <th>DOB</th>\n",
       "      <th>Picture</th>\n",
       "    </tr>\n",
       "  </thead>\n",
       "  <tbody>\n",
       "    <tr>\n",
       "      <th>0</th>\n",
       "      <td>Clifford Wells</td>\n",
       "      <td>male</td>\n",
       "      <td>Newport</td>\n",
       "      <td>Tayside</td>\n",
       "      <td>clifford.wells@example.com</td>\n",
       "      <td>1971-12-28T08:06:59.297Z</td>\n",
       "      <td>https://randomuser.me/api/portraits/men/16.jpg</td>\n",
       "    </tr>\n",
       "    <tr>\n",
       "      <th>1</th>\n",
       "      <td>Jenny Burke</td>\n",
       "      <td>female</td>\n",
       "      <td>Cupertino</td>\n",
       "      <td>Utah</td>\n",
       "      <td>jenny.burke@example.com</td>\n",
       "      <td>1961-08-15T13:31:22.164Z</td>\n",
       "      <td>https://randomuser.me/api/portraits/women/37.jpg</td>\n",
       "    </tr>\n",
       "    <tr>\n",
       "      <th>2</th>\n",
       "      <td>Beverly Steeves</td>\n",
       "      <td>female</td>\n",
       "      <td>Surrey</td>\n",
       "      <td>Arizona</td>\n",
       "      <td>beverly.steeves@example.com</td>\n",
       "      <td>1964-04-22T13:10:58.335Z</td>\n",
       "      <td>https://randomuser.me/api/portraits/women/88.jpg</td>\n",
       "    </tr>\n",
       "    <tr>\n",
       "      <th>3</th>\n",
       "      <td>Ian Perez</td>\n",
       "      <td>male</td>\n",
       "      <td>Vernier</td>\n",
       "      <td>Basel-Stadt</td>\n",
       "      <td>ian.perez@example.com</td>\n",
       "      <td>1949-07-20T10:17:31.569Z</td>\n",
       "      <td>https://randomuser.me/api/portraits/men/22.jpg</td>\n",
       "    </tr>\n",
       "    <tr>\n",
       "      <th>4</th>\n",
       "      <td>Vilma Os</td>\n",
       "      <td>female</td>\n",
       "      <td>Straumen</td>\n",
       "      <td>Vestfold</td>\n",
       "      <td>vilma.os@example.com</td>\n",
       "      <td>1975-02-20T18:23:05.643Z</td>\n",
       "      <td>https://randomuser.me/api/portraits/women/89.jpg</td>\n",
       "    </tr>\n",
       "    <tr>\n",
       "      <th>5</th>\n",
       "      <td>Elliot Macdonald</td>\n",
       "      <td>male</td>\n",
       "      <td>Carleton</td>\n",
       "      <td>Nunavut</td>\n",
       "      <td>elliot.macdonald@example.com</td>\n",
       "      <td>1967-05-18T00:24:51.881Z</td>\n",
       "      <td>https://randomuser.me/api/portraits/men/24.jpg</td>\n",
       "    </tr>\n",
       "    <tr>\n",
       "      <th>6</th>\n",
       "      <td>Kaitlin Owens</td>\n",
       "      <td>female</td>\n",
       "      <td>Cavan</td>\n",
       "      <td>Fingal</td>\n",
       "      <td>kaitlin.owens@example.com</td>\n",
       "      <td>1983-02-16T19:45:31.938Z</td>\n",
       "      <td>https://randomuser.me/api/portraits/women/67.jpg</td>\n",
       "    </tr>\n",
       "    <tr>\n",
       "      <th>7</th>\n",
       "      <td>Sofia Thompson</td>\n",
       "      <td>female</td>\n",
       "      <td>Limerick</td>\n",
       "      <td>Dún Laoghaire–Rathdown</td>\n",
       "      <td>sofia.thompson@example.com</td>\n",
       "      <td>1976-03-03T02:20:30.664Z</td>\n",
       "      <td>https://randomuser.me/api/portraits/women/68.jpg</td>\n",
       "    </tr>\n",
       "    <tr>\n",
       "      <th>8</th>\n",
       "      <td>Brigitta Deschamps</td>\n",
       "      <td>female</td>\n",
       "      <td>Madulain</td>\n",
       "      <td>Glarus</td>\n",
       "      <td>brigitta.deschamps@example.com</td>\n",
       "      <td>1980-10-20T16:20:56.816Z</td>\n",
       "      <td>https://randomuser.me/api/portraits/women/32.jpg</td>\n",
       "    </tr>\n",
       "    <tr>\n",
       "      <th>9</th>\n",
       "      <td>Alpoim da Rosa</td>\n",
       "      <td>male</td>\n",
       "      <td>Balneário Camboriú</td>\n",
       "      <td>Rio Grande do Sul</td>\n",
       "      <td>alpoim.darosa@example.com</td>\n",
       "      <td>1972-11-06T02:59:39.948Z</td>\n",
       "      <td>https://randomuser.me/api/portraits/men/22.jpg</td>\n",
       "    </tr>\n",
       "  </tbody>\n",
       "</table>\n",
       "</div>"
      ],
      "text/plain": [
       "                 Name  Gender                City                   State  \\\n",
       "0      Clifford Wells    male             Newport                 Tayside   \n",
       "1         Jenny Burke  female           Cupertino                    Utah   \n",
       "2    Beverly Steeves   female              Surrey                 Arizona   \n",
       "3           Ian Perez    male             Vernier             Basel-Stadt   \n",
       "4            Vilma Os  female            Straumen                Vestfold   \n",
       "5    Elliot Macdonald    male            Carleton                 Nunavut   \n",
       "6       Kaitlin Owens  female               Cavan                  Fingal   \n",
       "7      Sofia Thompson  female            Limerick  Dún Laoghaire–Rathdown   \n",
       "8  Brigitta Deschamps  female            Madulain                  Glarus   \n",
       "9      Alpoim da Rosa    male  Balneário Camboriú       Rio Grande do Sul   \n",
       "\n",
       "                            Email                       DOB  \\\n",
       "0      clifford.wells@example.com  1971-12-28T08:06:59.297Z   \n",
       "1         jenny.burke@example.com  1961-08-15T13:31:22.164Z   \n",
       "2     beverly.steeves@example.com  1964-04-22T13:10:58.335Z   \n",
       "3           ian.perez@example.com  1949-07-20T10:17:31.569Z   \n",
       "4            vilma.os@example.com  1975-02-20T18:23:05.643Z   \n",
       "5    elliot.macdonald@example.com  1967-05-18T00:24:51.881Z   \n",
       "6       kaitlin.owens@example.com  1983-02-16T19:45:31.938Z   \n",
       "7      sofia.thompson@example.com  1976-03-03T02:20:30.664Z   \n",
       "8  brigitta.deschamps@example.com  1980-10-20T16:20:56.816Z   \n",
       "9       alpoim.darosa@example.com  1972-11-06T02:59:39.948Z   \n",
       "\n",
       "                                            Picture  \n",
       "0    https://randomuser.me/api/portraits/men/16.jpg  \n",
       "1  https://randomuser.me/api/portraits/women/37.jpg  \n",
       "2  https://randomuser.me/api/portraits/women/88.jpg  \n",
       "3    https://randomuser.me/api/portraits/men/22.jpg  \n",
       "4  https://randomuser.me/api/portraits/women/89.jpg  \n",
       "5    https://randomuser.me/api/portraits/men/24.jpg  \n",
       "6  https://randomuser.me/api/portraits/women/67.jpg  \n",
       "7  https://randomuser.me/api/portraits/women/68.jpg  \n",
       "8  https://randomuser.me/api/portraits/women/32.jpg  \n",
       "9    https://randomuser.me/api/portraits/men/22.jpg  "
      ]
     },
     "execution_count": 77,
     "metadata": {},
     "output_type": "execute_result"
    }
   ],
   "source": [
    "get_users()"
   ]
  },
  {
   "cell_type": "markdown",
   "id": "961b5341",
   "metadata": {},
   "source": [
    "# Web scraping\n"
   ]
  },
  {
   "cell_type": "code",
   "execution_count": 78,
   "id": "755c6ec9",
   "metadata": {},
   "outputs": [],
   "source": [
    "from bs4 import BeautifulSoup # this module helps in web scrapping.\n",
    "import requests  # this module helps us to download a web page"
   ]
  },
  {
   "cell_type": "code",
   "execution_count": 79,
   "id": "d622dd5a",
   "metadata": {},
   "outputs": [
    {
     "data": {
      "text/html": [
       "<!DOCTYPE html>\n",
       "<html>\n",
       "<head>\n",
       "<title>Page Title</title>\n",
       "</head>\n",
       "<body>\n",
       "<h3><b id='boldest'>Lebron James</b></h3>\n",
       "<p> Salary: $ 92,000,000 </p>\n",
       "<h3> Stephen Curry</h3>\n",
       "<p> Salary: $85,000, 000 </p>\n",
       "<h3> Kevin Durant </h3>\n",
       "<p> Salary: $73,200, 000</p>\n",
       "</body>\n",
       "</html>\n"
      ],
      "text/plain": [
       "<IPython.core.display.HTML object>"
      ]
     },
     "metadata": {},
     "output_type": "display_data"
    }
   ],
   "source": [
    "%%html\n",
    "<!DOCTYPE html>\n",
    "<html>\n",
    "<head>\n",
    "<title>Page Title</title>\n",
    "</head>\n",
    "<body>\n",
    "<h3><b id='boldest'>Lebron James</b></h3>\n",
    "<p> Salary: $ 92,000,000 </p>\n",
    "<h3> Stephen Curry</h3>\n",
    "<p> Salary: $85,000, 000 </p>\n",
    "<h3> Kevin Durant </h3>\n",
    "<p> Salary: $73,200, 000</p>\n",
    "</body>\n",
    "</html>"
   ]
  },
  {
   "cell_type": "code",
   "execution_count": 80,
   "id": "e92e1ef6",
   "metadata": {},
   "outputs": [],
   "source": [
    "html=\"<!DOCTYPE html><html><head><title>Page Title</title></head><body><h3><b id='boldest'>Lebron James</b></h3><p> Salary: $ 92,000,000 </p><h3> Stephen Curry</h3><p> Salary: $85,000, 000 </p><h3> Kevin Durant </h3><p> Salary: $73,200, 000</p></body></html>\""
   ]
  },
  {
   "cell_type": "code",
   "execution_count": 81,
   "id": "3f263bc0",
   "metadata": {},
   "outputs": [],
   "source": [
    "soup = BeautifulSoup(html, 'html5lib')"
   ]
  },
  {
   "cell_type": "code",
   "execution_count": 82,
   "id": "634c20c1",
   "metadata": {},
   "outputs": [
    {
     "name": "stdout",
     "output_type": "stream",
     "text": [
      "<!DOCTYPE html>\n",
      "<html>\n",
      " <head>\n",
      "  <title>\n",
      "   Page Title\n",
      "  </title>\n",
      " </head>\n",
      " <body>\n",
      "  <h3>\n",
      "   <b id=\"boldest\">\n",
      "    Lebron James\n",
      "   </b>\n",
      "  </h3>\n",
      "  <p>\n",
      "   Salary: $ 92,000,000\n",
      "  </p>\n",
      "  <h3>\n",
      "   Stephen Curry\n",
      "  </h3>\n",
      "  <p>\n",
      "   Salary: $85,000, 000\n",
      "  </p>\n",
      "  <h3>\n",
      "   Kevin Durant\n",
      "  </h3>\n",
      "  <p>\n",
      "   Salary: $73,200, 000\n",
      "  </p>\n",
      " </body>\n",
      "</html>\n"
     ]
    }
   ],
   "source": [
    "print(soup.prettify())"
   ]
  },
  {
   "cell_type": "code",
   "execution_count": 83,
   "id": "acc027fa",
   "metadata": {},
   "outputs": [
    {
     "name": "stdout",
     "output_type": "stream",
     "text": [
      "Tag object: <title>Page Title</title>\n"
     ]
    }
   ],
   "source": [
    "tag_object=soup.title\n",
    "print(\"Tag object:\", tag_object)"
   ]
  },
  {
   "cell_type": "code",
   "execution_count": 84,
   "id": "514cb777",
   "metadata": {},
   "outputs": [
    {
     "name": "stdout",
     "output_type": "stream",
     "text": [
      "tag object type: <class 'bs4.element.Tag'>\n"
     ]
    }
   ],
   "source": [
    "print(\"tag object type:\",type(tag_object))"
   ]
  },
  {
   "cell_type": "code",
   "execution_count": 85,
   "id": "96721772",
   "metadata": {},
   "outputs": [
    {
     "data": {
      "text/plain": [
       "<h3><b id=\"boldest\">Lebron James</b></h3>"
      ]
     },
     "execution_count": 85,
     "metadata": {},
     "output_type": "execute_result"
    }
   ],
   "source": [
    "tag_object=soup.h3\n",
    "tag_object"
   ]
  },
  {
   "cell_type": "code",
   "execution_count": 86,
   "id": "68cfbc55",
   "metadata": {},
   "outputs": [
    {
     "data": {
      "text/plain": [
       "<b id=\"boldest\">Lebron James</b>"
      ]
     },
     "execution_count": 86,
     "metadata": {},
     "output_type": "execute_result"
    }
   ],
   "source": [
    "tag_child =tag_object.b\n",
    "tag_child"
   ]
  },
  {
   "cell_type": "code",
   "execution_count": 87,
   "id": "a54fb29e",
   "metadata": {},
   "outputs": [
    {
     "data": {
      "text/plain": [
       "<h3><b id=\"boldest\">Lebron James</b></h3>"
      ]
     },
     "execution_count": 87,
     "metadata": {},
     "output_type": "execute_result"
    }
   ],
   "source": [
    "parent_tag=tag_child.parent\n",
    "parent_tag"
   ]
  },
  {
   "cell_type": "code",
   "execution_count": 88,
   "id": "51955e95",
   "metadata": {},
   "outputs": [
    {
     "data": {
      "text/plain": [
       "<body><h3><b id=\"boldest\">Lebron James</b></h3><p> Salary: $ 92,000,000 </p><h3> Stephen Curry</h3><p> Salary: $85,000, 000 </p><h3> Kevin Durant </h3><p> Salary: $73,200, 000</p></body>"
      ]
     },
     "execution_count": 88,
     "metadata": {},
     "output_type": "execute_result"
    }
   ],
   "source": [
    "tag_object.parent"
   ]
  },
  {
   "cell_type": "code",
   "execution_count": 89,
   "id": "b6af4378",
   "metadata": {},
   "outputs": [],
   "source": [
    "sibling_1 = tag_object.next_sibling"
   ]
  },
  {
   "cell_type": "code",
   "execution_count": 90,
   "id": "b904e223",
   "metadata": {},
   "outputs": [
    {
     "data": {
      "text/plain": [
       "<p> Salary: $ 92,000,000 </p>"
      ]
     },
     "execution_count": 90,
     "metadata": {},
     "output_type": "execute_result"
    }
   ],
   "source": [
    "sibling_1"
   ]
  },
  {
   "cell_type": "code",
   "execution_count": 91,
   "id": "203dc18e",
   "metadata": {},
   "outputs": [
    {
     "data": {
      "text/plain": [
       "'boldest'"
      ]
     },
     "execution_count": 91,
     "metadata": {},
     "output_type": "execute_result"
    }
   ],
   "source": [
    "tag_child['id']"
   ]
  },
  {
   "cell_type": "code",
   "execution_count": 92,
   "id": "f76882d9",
   "metadata": {},
   "outputs": [
    {
     "data": {
      "text/plain": [
       "{'id': 'boldest'}"
      ]
     },
     "execution_count": 92,
     "metadata": {},
     "output_type": "execute_result"
    }
   ],
   "source": [
    "tag_child.attrs"
   ]
  },
  {
   "cell_type": "code",
   "execution_count": 93,
   "id": "73748aa5",
   "metadata": {},
   "outputs": [
    {
     "data": {
      "text/plain": [
       "'boldest'"
      ]
     },
     "execution_count": 93,
     "metadata": {},
     "output_type": "execute_result"
    }
   ],
   "source": [
    "tag_child.get('id')"
   ]
  },
  {
   "cell_type": "code",
   "execution_count": 94,
   "id": "70bcf5e7",
   "metadata": {},
   "outputs": [
    {
     "data": {
      "text/plain": [
       "<b id=\"boldest\">Lebron James</b>"
      ]
     },
     "execution_count": 94,
     "metadata": {},
     "output_type": "execute_result"
    }
   ],
   "source": [
    "tag_child"
   ]
  },
  {
   "cell_type": "code",
   "execution_count": 96,
   "id": "6678ea4c",
   "metadata": {},
   "outputs": [
    {
     "data": {
      "text/plain": [
       "'Lebron James'"
      ]
     },
     "execution_count": 96,
     "metadata": {},
     "output_type": "execute_result"
    }
   ],
   "source": [
    "tag_string = tag_child.string\n",
    "tag_string"
   ]
  },
  {
   "cell_type": "code",
   "execution_count": 98,
   "id": "222ae3dc",
   "metadata": {},
   "outputs": [
    {
     "data": {
      "text/plain": [
       "str"
      ]
     },
     "execution_count": 98,
     "metadata": {},
     "output_type": "execute_result"
    }
   ],
   "source": [
    "unicode_string = str(tag_string)\n",
    "type(unicode_string)"
   ]
  },
  {
   "cell_type": "code",
   "execution_count": 99,
   "id": "edea97e9",
   "metadata": {},
   "outputs": [
    {
     "data": {
      "text/html": [
       "<table>\n",
       "  <tr>\n",
       "    <td id='flight' >Flight No</td>\n",
       "    <td>Launch site</td> \n",
       "    <td>Payload mass</td>\n",
       "   </tr>\n",
       "  <tr> \n",
       "    <td>1</td>\n",
       "    <td><a href='https://en.wikipedia.org/wiki/Florida'>Florida</a></td>\n",
       "    <td>300 kg</td>\n",
       "  </tr>\n",
       "  <tr>\n",
       "    <td>2</td>\n",
       "    <td><a href='https://en.wikipedia.org/wiki/Texas'>Texas</a></td>\n",
       "    <td>94 kg</td>\n",
       "  </tr>\n",
       "  <tr>\n",
       "    <td>3</td>\n",
       "    <td><a href='https://en.wikipedia.org/wiki/Florida'>Florida<a> </td>\n",
       "    <td>80 kg</td>\n",
       "  </tr>\n",
       "</table>\n"
      ],
      "text/plain": [
       "<IPython.core.display.HTML object>"
      ]
     },
     "metadata": {},
     "output_type": "display_data"
    }
   ],
   "source": [
    "%%html\n",
    "<table>\n",
    "  <tr>\n",
    "    <td id='flight' >Flight No</td>\n",
    "    <td>Launch site</td> \n",
    "    <td>Payload mass</td>\n",
    "   </tr>\n",
    "  <tr> \n",
    "    <td>1</td>\n",
    "    <td><a href='https://en.wikipedia.org/wiki/Florida'>Florida</a></td>\n",
    "    <td>300 kg</td>\n",
    "  </tr>\n",
    "  <tr>\n",
    "    <td>2</td>\n",
    "    <td><a href='https://en.wikipedia.org/wiki/Texas'>Texas</a></td>\n",
    "    <td>94 kg</td>\n",
    "  </tr>\n",
    "  <tr>\n",
    "    <td>3</td>\n",
    "    <td><a href='https://en.wikipedia.org/wiki/Florida'>Florida<a> </td>\n",
    "    <td>80 kg</td>\n",
    "  </tr>\n",
    "</table>"
   ]
  },
  {
   "cell_type": "code",
   "execution_count": 100,
   "id": "a0dfef0d",
   "metadata": {},
   "outputs": [],
   "source": [
    "table=\"<table><tr><td id='flight'>Flight No</td><td>Launch site</td> <td>Payload mass</td></tr><tr> <td>1</td><td><a href='https://en.wikipedia.org/wiki/Florida'>Florida<a></td><td>300 kg</td></tr><tr><td>2</td><td><a href='https://en.wikipedia.org/wiki/Texas'>Texas</a></td><td>94 kg</td></tr><tr><td>3</td><td><a href='https://en.wikipedia.org/wiki/Florida'>Florida<a> </td><td>80 kg</td></tr></table>\""
   ]
  },
  {
   "cell_type": "code",
   "execution_count": 101,
   "id": "273e4161",
   "metadata": {},
   "outputs": [],
   "source": [
    "table_bs = BeautifulSoup(table, 'html5lib')"
   ]
  },
  {
   "cell_type": "code",
   "execution_count": 102,
   "id": "22ff9626",
   "metadata": {},
   "outputs": [
    {
     "data": {
      "text/plain": [
       "[<tr><td id=\"flight\">Flight No</td><td>Launch site</td> <td>Payload mass</td></tr>,\n",
       " <tr> <td>1</td><td><a href=\"https://en.wikipedia.org/wiki/Florida\">Florida</a><a></a></td><td>300 kg</td></tr>,\n",
       " <tr><td>2</td><td><a href=\"https://en.wikipedia.org/wiki/Texas\">Texas</a></td><td>94 kg</td></tr>,\n",
       " <tr><td>3</td><td><a href=\"https://en.wikipedia.org/wiki/Florida\">Florida</a><a> </a></td><td>80 kg</td></tr>]"
      ]
     },
     "execution_count": 102,
     "metadata": {},
     "output_type": "execute_result"
    }
   ],
   "source": [
    "table_rows=table_bs.find_all('tr')\n",
    "table_rows"
   ]
  },
  {
   "cell_type": "code",
   "execution_count": 105,
   "id": "fdd39507",
   "metadata": {},
   "outputs": [
    {
     "data": {
      "text/plain": [
       "<tr><td id=\"flight\">Flight No</td><td>Launch site</td> <td>Payload mass</td></tr>"
      ]
     },
     "execution_count": 105,
     "metadata": {},
     "output_type": "execute_result"
    }
   ],
   "source": [
    "first_row = table_rows[0]\n",
    "first_row"
   ]
  },
  {
   "cell_type": "code",
   "execution_count": 106,
   "id": "f29c9b28",
   "metadata": {},
   "outputs": [
    {
     "data": {
      "text/plain": [
       "<td id=\"flight\">Flight No</td>"
      ]
     },
     "execution_count": 106,
     "metadata": {},
     "output_type": "execute_result"
    }
   ],
   "source": [
    "first_row.td"
   ]
  },
  {
   "cell_type": "code",
   "execution_count": 107,
   "id": "c2d03585",
   "metadata": {},
   "outputs": [
    {
     "name": "stdout",
     "output_type": "stream",
     "text": [
      "row  0 is <tr><td id=\"flight\">Flight No</td><td>Launch site</td> <td>Payload mass</td></tr>\n",
      "row  1 is <tr> <td>1</td><td><a href=\"https://en.wikipedia.org/wiki/Florida\">Florida</a><a></a></td><td>300 kg</td></tr>\n",
      "row  2 is <tr><td>2</td><td><a href=\"https://en.wikipedia.org/wiki/Texas\">Texas</a></td><td>94 kg</td></tr>\n",
      "row  3 is <tr><td>3</td><td><a href=\"https://en.wikipedia.org/wiki/Florida\">Florida</a><a> </a></td><td>80 kg</td></tr>\n"
     ]
    }
   ],
   "source": [
    "for i, row in enumerate(table_rows):\n",
    "    print(\"row \", i ,\"is\" , row)\n",
    "    "
   ]
  },
  {
   "cell_type": "code",
   "execution_count": 109,
   "id": "35c0d143",
   "metadata": {},
   "outputs": [
    {
     "name": "stdout",
     "output_type": "stream",
     "text": [
      "row 0\n",
      "column  0 cell <td id=\"flight\">Flight No</td>\n",
      "column  1 cell <td>Launch site</td>\n",
      "column  2 cell <td>Payload mass</td>\n",
      "row 1\n",
      "column  0 cell <td>1</td>\n",
      "column  1 cell <td><a href=\"https://en.wikipedia.org/wiki/Florida\">Florida</a><a></a></td>\n",
      "column  2 cell <td>300 kg</td>\n",
      "row 2\n",
      "column  0 cell <td>2</td>\n",
      "column  1 cell <td><a href=\"https://en.wikipedia.org/wiki/Texas\">Texas</a></td>\n",
      "column  2 cell <td>94 kg</td>\n",
      "row 3\n",
      "column  0 cell <td>3</td>\n",
      "column  1 cell <td><a href=\"https://en.wikipedia.org/wiki/Florida\">Florida</a><a> </a></td>\n",
      "column  2 cell <td>80 kg</td>\n"
     ]
    }
   ],
   "source": [
    "for i, row in enumerate(table_rows):\n",
    "    print(\"row\", i)\n",
    "    cells = row.find_all('td')\n",
    "    for j, cell in enumerate(cells):\n",
    "        print('column ', j , 'cell', cell)"
   ]
  },
  {
   "cell_type": "code",
   "execution_count": 110,
   "id": "6b0c73b4",
   "metadata": {},
   "outputs": [],
   "source": [
    "list_input = table_bs.find_all(name=['tr','td'])"
   ]
  },
  {
   "cell_type": "code",
   "execution_count": 111,
   "id": "8f270ae3",
   "metadata": {},
   "outputs": [
    {
     "data": {
      "text/plain": [
       "[<tr><td id=\"flight\">Flight No</td><td>Launch site</td> <td>Payload mass</td></tr>,\n",
       " <td id=\"flight\">Flight No</td>,\n",
       " <td>Launch site</td>,\n",
       " <td>Payload mass</td>,\n",
       " <tr> <td>1</td><td><a href=\"https://en.wikipedia.org/wiki/Florida\">Florida</a><a></a></td><td>300 kg</td></tr>,\n",
       " <td>1</td>,\n",
       " <td><a href=\"https://en.wikipedia.org/wiki/Florida\">Florida</a><a></a></td>,\n",
       " <td>300 kg</td>,\n",
       " <tr><td>2</td><td><a href=\"https://en.wikipedia.org/wiki/Texas\">Texas</a></td><td>94 kg</td></tr>,\n",
       " <td>2</td>,\n",
       " <td><a href=\"https://en.wikipedia.org/wiki/Texas\">Texas</a></td>,\n",
       " <td>94 kg</td>,\n",
       " <tr><td>3</td><td><a href=\"https://en.wikipedia.org/wiki/Florida\">Florida</a><a> </a></td><td>80 kg</td></tr>,\n",
       " <td>3</td>,\n",
       " <td><a href=\"https://en.wikipedia.org/wiki/Florida\">Florida</a><a> </a></td>,\n",
       " <td>80 kg</td>]"
      ]
     },
     "execution_count": 111,
     "metadata": {},
     "output_type": "execute_result"
    }
   ],
   "source": [
    "list_input"
   ]
  },
  {
   "cell_type": "code",
   "execution_count": 112,
   "id": "4cd13101",
   "metadata": {},
   "outputs": [
    {
     "data": {
      "text/plain": [
       "[<a href=\"https://en.wikipedia.org/wiki/Florida\">Florida</a>,\n",
       " <a href=\"https://en.wikipedia.org/wiki/Texas\">Texas</a>,\n",
       " <a href=\"https://en.wikipedia.org/wiki/Florida\">Florida</a>]"
      ]
     },
     "execution_count": 112,
     "metadata": {},
     "output_type": "execute_result"
    }
   ],
   "source": [
    "table_bs.find_all(href=True)"
   ]
  },
  {
   "cell_type": "code",
   "execution_count": 113,
   "id": "a88180ea",
   "metadata": {},
   "outputs": [
    {
     "data": {
      "text/plain": [
       "['Florida', 'Florida']"
      ]
     },
     "execution_count": 113,
     "metadata": {},
     "output_type": "execute_result"
    }
   ],
   "source": [
    "table_bs.find_all(string=\"Florida\")"
   ]
  },
  {
   "cell_type": "markdown",
   "id": "9e8f1834",
   "metadata": {},
   "source": [
    "# Downloading And Scraping The Contents Of A Web Page"
   ]
  },
  {
   "cell_type": "code",
   "execution_count": 115,
   "id": "e7f3439f",
   "metadata": {},
   "outputs": [],
   "source": [
    "url = \"http://www.ibm.com\""
   ]
  },
  {
   "cell_type": "code",
   "execution_count": 118,
   "id": "7267e314",
   "metadata": {},
   "outputs": [],
   "source": [
    "data = requests.get(url).text"
   ]
  },
  {
   "cell_type": "code",
   "execution_count": 119,
   "id": "326f5545",
   "metadata": {},
   "outputs": [
    {
     "data": {
      "text/plain": [
       "'\\n<!DOCTYPE HTML>\\n<html lang=\"en-uk\">\\n<head>\\n    \\n    \\n    \\n    \\n    <meta charset=\"UTF-8\"/>\\n    <meta name=\"languageCode\" content=\"en\"/>\\n    <meta name=\"countryCode\" content=\"uk\"/>\\n    <meta name=\"searchTitle\" content=\"IBM - United Kingdom\"/>\\n    <meta name=\"focusArea\" content=\"No Contact Module\"/>\\n    <title>IBM - United Kingdom</title>\\n    <link rel=\"icon\" href=\"/content/dam/adobe-cms/default-images/favicon.svg\"/>\\n    \\n    <meta name=\"description\" content=\"For more than a century, IBM has been a global technology innovator, leading advances in AI, automation and hybrid cloud solutions that help businesses grow.\"/>\\n    <meta name=\"template\" content=\"full-width-layout\"/>\\n    <meta name=\"viewport\" content=\"width=device-width, initial-scale=1\"/>\\n    <meta name=\"robots\" content=\"index, follow\"/>\\n    \\n    <link rel=\"canonical\" href=\"https://www.ibm.com/uk-en\"/>\\n    <style id=\"anti-flicker-style\">\\n        :not(:defined) {\\n          visibility: hidden;\\n        }\\n    </style>\\n    <script type=\"text/javascript\" id=\"anti-flicker-script\">\\n        (async () => {\\n          await customElements.whenDefined(\\'dds-masthead-container\\');\\n          document.getElementById(\\'anti-flicker-style\\').remove();\\n          document.getElementById(\\'anti-flicker-script\\').remove();\\n        })()\\n    </script>\\n    \\n\\n    <script type=\"text/javascript\">\\n        window.searchKey = {\\n            templateName: \\'full\\\\u002Dwidth\\\\u002Dlayout\\',\\n            taxonomylist: \\'\\',\\n            L0Tag: \\'CMaaS Focus Areas,Topics,Brands,Industries,Geography,Compliance Entities,Products\\',\\n        }\\n    </script>\\n\\n<!--    <script>\\n      (function(s,t,a,n){s[t]||(s[t]=a,n=s[a]=function(){n.q.push(arguments)},\\n      n.q=[],n.v=2,n.l=1*new Date)})(window,\"InstanaEumObject\",\"ineum\");\\n      ineum(\\'reportingUrl\\', \\'https://eum-orange-saas.instana.io\\');\\n      ineum(\\'key\\', \\'QSUr0uqUS0m37yyre8ntkQ\\');\\n      ineum(\\'trackSessions\\');\\n    </script>\\n    <script defer crossorigin=\"anonymous\" src=\"https://eum.instana.io/eum.min.js\"></script>-->\\n\\n    \\n        <link rel=\"alternate\" hreflang=\"de-de\" href=\"https://www.ibm.com/de-de\"/>\\n    \\n        <link rel=\"alternate\" hreflang=\"en-us\" href=\"https://www.ibm.com/\"/>\\n    \\n        <link rel=\"alternate\" hreflang=\"en-ca\" href=\"https://www.ibm.com/ca-en\"/>\\n    \\n        <link rel=\"alternate\" hreflang=\"ko-kr\" href=\"https://www.ibm.com/kr-ko\"/>\\n    \\n        <link rel=\"alternate\" hreflang=\"pt-br\" href=\"https://www.ibm.com/br-pt\"/>\\n    \\n        <link rel=\"alternate\" hreflang=\"en-in\" href=\"https://www.ibm.com/in-en\"/>\\n    \\n        <link rel=\"alternate\" hreflang=\"es-es\" href=\"https://www.ibm.com/es-es\"/>\\n    \\n        <link rel=\"alternate\" hreflang=\"zh-cn\" href=\"https://www.ibm.com/cn-zh\"/>\\n    \\n        <link rel=\"alternate\" hreflang=\"es-mx\" href=\"https://www.ibm.com/mx-es\"/>\\n    \\n        <link rel=\"alternate\" hreflang=\"fr-ca\" href=\"https://www.ibm.com/ca-fr\"/>\\n    \\n        <link rel=\"alternate\" hreflang=\"it-it\" href=\"https://www.ibm.com/it-it\"/>\\n    \\n        <link rel=\"alternate\" hreflang=\"id-id\" href=\"https://www.ibm.com/id-id\"/>\\n    \\n        <link rel=\"alternate\" hreflang=\"en-au\" href=\"https://www.ibm.com/au-en\"/>\\n    \\n        <link rel=\"alternate\" hreflang=\"en-uk\" href=\"https://www.ibm.com/uk-en\"/>\\n    \\n        <link rel=\"alternate\" hreflang=\"fr-fr\" href=\"https://www.ibm.com/fr-fr\"/>\\n    \\n        <link rel=\"alternate\" hreflang=\"ja-jp\" href=\"https://www.ibm.com/jp-ja\"/>\\n    \\n    <script type=\"text/javascript\">\\n        window.antiFlicker = {\\n            active: true,\\n            timeout: 3000\\n        }\\n    </script>\\n    <script type=\"text/javascript\">\\n        var languageCode = document.getElementsByName(\\'languageCode\\')[0].content;\\n        var countryCode = document.getElementsByName(\\'countryCode\\')[0].content;\\n        var focusArea = document.getElementsByName(\\'focusArea\\')[0].content;\\n        /* Define digital data object based on _appInfo object */\\n        window.digitalData = {\\n            page: {\\n                category: {\\n                    primaryCategory: \\'\\',\\n                },\\n                pageInfo: {\\n                    language: languageCode + \\'-\\' + countryCode,\\n                    ibm: {\\n                        siteID: \\'MarketingAEM\\',\\n                        country: countryCode,\\n                        messaging: {\\n                            routing: {\\n                                focusArea: focusArea,\\n                                languageCode: languageCode,\\n                                regionCode: countryCode\\n                            },\\n                            translation: {\\n                                languageCode: languageCode,\\n                                regionCode: countryCode\\n                            }\\n                        },\\n                        sections: 0,\\n                        patterns: 0\\n                    }\\n                }\\n            }\\n        };\\n    </script>\\n    \\n    \\n        <meta property=\"og:url\" content=\"https://www.ibm.com/uk-en\"/>\\n    \\n        <meta property=\"og:type\" content=\"website\"/>\\n    \\n        <meta property=\"og:title\" content=\"IBM - United Kingdom\"/>\\n    \\n        <meta property=\"og:description\" content=\"For more than a century, IBM has been a global technology innovator, leading advances in AI, automation and hybrid cloud solutions that help businesses grow.\"/>\\n    \\n        <meta property=\"og:image\" content=\"https://www.ibm.com/content/dam/connectedassets-adobe-cms/worldwide-content/creative-assets/s-migr/ul/g/70/14/ibm-verify-privilege-manager.png/_jcr_content/renditions/cq5dam.medium.1584.1584.png\"/>\\n    \\n        \\n    \\n\\n    <script src=\"https://1.www.s81c.com/common/stats/ibm-common.js\" type=\"text/javascript\" async=\"async\"></script>\\n    <script src=\"https://s3.us.cloud-object-storage.appdomain.cloud/widget-registry/loader.js\" type=\"application/javascript\"></script>\\n    \\n    \\n    \\n<link rel=\"stylesheet\" href=\"/etc.clientlibs/adobe-cms/clientlibs/clientlib-idlStylesCarbon.min.ACSHASH9b67b68f73cfe02412ef99ce8588afd0.css\" type=\"text/css\">\\n<link rel=\"stylesheet\" href=\"/etc.clientlibs/adobe-cms/clientlibs/clientlib-idlStyles.min.ACSHASHd1366ef323401a44e11c5183baaf7398.css\" type=\"text/css\">\\n\\n\\n\\n    \\n    <link rel=\"stylesheet\" href=\"https://1.www.s81c.com/common/carbon-for-ibm-dotcom/tag/v1/latest/plex.css\"/>\\n    <link rel=\"stylesheet\" href=\"https://1.www.s81c.com/common/carbon/plex/sans.css\"/>\\n    \\n    \\n\\n\\n    \\n    \\n    \\r\\n\\n    \\n\\n    \\n    \\n    \\n\\n\\n\\n    \\n\\n    \\n\\n\\n</head>\\n<body class=\"content-page page basicpage publish\" id=\"content-page-f6724d4b5b\">\\n\\n\\n\\n    \\n\\n\\n\\n\\n    \\n\\n\\n\\n    \\n<div class=\"root container responsivegrid\">\\n\\n    \\n    \\n    \\n    <div id=\"container-9225520bd9\" class=\"cmp-container\">\\n        \\n        <div class=\"masthead\">\\n\\n\\n\\n\\n\\n\\n\\n\\n<dds-masthead-container data-endpoint=\"/common/carbon-for-ibm-dotcom/translations/masthead-footer/v2\" auth-method=\"profile-api\" has-contact=\"false\"></dds-masthead-container>\\n\\n\\n\\n\\n<script src=\"https://1.www.s81c.com/common/carbon-for-ibm-dotcom/tag/v2/alpha/masthead.min.js\" type=\"module\"></script>\\n\\n\\n\\n\\n</div>\\n<div class=\"leadspace-container container responsivegrid\">\\n\\n    \\n    \\n    \\n    <div id=\"leadspace-container-af66b94e60\" class=\"cmp-container\">\\n        \\n        <div class=\"leadspace-expanded leadspace\">\\n<section class=\"theme-white\">\\n    <dds-video-cta-container>\\n        <caem-container-leadspace size=\"super\">\\n            \\n\\n            \\n                <caem-heading slot=\"heading\" type=\"h1\" type-style=\"display-01\" id=\"leadspaceSimpleTitle\">\\n                    \\n\\n\\n  <dds-content-group-heading>\\n    \\n\\n  \\n\\n<span class=\"enhanced-title\">Build AI workflows you can trust</span>\\n\\n\\n\\n    \\n\\n  </dds-content-group-heading>\\n\\n\\n\\n\\n\\n\\n    \\n\\n\\n                </caem-heading>\\n            \\n\\n            <caem-paragraph size=\"lead-in\" data-autoid=\"caem--paragraph\">\\n                <p> \\n\\n\\n  \\n  \\n      Now available, watsonx.governance accelerates responsible, transparent and explainable AI workflows \\n  \\n\\n\\n\\n\\n    \\n\\n</p>\\n            </caem-paragraph>\\n\\n            \\n                <caem-button-group slot=\"action\">\\n                    \\n                        \\n                        \\n\\n\\n\\n\\n    \\n    \\n    \\n    \\n    \\n    <caem-button-cta href=\"https://dataplatform.cloud.ibm.com/registration/stepone?context=wx&apps=data_science_experience,watson_machine_learning,cos,aiopenscale&uucid=0cf8ca3f38ace12f&utm_content=WXGWW&regions=us-south\" target=\"_self\" kind=\"primary\" cta-type=\"local\">\\n        <span>Try for free</span>\\n        \\n        \\n    </caem-button-cta>\\n    \\n\\n\\n    \\n    \\n    \\n    \\n    \\n    <caem-button-cta href=\"https://www.ibm.com/products/watsonx-governance\" target=\"_blank\" kind=\"tertiary\" cta-type=\"local\">\\n        <span>View product details</span>\\n        \\n        \\n    </caem-button-cta>\\n    \\n\\n\\n\\n                    \\n                </caem-button-group>\\n            \\n\\n            \\n\\n            \\n                \\n    \\n    \\n        \\n        \\n        \\n        \\n        <caem-image-with-caption id=\"image--888456642\" alt=\"Illustration of various conceptual user features of watsonx\" slot=\"media\" default-src=\"/content/dam/connectedassets-adobe-cms/worldwide-content/homepage/ul/g/79/f8/homepage-leadspace-watson.component.crop-1by1-xl.ts=1701788736771.png/content/adobe-cms/uk/en/homepage/jcr:content/root/leadspace_container/leadspace_expanded\" caption-alignment=\"left\">\\n            \\n            \\n                \\n                    \\n    <dds-image-item media=\"(min-width: 1312px) and (min-resolution: 192dpi)\" srcset=\"/content/dam/connectedassets-adobe-cms/worldwide-content/homepage/ul/g/79/f8/homepage-leadspace-watson.component.crop-1by1-xl-retina.ts=1701788736771.png/content/adobe-cms/uk/en/homepage/jcr:content/root/leadspace_container/leadspace_expanded\"></dds-image-item>\\n    <dds-image-item media=\"(min-width: 1312px)\" srcset=\"/content/dam/connectedassets-adobe-cms/worldwide-content/homepage/ul/g/79/f8/homepage-leadspace-watson.component.crop-1by1-xl.ts=1701788736771.png/content/adobe-cms/uk/en/homepage/jcr:content/root/leadspace_container/leadspace_expanded\"></dds-image-item>\\n    <dds-image-item media=\"(min-width: 1056px) and (min-resolution: 192dpi)\" srcset=\"/content/dam/connectedassets-adobe-cms/worldwide-content/homepage/ul/g/79/f8/homepage-leadspace-watson.component.crop-1by1-l-retina.ts=1701788736771.png/content/adobe-cms/uk/en/homepage/jcr:content/root/leadspace_container/leadspace_expanded\"></dds-image-item>\\n    <dds-image-item media=\"(min-width: 1056px)\" srcset=\"/content/dam/connectedassets-adobe-cms/worldwide-content/homepage/ul/g/79/f8/homepage-leadspace-watson.component.crop-1by1-l.ts=1701788736771.png/content/adobe-cms/uk/en/homepage/jcr:content/root/leadspace_container/leadspace_expanded\"></dds-image-item>\\n    <dds-image-item media=\"(min-width: 672px) and (min-resolution: 192dpi)\" srcset=\"/content/dam/connectedassets-adobe-cms/worldwide-content/homepage/ul/g/79/f8/homepage-leadspace-watson.component.crop-1by1-m-retina.ts=1701788736771.png/content/adobe-cms/uk/en/homepage/jcr:content/root/leadspace_container/leadspace_expanded\"></dds-image-item>\\n    <dds-image-item media=\"(min-width: 672px)\" srcset=\"/content/dam/connectedassets-adobe-cms/worldwide-content/homepage/ul/g/79/f8/homepage-leadspace-watson.component.crop-1by1-m.ts=1701788736771.png/content/adobe-cms/uk/en/homepage/jcr:content/root/leadspace_container/leadspace_expanded\"></dds-image-item>\\n    <dds-image-item media=\"(min-width: 481px) and (min-resolution: 192dpi)\" srcset=\"/content/dam/connectedassets-adobe-cms/worldwide-content/homepage/ul/g/79/f8/homepage-leadspace-watson.component.crop-1by1-s-retina.ts=1701788736771.png/content/adobe-cms/uk/en/homepage/jcr:content/root/leadspace_container/leadspace_expanded\"></dds-image-item>\\n    <dds-image-item media=\"(min-width: 481px)\" srcset=\"/content/dam/connectedassets-adobe-cms/worldwide-content/homepage/ul/g/79/f8/homepage-leadspace-watson.component.crop-1by1-s.ts=1701788736771.png/content/adobe-cms/uk/en/homepage/jcr:content/root/leadspace_container/leadspace_expanded\"></dds-image-item>\\n    <dds-image-item media=\"(max-width: 480px) and (min-resolution: 192dpi)\" srcset=\"/content/dam/connectedassets-adobe-cms/worldwide-content/homepage/ul/g/79/f8/homepage-leadspace-watson.component.crop-1by1-xs-retina.ts=1701788736771.png/content/adobe-cms/uk/en/homepage/jcr:content/root/leadspace_container/leadspace_expanded\"></dds-image-item>\\n    <dds-image-item media=\"(max-width: 480px)\" srcset=\"/content/dam/connectedassets-adobe-cms/worldwide-content/homepage/ul/g/79/f8/homepage-leadspace-watson.component.crop-1by1-xs.ts=1701788736771.png/content/adobe-cms/uk/en/homepage/jcr:content/root/leadspace_container/leadspace_expanded\"></dds-image-item>\\n\\n                    \\n                \\n            \\n        </caem-image-with-caption>\\n    \\n\\n    \\n\\n\\n            \\n            \\n            \\n                \\n                    <dds-link-list slot=\"aside\">\\n                        \\n                    \\n                    \\n                    \\n    \\n        \\n         \\n        <caem-link-list-item cta-type=\"local\" href=\"https://www.ibm.com/products/envizi/esg-reporting-frameworks/csrd-reporting\" label=\"IBM Envizi\" target=\"_blank\">\\n            \\n    \\n\\n\\n\\n    \\n\\n            <p>New CSRD reporting requirements - get ready now</p>\\n            \\n            <dds-card-cta-footer href=\"https://www.ibm.com/products/envizi/esg-reporting-frameworks/csrd-reporting\" target=\"_blank\" cta-type=\"local\">\\n                \\n            </dds-card-cta-footer>\\n        </caem-link-list-item>\\n        \\n        \\n        \\n    \\n    \\n    \\n\\n\\n<script type=\"module\" src=\"https://1.www.s81c.com/common/carbon/carbon-for-aem/version/v0.9.1/link-list-item.min.js\"></script>\\n                    \\n                    \\n                        \\n                    \\n    \\n        \\n         \\n        <caem-link-list-item cta-type=\"local\" href=\"https://newsroom.ibm.com/2023-08-22-IBM-Unveils-watsonx-Generative-AI-Capabilities-to-Accelerate-Mainframe-Application-Modernization\" label=\"IBM Newsroom\" target=\"_blank\">\\n            \\n    \\n\\n\\n\\n    \\n\\n            <p>IBM introduces watsonx Code Assistant for Z to modernize COBOL</p>\\n            \\n            <dds-card-cta-footer href=\"https://newsroom.ibm.com/2023-08-22-IBM-Unveils-watsonx-Generative-AI-Capabilities-to-Accelerate-Mainframe-Application-Modernization\" target=\"_blank\" cta-type=\"local\">\\n                \\n            </dds-card-cta-footer>\\n        </caem-link-list-item>\\n        \\n        \\n        \\n    \\n    \\n    \\n\\n\\n<script type=\"module\" src=\"https://1.www.s81c.com/common/carbon/carbon-for-aem/version/v0.9.1/link-list-item.min.js\"></script>\\n                        \\n                </dds-link-list>\\n                \\n            \\n        </caem-container-leadspace>\\n</dds-video-cta-container>\\n</section>\\n<script type=\"module\" src=\"https://1.www.s81c.com/common/carbon/carbon-for-aem/version/v0.9.1/paragraph.min.js\"></script>\\n<script type=\"module\" src=\"https://1.www.s81c.com/common/carbon/carbon-for-aem/version/v0.9.1/heading.min.js\"></script>\\n<script src=\"https://1.www.s81c.com/common/carbon/carbon-for-aem/version/v0.9.1/leadspace.min.js\" type=\"module\"></script></div>\\n\\n        \\n    </div>\\n\\n</div>\\n<div class=\"table-of-contents container responsivegrid\">\\n<dds-table-of-contents data-cmp-is=\"table-of-contents\" data-autoid=\"dds--table-of-contents\" class=\"cmp-table-of-contents\" stickyoffset=\"48\" toc-layout=\"horizontal\" toc-hide=\"hidden\">\\n    \\n    \\n    <div id=\"table-of-contents-eda9edac78\" class=\"cmp-table-of-contents\">\\n        \\n        <div class=\"modular-container container responsivegrid\">\\n\\n    \\n    \\n    \\n    <div id=\"modular-container-81e8dbd9c2\" class=\"cmp-container\">\\n        \\n        <div class=\"standalone-title enhanced-title text\">\\n\\n  \\n\\n<caem-heading type=\"h5\">Recommended for you</caem-heading>\\n\\n    \\n\\n<script type=\"module\" src=\"https://1.www.s81c.com/common/carbon/carbon-for-aem/version/v0.9.1/heading.min.js\"></script></div>\\n\\n        \\n    </div>\\n\\n</div>\\n<div class=\"tile-group-container container responsivegrid\">\\n  <div class=\"bx--col\">\\n    <caem-tile-group>\\n      \\n\\n    \\n    \\n    <caem-tile label=\"IBM Security Verify\" cta-type=\"local\" href=\"https://www.ibm.com/verify\" target=\"_self\">\\n        \\n        \\n            \\n\\n\\n\\n\\n    \\n    \\n        \\n        \\n        \\n        \\n        <dds-image id=\"image--778757909\" alt=\"An illustration of IBM Security Verify\" slot=\"image\" default-src=\"/content/dam/connectedassets-adobe-cms/worldwide-content/creative-assets/s-migr/ul/g/70/14/ibm-verify-privilege-manager.component.tile-card-xl.ts=1702655735391.png/content/adobe-cms/uk/en/homepage/jcr:content/root/table_of_contents/tile_group_container/container/tile_card/image\">\\n            \\n            \\n                \\n                    \\n    <dds-image-item media=\"(min-width: 1312px) and (min-resolution: 192dpi)\" srcset=\"/content/dam/connectedassets-adobe-cms/worldwide-content/creative-assets/s-migr/ul/g/70/14/ibm-verify-privilege-manager.component.tile-card-xl-retina.ts=1702655735391.png/content/adobe-cms/uk/en/homepage/jcr:content/root/table_of_contents/tile_group_container/container/tile_card/image\"></dds-image-item>\\n    <dds-image-item media=\"(min-width: 1312px)\" srcset=\"/content/dam/connectedassets-adobe-cms/worldwide-content/creative-assets/s-migr/ul/g/70/14/ibm-verify-privilege-manager.component.tile-card-xl.ts=1702655735391.png/content/adobe-cms/uk/en/homepage/jcr:content/root/table_of_contents/tile_group_container/container/tile_card/image\"></dds-image-item>\\n    <dds-image-item media=\"(min-width: 1056px) and (min-resolution: 192dpi)\" srcset=\"/content/dam/connectedassets-adobe-cms/worldwide-content/creative-assets/s-migr/ul/g/70/14/ibm-verify-privilege-manager.component.tile-card-l-retina.ts=1702655735391.png/content/adobe-cms/uk/en/homepage/jcr:content/root/table_of_contents/tile_group_container/container/tile_card/image\"></dds-image-item>\\n    <dds-image-item media=\"(min-width: 1056px)\" srcset=\"/content/dam/connectedassets-adobe-cms/worldwide-content/creative-assets/s-migr/ul/g/70/14/ibm-verify-privilege-manager.component.tile-card-l.ts=1702655735391.png/content/adobe-cms/uk/en/homepage/jcr:content/root/table_of_contents/tile_group_container/container/tile_card/image\"></dds-image-item>\\n    <dds-image-item media=\"(min-width: 672px) and (min-resolution: 192dpi)\" srcset=\"/content/dam/connectedassets-adobe-cms/worldwide-content/creative-assets/s-migr/ul/g/70/14/ibm-verify-privilege-manager.component.tile-card-m-retina.ts=1702655735391.png/content/adobe-cms/uk/en/homepage/jcr:content/root/table_of_contents/tile_group_container/container/tile_card/image\"></dds-image-item>\\n    <dds-image-item media=\"(min-width: 672px)\" srcset=\"/content/dam/connectedassets-adobe-cms/worldwide-content/creative-assets/s-migr/ul/g/70/14/ibm-verify-privilege-manager.component.tile-card-m.ts=1702655735391.png/content/adobe-cms/uk/en/homepage/jcr:content/root/table_of_contents/tile_group_container/container/tile_card/image\"></dds-image-item>\\n    <dds-image-item media=\"(min-width: 481px) and (min-resolution: 192dpi)\" srcset=\"/content/dam/connectedassets-adobe-cms/worldwide-content/creative-assets/s-migr/ul/g/70/14/ibm-verify-privilege-manager.component.tile-card-s-retina.ts=1702655735391.png/content/adobe-cms/uk/en/homepage/jcr:content/root/table_of_contents/tile_group_container/container/tile_card/image\"></dds-image-item>\\n    <dds-image-item media=\"(min-width: 481px)\" srcset=\"/content/dam/connectedassets-adobe-cms/worldwide-content/creative-assets/s-migr/ul/g/70/14/ibm-verify-privilege-manager.component.tile-card-s.ts=1702655735391.png/content/adobe-cms/uk/en/homepage/jcr:content/root/table_of_contents/tile_group_container/container/tile_card/image\"></dds-image-item>\\n    <dds-image-item media=\"(max-width: 480px) and (min-resolution: 192dpi)\" srcset=\"/content/dam/connectedassets-adobe-cms/worldwide-content/creative-assets/s-migr/ul/g/70/14/ibm-verify-privilege-manager.component.tile-card-xs-retina.ts=1702655735391.png/content/adobe-cms/uk/en/homepage/jcr:content/root/table_of_contents/tile_group_container/container/tile_card/image\"></dds-image-item>\\n    <dds-image-item media=\"(max-width: 480px)\" srcset=\"/content/dam/connectedassets-adobe-cms/worldwide-content/creative-assets/s-migr/ul/g/70/14/ibm-verify-privilege-manager.component.tile-card-xs.ts=1702655735391.png/content/adobe-cms/uk/en/homepage/jcr:content/root/table_of_contents/tile_group_container/container/tile_card/image\"></dds-image-item>\\n\\n                    \\n                \\n            \\n        </dds-image>\\n    \\n\\n    \\n\\n\\n\\n        \\n        \\n    \\n\\n        Smart IAM solutions for the hybrid and multicloud enterprise, powered by AI and backed by IBM Security.\\n        \\n    \\n\\n\\n\\n    \\n\\n        <p slot=\"cta\">\\n            \\n        </p>\\n\\n    </caem-tile>\\n\\n    <div class=\"caem-card-svg-source\" hidden>\\n        <svg xmlns=\"http://www.w3.org/2000/svg\" id=\"accelerated-computing\" viewBox=\"0 0 32 32\"><path d=\"M19,29.36c-3.401,0-6.596-1.506-8.764-4.131l0.556-0.459c2.03,2.459,5.022,3.869,8.208,3.869 c5.867,0,10.64-4.772,10.64-10.64c0-5.867-4.772-10.64-10.64-10.64c-3.186,0-6.177,1.411-8.208,3.87l-0.555-0.459 c2.091-2.532,5.137-4.022,8.403-4.125V5.36H16c-0.199,0-0.36-0.161-0.36-0.36V3c0-0.199,0.161-0.36,0.36-0.36h6 c0.199,0,0.36,0.161,0.36,0.36v2c0,0.199-0.161,0.36-0.36,0.36h-2.64v1.286c6.098,0.191,11,5.211,11,11.354 C30.36,24.264,25.264,29.36,19,29.36z M16.36,4.64h5.28V3.36h-5.28V4.64z M14,23.36H4v-0.72h10V23.36z M12,18.36H2v-0.72h10V18.36z M19.179,18.312l-0.357-0.625l7-4l0.357,0.625L19.179,18.312z M14,13.36H4v-0.72h10V13.36z\"/></svg>\\n    </div>\\n    \\n    \\n\\n\\n\\n<script src=\"https://1.www.s81c.com/common/carbon/carbon-for-aem/version/v0.9.1/tile.min.js\" type=\"module\"></script>\\n\\n    \\n\\n    \\n    \\n    <caem-tile label=\"Trade-in\" cta-type=\"local\" href=\"https://www.ibm.com/uk-en/resources/modernize/uk-storage-trade-in\" target=\"_self\">\\n        \\n        \\n            \\n\\n\\n\\n\\n    \\n    \\n        \\n        \\n        \\n        \\n        <dds-image id=\"image--776480784\" alt=\"An illustration of IBM Flash System\" slot=\"image\" default-src=\"/content/dam/connectedassets-adobe-cms/worldwide-content/other/ul/cms/9d/b8/IBMStorage-FlashSystem9200-FrontFacing.component.tile-card-xl.ts=1702653936771.png/content/adobe-cms/uk/en/homepage/jcr:content/root/table_of_contents/tile_group_container/container/tile_card_2105644765/image\">\\n            \\n            \\n                \\n                    \\n    <dds-image-item media=\"(min-width: 1312px) and (min-resolution: 192dpi)\" srcset=\"/content/dam/connectedassets-adobe-cms/worldwide-content/other/ul/cms/9d/b8/IBMStorage-FlashSystem9200-FrontFacing.component.tile-card-xl-retina.ts=1702653936771.png/content/adobe-cms/uk/en/homepage/jcr:content/root/table_of_contents/tile_group_container/container/tile_card_2105644765/image\"></dds-image-item>\\n    <dds-image-item media=\"(min-width: 1312px)\" srcset=\"/content/dam/connectedassets-adobe-cms/worldwide-content/other/ul/cms/9d/b8/IBMStorage-FlashSystem9200-FrontFacing.component.tile-card-xl.ts=1702653936771.png/content/adobe-cms/uk/en/homepage/jcr:content/root/table_of_contents/tile_group_container/container/tile_card_2105644765/image\"></dds-image-item>\\n    <dds-image-item media=\"(min-width: 1056px) and (min-resolution: 192dpi)\" srcset=\"/content/dam/connectedassets-adobe-cms/worldwide-content/other/ul/cms/9d/b8/IBMStorage-FlashSystem9200-FrontFacing.component.tile-card-l-retina.ts=1702653936771.png/content/adobe-cms/uk/en/homepage/jcr:content/root/table_of_contents/tile_group_container/container/tile_card_2105644765/image\"></dds-image-item>\\n    <dds-image-item media=\"(min-width: 1056px)\" srcset=\"/content/dam/connectedassets-adobe-cms/worldwide-content/other/ul/cms/9d/b8/IBMStorage-FlashSystem9200-FrontFacing.component.tile-card-l.ts=1702653936771.png/content/adobe-cms/uk/en/homepage/jcr:content/root/table_of_contents/tile_group_container/container/tile_card_2105644765/image\"></dds-image-item>\\n    <dds-image-item media=\"(min-width: 672px) and (min-resolution: 192dpi)\" srcset=\"/content/dam/connectedassets-adobe-cms/worldwide-content/other/ul/cms/9d/b8/IBMStorage-FlashSystem9200-FrontFacing.component.tile-card-m-retina.ts=1702653936771.png/content/adobe-cms/uk/en/homepage/jcr:content/root/table_of_contents/tile_group_container/container/tile_card_2105644765/image\"></dds-image-item>\\n    <dds-image-item media=\"(min-width: 672px)\" srcset=\"/content/dam/connectedassets-adobe-cms/worldwide-content/other/ul/cms/9d/b8/IBMStorage-FlashSystem9200-FrontFacing.component.tile-card-m.ts=1702653936771.png/content/adobe-cms/uk/en/homepage/jcr:content/root/table_of_contents/tile_group_container/container/tile_card_2105644765/image\"></dds-image-item>\\n    <dds-image-item media=\"(min-width: 481px) and (min-resolution: 192dpi)\" srcset=\"/content/dam/connectedassets-adobe-cms/worldwide-content/other/ul/cms/9d/b8/IBMStorage-FlashSystem9200-FrontFacing.component.tile-card-s-retina.ts=1702653936771.png/content/adobe-cms/uk/en/homepage/jcr:content/root/table_of_contents/tile_group_container/container/tile_card_2105644765/image\"></dds-image-item>\\n    <dds-image-item media=\"(min-width: 481px)\" srcset=\"/content/dam/connectedassets-adobe-cms/worldwide-content/other/ul/cms/9d/b8/IBMStorage-FlashSystem9200-FrontFacing.component.tile-card-s.ts=1702653936771.png/content/adobe-cms/uk/en/homepage/jcr:content/root/table_of_contents/tile_group_container/container/tile_card_2105644765/image\"></dds-image-item>\\n    <dds-image-item media=\"(max-width: 480px) and (min-resolution: 192dpi)\" srcset=\"/content/dam/connectedassets-adobe-cms/worldwide-content/other/ul/cms/9d/b8/IBMStorage-FlashSystem9200-FrontFacing.component.tile-card-xs-retina.ts=1702653936771.png/content/adobe-cms/uk/en/homepage/jcr:content/root/table_of_contents/tile_group_container/container/tile_card_2105644765/image\"></dds-image-item>\\n    <dds-image-item media=\"(max-width: 480px)\" srcset=\"/content/dam/connectedassets-adobe-cms/worldwide-content/other/ul/cms/9d/b8/IBMStorage-FlashSystem9200-FrontFacing.component.tile-card-xs.ts=1702653936771.png/content/adobe-cms/uk/en/homepage/jcr:content/root/table_of_contents/tile_group_container/container/tile_card_2105644765/image\"></dds-image-item>\\n\\n                    \\n                \\n            \\n        </dds-image>\\n    \\n\\n    \\n\\n\\n\\n        \\n        \\n    \\n\\n        Purchase IBM FlashSystem® storage and trade-in non-IBM storage for a rebate\\n        \\n    \\n\\n\\n\\n    \\n\\n        <p slot=\"cta\">\\n            \\n        </p>\\n\\n    </caem-tile>\\n\\n    <div class=\"caem-card-svg-source\" hidden>\\n        <svg xmlns=\"http://www.w3.org/2000/svg\" id=\"accelerated-computing\" viewBox=\"0 0 32 32\"><path d=\"M19,29.36c-3.401,0-6.596-1.506-8.764-4.131l0.556-0.459c2.03,2.459,5.022,3.869,8.208,3.869 c5.867,0,10.64-4.772,10.64-10.64c0-5.867-4.772-10.64-10.64-10.64c-3.186,0-6.177,1.411-8.208,3.87l-0.555-0.459 c2.091-2.532,5.137-4.022,8.403-4.125V5.36H16c-0.199,0-0.36-0.161-0.36-0.36V3c0-0.199,0.161-0.36,0.36-0.36h6 c0.199,0,0.36,0.161,0.36,0.36v2c0,0.199-0.161,0.36-0.36,0.36h-2.64v1.286c6.098,0.191,11,5.211,11,11.354 C30.36,24.264,25.264,29.36,19,29.36z M16.36,4.64h5.28V3.36h-5.28V4.64z M14,23.36H4v-0.72h10V23.36z M12,18.36H2v-0.72h10V18.36z M19.179,18.312l-0.357-0.625l7-4l0.357,0.625L19.179,18.312z M14,13.36H4v-0.72h10V13.36z\"/></svg>\\n    </div>\\n    \\n    \\n\\n\\n\\n<script src=\"https://1.www.s81c.com/common/carbon/carbon-for-aem/version/v0.9.1/tile.min.js\" type=\"module\"></script>\\n\\n    \\n    \\n    <caem-tile label=\"Buy now\" cta-type=\"local\" href=\"https://www.ibm.com/uk-en/products/spss-statistics/pricing?lnk=cardT\" target=\"_self\">\\n        \\n        \\n            \\n\\n\\n\\n\\n    \\n    \\n        \\n        \\n        \\n        \\n        <dds-image id=\"image--1757363014\" alt=\"Illustration of colleagues viewing a giant dashboard\" slot=\"image\" default-src=\"/content/dam/connectedassets-adobe-cms/worldwide-content/homepage/ul/g/a7/33/ibm-SPSS-home-card.component.tile-card-xl.ts=1698259947266.png/content/adobe-cms/uk/en/homepage/jcr:content/root/table_of_contents/tile_group_container/container/tile_card_392377621/image\">\\n            \\n            \\n                \\n                    \\n    <dds-image-item media=\"(min-width: 1312px) and (min-resolution: 192dpi)\" srcset=\"/content/dam/connectedassets-adobe-cms/worldwide-content/homepage/ul/g/a7/33/ibm-SPSS-home-card.component.tile-card-xl-retina.ts=1698259947266.png/content/adobe-cms/uk/en/homepage/jcr:content/root/table_of_contents/tile_group_container/container/tile_card_392377621/image\"></dds-image-item>\\n    <dds-image-item media=\"(min-width: 1312px)\" srcset=\"/content/dam/connectedassets-adobe-cms/worldwide-content/homepage/ul/g/a7/33/ibm-SPSS-home-card.component.tile-card-xl.ts=1698259947266.png/content/adobe-cms/uk/en/homepage/jcr:content/root/table_of_contents/tile_group_container/container/tile_card_392377621/image\"></dds-image-item>\\n    <dds-image-item media=\"(min-width: 1056px) and (min-resolution: 192dpi)\" srcset=\"/content/dam/connectedassets-adobe-cms/worldwide-content/homepage/ul/g/a7/33/ibm-SPSS-home-card.component.tile-card-l-retina.ts=1698259947266.png/content/adobe-cms/uk/en/homepage/jcr:content/root/table_of_contents/tile_group_container/container/tile_card_392377621/image\"></dds-image-item>\\n    <dds-image-item media=\"(min-width: 1056px)\" srcset=\"/content/dam/connectedassets-adobe-cms/worldwide-content/homepage/ul/g/a7/33/ibm-SPSS-home-card.component.tile-card-l.ts=1698259947266.png/content/adobe-cms/uk/en/homepage/jcr:content/root/table_of_contents/tile_group_container/container/tile_card_392377621/image\"></dds-image-item>\\n    <dds-image-item media=\"(min-width: 672px) and (min-resolution: 192dpi)\" srcset=\"/content/dam/connectedassets-adobe-cms/worldwide-content/homepage/ul/g/a7/33/ibm-SPSS-home-card.component.tile-card-m-retina.ts=1698259947266.png/content/adobe-cms/uk/en/homepage/jcr:content/root/table_of_contents/tile_group_container/container/tile_card_392377621/image\"></dds-image-item>\\n    <dds-image-item media=\"(min-width: 672px)\" srcset=\"/content/dam/connectedassets-adobe-cms/worldwide-content/homepage/ul/g/a7/33/ibm-SPSS-home-card.component.tile-card-m.ts=1698259947266.png/content/adobe-cms/uk/en/homepage/jcr:content/root/table_of_contents/tile_group_container/container/tile_card_392377621/image\"></dds-image-item>\\n    <dds-image-item media=\"(min-width: 481px) and (min-resolution: 192dpi)\" srcset=\"/content/dam/connectedassets-adobe-cms/worldwide-content/homepage/ul/g/a7/33/ibm-SPSS-home-card.component.tile-card-s-retina.ts=1698259947266.png/content/adobe-cms/uk/en/homepage/jcr:content/root/table_of_contents/tile_group_container/container/tile_card_392377621/image\"></dds-image-item>\\n    <dds-image-item media=\"(min-width: 481px)\" srcset=\"/content/dam/connectedassets-adobe-cms/worldwide-content/homepage/ul/g/a7/33/ibm-SPSS-home-card.component.tile-card-s.ts=1698259947266.png/content/adobe-cms/uk/en/homepage/jcr:content/root/table_of_contents/tile_group_container/container/tile_card_392377621/image\"></dds-image-item>\\n    <dds-image-item media=\"(max-width: 480px) and (min-resolution: 192dpi)\" srcset=\"/content/dam/connectedassets-adobe-cms/worldwide-content/homepage/ul/g/a7/33/ibm-SPSS-home-card.component.tile-card-xs-retina.ts=1698259947266.png/content/adobe-cms/uk/en/homepage/jcr:content/root/table_of_contents/tile_group_container/container/tile_card_392377621/image\"></dds-image-item>\\n    <dds-image-item media=\"(max-width: 480px)\" srcset=\"/content/dam/connectedassets-adobe-cms/worldwide-content/homepage/ul/g/a7/33/ibm-SPSS-home-card.component.tile-card-xs.ts=1698259947266.png/content/adobe-cms/uk/en/homepage/jcr:content/root/table_of_contents/tile_group_container/container/tile_card_392377621/image\"></dds-image-item>\\n\\n                    \\n                \\n            \\n        </dds-image>\\n    \\n\\n    \\n\\n\\n\\n        \\n        \\n    \\n\\n        Save 10% on SPSS Statistics subscription\\n        \\n    \\n\\n\\n\\n    \\n\\n        <p slot=\"cta\">\\n            \\n        </p>\\n\\n    </caem-tile>\\n\\n    <div class=\"caem-card-svg-source\" hidden>\\n        \\n    </div>\\n    \\n    \\n\\n\\n\\n<script src=\"https://1.www.s81c.com/common/carbon/carbon-for-aem/version/v0.9.1/tile.min.js\" type=\"module\"></script>\\n\\n    \\n    \\n    <caem-tile label=\"Buy now\" cta-type=\"local\" href=\"https://www.ibm.com/uk-en/products/maas360/pricing?lnk=cardT\" target=\"_self\">\\n        \\n        \\n            \\n\\n\\n\\n\\n    \\n    \\n        \\n        \\n        \\n        \\n        <dds-image id=\"image--1038735669\" alt=\"Illustration of multiple devices powered by one network\" slot=\"image\" default-src=\"/content/dam/connectedassets-adobe-cms/worldwide-content/pm/ul/g/55/a9/maas360_native.component.tile-card-xl.ts=1698259947560.png/content/adobe-cms/uk/en/homepage/jcr:content/root/table_of_contents/tile_group_container/container/tile_card_1699798462/image\">\\n            \\n            \\n                \\n                    \\n    <dds-image-item media=\"(min-width: 1312px) and (min-resolution: 192dpi)\" srcset=\"/content/dam/connectedassets-adobe-cms/worldwide-content/pm/ul/g/55/a9/maas360_native.component.tile-card-xl-retina.ts=1698259947560.png/content/adobe-cms/uk/en/homepage/jcr:content/root/table_of_contents/tile_group_container/container/tile_card_1699798462/image\"></dds-image-item>\\n    <dds-image-item media=\"(min-width: 1312px)\" srcset=\"/content/dam/connectedassets-adobe-cms/worldwide-content/pm/ul/g/55/a9/maas360_native.component.tile-card-xl.ts=1698259947560.png/content/adobe-cms/uk/en/homepage/jcr:content/root/table_of_contents/tile_group_container/container/tile_card_1699798462/image\"></dds-image-item>\\n    <dds-image-item media=\"(min-width: 1056px) and (min-resolution: 192dpi)\" srcset=\"/content/dam/connectedassets-adobe-cms/worldwide-content/pm/ul/g/55/a9/maas360_native.component.tile-card-l-retina.ts=1698259947560.png/content/adobe-cms/uk/en/homepage/jcr:content/root/table_of_contents/tile_group_container/container/tile_card_1699798462/image\"></dds-image-item>\\n    <dds-image-item media=\"(min-width: 1056px)\" srcset=\"/content/dam/connectedassets-adobe-cms/worldwide-content/pm/ul/g/55/a9/maas360_native.component.tile-card-l.ts=1698259947560.png/content/adobe-cms/uk/en/homepage/jcr:content/root/table_of_contents/tile_group_container/container/tile_card_1699798462/image\"></dds-image-item>\\n    <dds-image-item media=\"(min-width: 672px) and (min-resolution: 192dpi)\" srcset=\"/content/dam/connectedassets-adobe-cms/worldwide-content/pm/ul/g/55/a9/maas360_native.component.tile-card-m-retina.ts=1698259947560.png/content/adobe-cms/uk/en/homepage/jcr:content/root/table_of_contents/tile_group_container/container/tile_card_1699798462/image\"></dds-image-item>\\n    <dds-image-item media=\"(min-width: 672px)\" srcset=\"/content/dam/connectedassets-adobe-cms/worldwide-content/pm/ul/g/55/a9/maas360_native.component.tile-card-m.ts=1698259947560.png/content/adobe-cms/uk/en/homepage/jcr:content/root/table_of_contents/tile_group_container/container/tile_card_1699798462/image\"></dds-image-item>\\n    <dds-image-item media=\"(min-width: 481px) and (min-resolution: 192dpi)\" srcset=\"/content/dam/connectedassets-adobe-cms/worldwide-content/pm/ul/g/55/a9/maas360_native.component.tile-card-s-retina.ts=1698259947560.png/content/adobe-cms/uk/en/homepage/jcr:content/root/table_of_contents/tile_group_container/container/tile_card_1699798462/image\"></dds-image-item>\\n    <dds-image-item media=\"(min-width: 481px)\" srcset=\"/content/dam/connectedassets-adobe-cms/worldwide-content/pm/ul/g/55/a9/maas360_native.component.tile-card-s.ts=1698259947560.png/content/adobe-cms/uk/en/homepage/jcr:content/root/table_of_contents/tile_group_container/container/tile_card_1699798462/image\"></dds-image-item>\\n    <dds-image-item media=\"(max-width: 480px) and (min-resolution: 192dpi)\" srcset=\"/content/dam/connectedassets-adobe-cms/worldwide-content/pm/ul/g/55/a9/maas360_native.component.tile-card-xs-retina.ts=1698259947560.png/content/adobe-cms/uk/en/homepage/jcr:content/root/table_of_contents/tile_group_container/container/tile_card_1699798462/image\"></dds-image-item>\\n    <dds-image-item media=\"(max-width: 480px)\" srcset=\"/content/dam/connectedassets-adobe-cms/worldwide-content/pm/ul/g/55/a9/maas360_native.component.tile-card-xs.ts=1698259947560.png/content/adobe-cms/uk/en/homepage/jcr:content/root/table_of_contents/tile_group_container/container/tile_card_1699798462/image\"></dds-image-item>\\n\\n                    \\n                \\n            \\n        </dds-image>\\n    \\n\\n    \\n\\n\\n\\n        \\n        \\n    \\n\\n        Save 10% on any MaaS360 plan\\n        \\n    \\n\\n\\n\\n    \\n\\n        <p slot=\"cta\">\\n            \\n        </p>\\n\\n    </caem-tile>\\n\\n    <div class=\"caem-card-svg-source\" hidden>\\n        <svg xmlns=\"http://www.w3.org/2000/svg\" id=\"accelerated-computing\" viewBox=\"0 0 32 32\"><path d=\"M19,29.36c-3.401,0-6.596-1.506-8.764-4.131l0.556-0.459c2.03,2.459,5.022,3.869,8.208,3.869 c5.867,0,10.64-4.772,10.64-10.64c0-5.867-4.772-10.64-10.64-10.64c-3.186,0-6.177,1.411-8.208,3.87l-0.555-0.459 c2.091-2.532,5.137-4.022,8.403-4.125V5.36H16c-0.199,0-0.36-0.161-0.36-0.36V3c0-0.199,0.161-0.36,0.36-0.36h6 c0.199,0,0.36,0.161,0.36,0.36v2c0,0.199-0.161,0.36-0.36,0.36h-2.64v1.286c6.098,0.191,11,5.211,11,11.354 C30.36,24.264,25.264,29.36,19,29.36z M16.36,4.64h5.28V3.36h-5.28V4.64z M14,23.36H4v-0.72h10V23.36z M12,18.36H2v-0.72h10V18.36z M19.179,18.312l-0.357-0.625l7-4l0.357,0.625L19.179,18.312z M14,13.36H4v-0.72h10V13.36z\"/></svg>\\n    </div>\\n    \\n    \\n\\n\\n\\n<script src=\"https://1.www.s81c.com/common/carbon/carbon-for-aem/version/v0.9.1/tile.min.js\" type=\"module\"></script>\\n\\n\\n\\n\\n    </caem-tile-group>\\n  </div>  \\n\\n\\n<script type=\"module\" src=\"https://1.www.s81c.com/common/carbon/carbon-for-aem/version/v0.9.1/tile.min.js\"></script></div>\\n<div class=\"intro-section\"><div class=\"bx--col\">\\n    <caem-intro-section>\\n\\n        <caem-heading slot=\"heading\" type=\"h2\" type-style=\"expressive-heading-05\" data-autoid=\"caem-heading\">\\n                \\n\\n\\n\\n  \\n    Browse our technology\\n\\n\\n\\n\\n\\n\\n    \\n\\n\\n            </caem-heading>\\n\\n        <caem-paragraph size=\"lead-in\" data-autoid=\"caem--paragraph\">\\n            <div class=\"cms-richtext\" id=\"rich-text-1da0ca4f24\" data-dynamic-inner-content=\"description\">\\n    <p>From our flagship products for enterprise\\xa0<a href=\"https://www.ibm.com/uk-en/cloud?lnk=intro\">hybrid cloud infrastructure</a>\\xa0to next-generation AI, security and storage solutions, find the answer to your business challenge.</p>\\n \\n    \\n    \\n    \\n    \\n\\n</div>\\n        </caem-paragraph>\\n\\n        \\n            <dds-link-list type=\"vertical\">\\n                \\n                    \\n    \\n    \\n        \\n        <dds-video-cta-container>\\n            <dds-link-list-item-cta cta-type=\"local\" href=\"https://www.ibm.com/uk-en/products?lnk=intro\" icon-placement=\"right\" role=\"listitem\" target=\"_self\">\\n                View all products\\n                \\n            </dds-link-list-item-cta>\\n        </dds-video-cta-container>\\n    \\n    \\n    \\n\\n\\n\\n                \\n                \\n                    \\n    \\n    \\n        \\n        <dds-video-cta-container>\\n            <dds-link-list-item-cta cta-type=\"local\" href=\"https://www.ibm.com/uk-en/products/offers-and-discounts\" icon-placement=\"right\" role=\"listitem\" target=\"_self\">\\n                Shop special offers and discounts\\n                \\n            </dds-link-list-item-cta>\\n        </dds-video-cta-container>\\n    \\n    \\n    \\n\\n\\n\\n                \\n            </dds-link-list>\\n        \\n\\n        \\n\\n    </caem-intro-section>\\n</div>\\n<script type=\"module\" src=\"https://1.www.s81c.com/common/carbon/carbon-for-aem/version/v0.9.1/paragraph.min.js\"></script>\\n<script type=\"module\" src=\"https://1.www.s81c.com/common/carbon/carbon-for-aem/version/v0.9.1/heading.min.js\"></script>\\n<script type=\"module\" src=\"https://1.www.s81c.com/common/carbon/carbon-for-aem/version/v0.9.1/intro-section.min.js\"></script>\\n<script type=\"module\" src=\"https://1.www.s81c.com/common/carbon/carbon-for-aem/version/v0.9.1/brand-cta-section.min.js\"></script>\\n</div>\\n<div class=\"card-group-pictogram-full-width card-group-pictogram\">\\n    <div class=\"bx--content-block\">\\n        \\n\\n        \\n        \\n            \\n                <caem-card-group grid-mode=\"border\" cards-per-row=\"4\" data-autoid=\"dds--card-group\" style=\"--dds--card-group--cards-in-row:4\">\\n                    \\n\\n    \\n    \\n    \\n    \\n    \\n        \\n            \\n            \\n                \\n                <caem-card color-scheme cta-type=\"local\" data-autoid=\"caem--card\" href=\"https://www.ibm.com/uk-en/artificial-intelligence?lnk=prodC\" target=\"_self\" pictogram-placement=\"top\" size>\\n                    <caem-card-heading aria-level=\"3\" data-autoid=\"caem--card-heading\" role=\"heading\" slot=\"heading\">\\n                        \\n                        AI &amp; machine learning</caem-card-heading>\\n                    <svg slot=\"pictogram\" class=\"bx--card__pictogram\" data-autoid=\"caem--card__pictogram\" focusable=\"false\" height=\"48\" width=\"48\" role=\"img\">\\n                        <use href=\"#ai\"></use>\\n                    </svg>\\n                    <p>Use IBM Watsonx’s AI or build your own machine learning models</p>\\n                    <caem-card-cta-footer color-scheme target=\"_self\" cta-type=\"local\" data-autoid=\"caem--card-cta-footer\" href=\"https://www.ibm.com/uk-en/artificial-intelligence?lnk=prodC\" icon-placement=\"right\" parent-href=\"https://www.ibm.com/uk-en/artificial-intelligence?lnk=prodC\" slot=\"footer\">\\n                        \\n                    </caem-card-cta-footer>\\n                    <div class=\"caem-card-svg-source\">\\n                        <svg xmlns=\"http://www.w3.org/2000/svg\" id=\"ai\" viewBox=\"0 0 32 32\"><path d=\"M16.195,31.36c-6.421,0-12.169-4.007-14.399-10.002 C1.051,21.408,0.373,20.771,0.372,20c0-0.75,0.61-1.36,1.36-1.36s1.36,0.61,1.36,1.36c0,0.474-0.243,0.892-0.611,1.135 c2.133,5.698,7.604,9.505,13.714,9.505c6.446,0,11.919-4.301,13.773-10.22c-1.448,2.06-3.877,3.44-6.565,3.44 c-3.822,0-7.066-2.785-7.664-6.525C15.113,17.212,14.64,16.661,14.64,16c0-0.584,0.37-1.083,0.888-1.275 c-0.608-3.421-3.615-5.962-7.125-5.962c-3.947,0-7.04,3.176-7.042,7.231c0,0.002,0,0.004,0,0.006H0.64c0-0.002,0-0.004,0-0.007 C0.644,7.526,7.445,0.64,15.805,0.64c6.42,0,12.168,4.006,14.399,10.001c0.777-0.034,1.425,0.587,1.425,1.358 c0,0.75-0.61,1.36-1.36,1.36s-1.36-0.61-1.36-1.36c0-0.473,0.243-0.891,0.611-1.135C27.387,5.166,21.916,1.36,15.805,1.36 c-6.319,0-11.704,4.134-13.659,9.873c1.402-1.949,3.662-3.19,6.256-3.19c3.881,0,7.204,2.826,7.846,6.62 C16.88,14.779,17.36,15.335,17.36,16c0,0.589-0.376,1.092-0.901,1.28c0.567,3.363,3.496,5.859,6.943,5.859 c3.857,0,7.127-3.118,7.235-6.851c0.001-0.096,0.002-0.192,0.002-0.289h0.721c0,0.033,0,0.065-0.001,0.098h0.001 c0,0.069-0.001,0.138-0.003,0.207C31.196,24.634,24.456,31.36,16.195,31.36z M1.732,19.36c-0.353,0-0.64,0.287-0.64,0.64 s0.287,0.64,0.64,0.64s0.64-0.287,0.64-0.64S2.085,19.36,1.732,19.36z M16,15.36c-0.353,0-0.64,0.287-0.64,0.64 s0.287,0.64,0.64,0.64s0.64-0.287,0.64-0.64S16.353,15.36,16,15.36z M30.269,11.36c-0.353,0-0.64,0.287-0.64,0.64 s0.287,0.64,0.64,0.64s0.64-0.287,0.64-0.64S30.621,11.36,30.269,11.36z\"/></svg>\\n                    </div>\\n                </caem-card>\\n            \\n        \\n    \\n    \\n    \\n\\n\\n\\n    \\n        \\n            \\n            \\n                \\n                <caem-card color-scheme cta-type=\"local\" data-autoid=\"caem--card\" href=\"https://www.ibm.com/uk-en/analytics?lnk=ProdC\" target=\"_self\" pictogram-placement=\"top\" size>\\n                    <caem-card-heading aria-level=\"3\" data-autoid=\"caem--card-heading\" role=\"heading\" slot=\"heading\">\\n                        \\n                        Analytics</caem-card-heading>\\n                    <svg slot=\"pictogram\" class=\"bx--card__pictogram\" data-autoid=\"caem--card__pictogram\" focusable=\"false\" height=\"48\" width=\"48\" role=\"img\">\\n                        <use href=\"#predictive-analytics\"></use>\\n                    </svg>\\n                    <p>Aggregate and analyze large datasets</p>\\n                    <caem-card-cta-footer color-scheme target=\"_self\" cta-type=\"local\" data-autoid=\"caem--card-cta-footer\" href=\"https://www.ibm.com/uk-en/analytics?lnk=ProdC\" icon-placement=\"right\" parent-href=\"https://www.ibm.com/uk-en/analytics?lnk=ProdC\" slot=\"footer\">\\n                        \\n                    </caem-card-cta-footer>\\n                    <div class=\"caem-card-svg-source\">\\n                        <svg xmlns=\"http://www.w3.org/2000/svg\" id=\"predictive-analytics\" viewBox=\"0 0 32 32\"><path d=\"M31,31.36H1c-0.199,0-0.36-0.161-0.36-0.36 V1h0.72v29.64h4.28v-7.328c-0.576-0.158-1-0.687-1-1.312c0-0.75,0.61-1.36,1.36-1.36c0.364,0,0.694,0.144,0.938,0.377l3.702-2.221 v-8.484c-0.576-0.158-1-0.686-1-1.312c0-0.75,0.61-1.36,1.36-1.36S12.36,8.25,12.36,9c0,0.625-0.424,1.153-1,1.312v8.053l3.33-1.998 c-0.032-0.116-0.05-0.239-0.05-0.366c0-0.75,0.61-1.36,1.36-1.36c0.364,0,0.695,0.144,0.939,0.377l3.701-2.221V6.312 c-0.575-0.158-1-0.686-1-1.312c0-0.75,0.61-1.36,1.36-1.36S22.36,4.25,22.36,5c0,0.625-0.425,1.153-1,1.312v6.053l3.33-1.998 c-0.033-0.117-0.05-0.24-0.05-0.367c0-0.75,0.61-1.36,1.36-1.36s1.36,0.61,1.36,1.36c0,0.625-0.425,1.153-1,1.312V30.64H31V31.36z M21.36,30.64h4.279V11.312c-0.22-0.061-0.418-0.175-0.578-0.328l-3.701,2.221V30.64z M16.36,30.64h4.28V13.636l-3.33,1.998 c0.033,0.116,0.05,0.239,0.05,0.366c0,0.625-0.425,1.153-1,1.312V30.64z M11.36,30.64h4.28V17.312 c-0.22-0.061-0.418-0.175-0.579-0.328l-3.702,2.221V30.64H11.36z M6.36,30.64h4.28V19.636l-3.33,1.998 C7.343,21.75,7.36,21.873,7.36,22c0,0.625-0.424,1.153-1,1.312V30.64z M6,21.36c-0.353,0-0.64,0.287-0.64,0.64S5.647,22.64,6,22.64 S6.64,22.353,6.64,22S6.353,21.36,6,21.36z M16,15.36c-0.353,0-0.64,0.287-0.64,0.64s0.287,0.64,0.64,0.64s0.64-0.287,0.64-0.64 S16.353,15.36,16,15.36z M26,9.36c-0.353,0-0.64,0.287-0.64,0.64s0.287,0.64,0.64,0.64s0.64-0.287,0.64-0.64S26.353,9.36,26,9.36z M11,8.36c-0.353,0-0.64,0.287-0.64,0.64S10.647,9.64,11,9.64S11.64,9.353,11.64,9S11.353,8.36,11,8.36z M21,4.36 c-0.353,0-0.64,0.287-0.64,0.64S20.647,5.64,21,5.64S21.64,5.353,21.64,5S21.353,4.36,21,4.36z\"/></svg>\\n                    </div>\\n                </caem-card>\\n            \\n        \\n    \\n    \\n    \\n\\n\\n\\n    \\n        \\n            \\n            \\n                \\n                <caem-card color-scheme cta-type=\"local\" data-autoid=\"caem--card\" href=\"https://www.ibm.com/uk-en/servers?lnk=ProdC\" target=\"_self\" pictogram-placement=\"top\" size>\\n                    <caem-card-heading aria-level=\"3\" data-autoid=\"caem--card-heading\" role=\"heading\" slot=\"heading\">\\n                        \\n                        Compute &amp; servers</caem-card-heading>\\n                    <svg slot=\"pictogram\" class=\"bx--card__pictogram\" data-autoid=\"caem--card__pictogram\" focusable=\"false\" height=\"48\" width=\"48\" role=\"img\">\\n                        <use href=\"#storage--product\"></use>\\n                    </svg>\\n                    <p>Run workloads on hybrid cloud infrastructure</p>\\n                    <caem-card-cta-footer color-scheme target=\"_self\" cta-type=\"local\" data-autoid=\"caem--card-cta-footer\" href=\"https://www.ibm.com/uk-en/servers?lnk=ProdC\" icon-placement=\"right\" parent-href=\"https://www.ibm.com/uk-en/servers?lnk=ProdC\" slot=\"footer\">\\n                        \\n                    </caem-card-cta-footer>\\n                    <div class=\"caem-card-svg-source\">\\n                        <svg xmlns=\"http://www.w3.org/2000/svg\" id=\"storage--product\" viewBox=\"0 0 32 32\"><path d=\"M30,31.36H8c-0.199,0-0.36-0.161-0.36-0.36v-5c0-0.199,0.161-0.36,0.36-0.36h22 c0.199,0,0.36,0.161,0.36,0.36v5C30.36,31.199,30.199,31.36,30,31.36z M8.36,30.64h21.28v-4.28H8.36V30.64z M6,31.36H2 c-0.199,0-0.36-0.161-0.36-0.36V1c0-0.199,0.161-0.36,0.36-0.36h11c0.199,0,0.36,0.161,0.36,0.36v9h-0.72V1.36H2.36v29.28H6V31.36z M28.36,30h-0.72v-2h0.721L28.36,30L28.36,30z M26.36,30h-0.72v-2h0.721L26.36,30L26.36,30z M24.36,30h-0.72v-2h0.721L24.36,30 L24.36,30z M22.36,30h-0.72v-2h0.721L22.36,30L22.36,30z M30,24.36H8c-0.199,0-0.36-0.161-0.36-0.36v-5 c0-0.199,0.161-0.36,0.36-0.36h22c0.199,0,0.36,0.161,0.36,0.36v5C30.36,24.199,30.199,24.36,30,24.36z M8.36,23.64h21.28v-4.28 H8.36V23.64z M28.36,23h-0.72v-2h0.721L28.36,23L28.36,23z M26.36,23h-0.72v-2h0.721L26.36,23L26.36,23z M24.36,23h-0.72v-2h0.721 L24.36,23L24.36,23z M22.36,23h-0.72v-2h0.721L22.36,23L22.36,23z M30,17.36H8c-0.199,0-0.36-0.161-0.36-0.36v-5 c0-0.199,0.161-0.36,0.36-0.36h22c0.199,0,0.36,0.161,0.36,0.36v5C30.36,17.199,30.199,17.36,30,17.36z M8.36,16.64h21.28v-4.28 H8.36V16.64z M28.36,16h-0.72v-2h0.721L28.36,16L28.36,16z M26.36,16h-0.72v-2h0.721L26.36,16L26.36,16z M24.36,16h-0.72v-2h0.721 L24.36,16L24.36,16z M22.36,16h-0.72v-2h0.721L22.36,16L22.36,16z M6,4.36H4V3.64h2V4.36z\"/></svg>\\n                    </div>\\n                </caem-card>\\n            \\n        \\n    \\n    \\n    \\n\\n\\n\\n    \\n        \\n            \\n            \\n                \\n                <caem-card color-scheme cta-type=\"local\" data-autoid=\"caem--card\" href=\"https://www.ibm.com/uk-en/database?lnk=ProdC\" target=\"_self\" pictogram-placement=\"top\" size>\\n                    <caem-card-heading aria-level=\"3\" data-autoid=\"caem--card-heading\" role=\"heading\" slot=\"heading\">\\n                        \\n                        Databases</caem-card-heading>\\n                    <svg slot=\"pictogram\" class=\"bx--card__pictogram\" data-autoid=\"caem--card__pictogram\" focusable=\"false\" height=\"48\" width=\"48\" role=\"img\">\\n                        <use href=\"#hard--drive--network\"></use>\\n                    </svg>\\n                    <p>Store, query and analyze structured data</p>\\n                    <caem-card-cta-footer color-scheme target=\"_self\" cta-type=\"local\" data-autoid=\"caem--card-cta-footer\" href=\"https://www.ibm.com/uk-en/database?lnk=ProdC\" icon-placement=\"right\" parent-href=\"https://www.ibm.com/uk-en/database?lnk=ProdC\" slot=\"footer\">\\n                        \\n                    </caem-card-cta-footer>\\n                    <div class=\"caem-card-svg-source\">\\n                        <svg xmlns=\"http://www.w3.org/2000/svg\" id=\"hard--drive--network\" viewBox=\"0 0 32 32\"><path d=\"M20,6c-0.552,0-1-0.448-1-1s0.448-1,1-1s1,0.448,1,1S20.552,6,20,6z M21,16 c0-0.552-0.448-1-1-1s-1,0.448-1,1s0.448,1,1,1S21,16.552,21,16z M21,27c0-0.552-0.448-1-1-1s-1,0.448-1,1s0.448,1,1,1 S21,27.552,21,27z M24,31.36H1c-0.199,0-0.36-0.161-0.36-0.36v-8c0-0.199,0.161-0.36,0.36-0.36h23c0.199,0,0.36,0.161,0.36,0.36v8 C24.36,31.199,24.199,31.36,24,31.36z M1.36,30.64h22.28v-7.28H1.36V30.64z M31,27.36h-5v-0.72h4.64V16.36H26v-0.72h4.64V5.36H26 V4.64h5c0.199,0,0.36,0.161,0.36,0.36v22C31.36,27.199,31.199,27.36,31,27.36z M24,20.36H1c-0.199,0-0.36-0.161-0.36-0.36v-8 c0-0.199,0.161-0.36,0.36-0.36h23c0.199,0,0.36,0.161,0.36,0.36v8C24.36,20.199,24.199,20.36,24,20.36z M1.36,19.64h22.28v-7.28 H1.36V19.64z M24,9.36H1C0.801,9.36,0.64,9.199,0.64,9V1c0-0.199,0.161-0.36,0.36-0.36h23c0.199,0,0.36,0.161,0.36,0.36v8 C24.36,9.199,24.199,9.36,24,9.36z M1.36,8.64h22.28V1.36H1.36V8.64z\"/></svg>\\n                    </div>\\n                </caem-card>\\n            \\n        \\n    \\n    \\n    \\n\\n\\n\\n    \\n        \\n            \\n            \\n                \\n                <caem-card color-scheme cta-type=\"local\" data-autoid=\"caem--card\" href=\"https://www.ibm.com/uk-en/devops?lnk=ProdC\" target=\"_self\" pictogram-placement=\"top\" size>\\n                    <caem-card-heading aria-level=\"3\" data-autoid=\"caem--card-heading\" role=\"heading\" slot=\"heading\">\\n                        \\n                        DevOps</caem-card-heading>\\n                    <svg slot=\"pictogram\" class=\"bx--card__pictogram\" data-autoid=\"caem--card__pictogram\" focusable=\"false\" height=\"48\" width=\"48\" role=\"img\">\\n                        <use href=\"#devops\"></use>\\n                    </svg>\\n                    <p>Manage infrastructure, environments and deployments</p>\\n                    <caem-card-cta-footer color-scheme target=\"_self\" cta-type=\"local\" data-autoid=\"caem--card-cta-footer\" href=\"https://www.ibm.com/uk-en/devops?lnk=ProdC\" icon-placement=\"right\" parent-href=\"https://www.ibm.com/uk-en/devops?lnk=ProdC\" slot=\"footer\">\\n                        \\n                    </caem-card-cta-footer>\\n                    <div class=\"caem-card-svg-source\">\\n                        <svg xmlns=\"http://www.w3.org/2000/svg\" id=\"devops\" viewBox=\"0 0 32 32\"><path d=\"M18,31.36h-4c-0.128,0-0.248-0.069-0.312-0.181l-2-3.464c-0.064-0.111-0.064-0.248,0-0.359l2-3.464 c0.064-0.111,0.183-0.181,0.312-0.181h3.792l2.896-5.016c0.1-0.174,0.32-0.231,0.491-0.132c0.173,0.1,0.231,0.319,0.132,0.491 l-2.896,5.017l1.896,3.284c0.064,0.111,0.064,0.248,0,0.359l-2,3.464C18.247,31.291,18.129,31.36,18,31.36z M14.208,30.64h3.584 l1.792-3.104l-1.792-3.104h-3.584l-1.792,3.104L14.208,30.64z M28,25.593h-4c-0.129,0-0.247-0.069-0.312-0.181l-2-3.465 c-0.064-0.111-0.064-0.248,0-0.359l1.896-3.284l-2.896-5.016c-0.1-0.172-0.041-0.393,0.132-0.492c0.171-0.1,0.392-0.041,0.491,0.131 l2.896,5.016H28c0.129,0,0.247,0.069,0.312,0.181l2,3.464c0.064,0.111,0.064,0.248,0,0.359l-2,3.465 C28.247,25.523,28.129,25.593,28,25.593z M24.208,24.872h3.584l1.792-3.104l-1.792-3.104h-3.584l-1.792,3.104L24.208,24.872z M8,25.593H4c-0.128,0-0.248-0.069-0.312-0.181l-2-3.465c-0.064-0.111-0.064-0.248,0-0.359l2-3.464 C3.752,18.013,3.872,17.943,4,17.943h4c0.128,0,0.248,0.069,0.312,0.181l1.896,3.283H16c0.199,0,0.36,0.161,0.36,0.36 s-0.161,0.36-0.36,0.36h-5.792l-1.896,3.284C8.248,25.523,8.128,25.593,8,25.593z M4.208,24.872h3.584l1.792-3.104l-1.792-3.104 H4.208l-1.792,3.104L4.208,24.872z M11,19.253c-0.125,0-0.246-0.064-0.312-0.181l-2.896-5.016H4c-0.128,0-0.248-0.068-0.312-0.18 l-2-3.464c-0.064-0.111-0.064-0.249,0-0.36l2-3.464C3.752,6.477,3.872,6.408,4,6.408h4c0.128,0,0.248,0.068,0.312,0.18l2,3.464 c0.064,0.111,0.064,0.249,0,0.36l-1.896,3.284l2.896,5.017c0.099,0.172,0.04,0.392-0.132,0.491 C11.124,19.237,11.062,19.253,11,19.253z M4.208,13.336h3.584l1.792-3.104L7.792,7.128H4.208l-1.792,3.104L4.208,13.336z M28,14.056 h-4c-0.129,0-0.247-0.068-0.312-0.18l-1.896-3.285H16c-0.199,0-0.36-0.161-0.36-0.36s0.161-0.36,0.36-0.36h5.792l1.896-3.284 c0.064-0.111,0.183-0.18,0.312-0.18h4c0.129,0,0.247,0.068,0.312,0.18l2,3.464c0.064,0.111,0.064,0.249,0,0.36l-2,3.464 C28.247,13.988,28.129,14.056,28,14.056z M24.208,13.336h3.584l1.792-3.104l-1.792-3.104h-3.584l-1.792,3.104L24.208,13.336z M11,13.484c-0.061,0-0.123-0.015-0.18-0.048c-0.172-0.1-0.231-0.32-0.132-0.492l2.896-5.016l-1.896-3.284 c-0.064-0.112-0.064-0.249,0-0.36l2-3.464C13.752,0.708,13.872,0.64,14,0.64h4c0.129,0,0.247,0.068,0.312,0.18l2,3.464 c0.064,0.111,0.064,0.249,0,0.36l-2,3.464C18.247,8.22,18.129,8.288,18,8.288h-3.792l-2.896,5.017 C11.245,13.42,11.124,13.484,11,13.484z M14.208,7.568h3.584l1.792-3.104L17.792,1.36h-3.584l-1.792,3.104L14.208,7.568z\"/></svg>\\n                    </div>\\n                </caem-card>\\n            \\n        \\n    \\n    \\n    \\n\\n\\n\\n    \\n        \\n            \\n            \\n                \\n                <caem-card color-scheme cta-type=\"local\" data-autoid=\"caem--card\" href=\"https://www.ibm.com/it-automation?lnk=ProdC\" target=\"_self\" pictogram-placement=\"top\" size>\\n                    <caem-card-heading aria-level=\"3\" data-autoid=\"caem--card-heading\" role=\"heading\" slot=\"heading\">\\n                        \\n                        IT automation</caem-card-heading>\\n                    <svg slot=\"pictogram\" class=\"bx--card__pictogram\" data-autoid=\"caem--card__pictogram\" focusable=\"false\" height=\"48\" width=\"48\" role=\"img\">\\n                        <use href=\"#automation--decision\"></use>\\n                    </svg>\\n                    <p>Automate IT infrastructure management</p>\\n                    <caem-card-cta-footer color-scheme target=\"_self\" cta-type=\"local\" data-autoid=\"caem--card-cta-footer\" href=\"https://www.ibm.com/it-automation?lnk=ProdC\" icon-placement=\"right\" parent-href=\"https://www.ibm.com/it-automation?lnk=ProdC\" slot=\"footer\">\\n                        \\n                    </caem-card-cta-footer>\\n                    <div class=\"caem-card-svg-source\">\\n                        <svg xmlns=\"http://www.w3.org/2000/svg\" id=\"automation--decision\" viewBox=\"0 0 32 32\"><path d=\"M27.255,19.255L30.509,16l-3.254-3.254l-0.51,0.509l2.386,2.386H16.149L9.36,8.85V5.36h19.771 l-2.386,2.386l0.51,0.509L30.509,5l-3.254-3.254l-0.51,0.509l2.386,2.386H9C8.801,4.64,8.64,4.801,8.64,5v3.85l-6.895,6.896 c-0.141,0.141-0.141,0.368,0,0.509L8.64,23.15V27c0,0.199,0.161,0.36,0.36,0.36h20.131l-2.386,2.385l0.51,0.51L30.509,27 l-3.254-3.255l-0.51,0.51l2.386,2.385H9.36v-3.49l6.789-6.79h12.982l-2.386,2.385L27.255,19.255z M9,22.491L2.509,16L9,9.508 L15.491,16L9,22.491z\"/></svg>\\n                    </div>\\n                </caem-card>\\n            \\n        \\n    \\n    \\n    \\n\\n\\n\\n    \\n        \\n            \\n            \\n                \\n                <caem-card color-scheme cta-type=\"local\" data-autoid=\"caem--card\" href=\"https://www.ibm.com/quantum?lnk=ProdC\" target=\"_self\" pictogram-placement=\"top\" size>\\n                    <caem-card-heading aria-level=\"3\" data-autoid=\"caem--card-heading\" role=\"heading\" slot=\"heading\">\\n                        \\n                        Quantum</caem-card-heading>\\n                    <svg slot=\"pictogram\" class=\"bx--card__pictogram\" data-autoid=\"caem--card__pictogram\" focusable=\"false\" height=\"48\" width=\"48\" role=\"img\">\\n                        <use href=\"#quantum--safe\"></use>\\n                    </svg>\\n                    <p>Run code on real quantum systems using a full-stack SDK</p>\\n                    <caem-card-cta-footer color-scheme target=\"_self\" cta-type=\"local\" data-autoid=\"caem--card-cta-footer\" href=\"https://www.ibm.com/quantum?lnk=ProdC\" icon-placement=\"right\" parent-href=\"https://www.ibm.com/quantum?lnk=ProdC\" slot=\"footer\">\\n                        \\n                    </caem-card-cta-footer>\\n                    <div class=\"caem-card-svg-source\">\\n                        <svg xmlns=\"http://www.w3.org/2000/svg\" id=\"quantum--safe\" viewBox=\"0 0 32 32\"><path d=\"M16,31.36C9.736,31.36,4.64,26.264,4.64,20V7 c0-0.132,0.072-0.253,0.188-0.316l11-6c0.107-0.059,0.237-0.059,0.345,0l11,6C27.288,6.747,27.36,6.868,27.36,7v13 C27.36,26.264,22.264,31.36,16,31.36z M5.36,7.214V20c0,5.867,4.773,10.64,10.64,10.64S26.64,25.868,26.64,20V7.214L16,1.41 L5.36,7.214z M16,23.36c-1.089,0-1.841-0.229-2.703-0.599l0.284-0.662c0.797,0.343,1.449,0.54,2.419,0.54 c3.421,0,6.16-2.355,6.583-5.502C21.287,17.971,18.572,18.36,16,18.36c-3.558,0-7.36-0.62-7.36-2.36c0-0.903,0.218-1.93,0.598-2.817 c0.752-1.794,2.166-3.197,3.978-3.947c1.815-0.751,3.803-0.751,5.598,0L18.535,9.9c-1.613-0.677-3.405-0.678-5.044,0.001 c-1.635,0.677-2.91,1.942-3.59,3.562c-0.173,0.403-0.308,0.835-0.4,1.269c1.301-0.894,3.878-1.467,6.317-1.541l0.021,0.72 C12.081,14.026,9.36,15.238,9.36,16c0,0.806,2.484,1.64,6.64,1.64c4.114,0,6.64-0.955,6.64-1.64c0-0.39-1.028-1.311-2.71-1.647 l0.141-0.706c1.814,0.363,3.29,1.418,3.29,2.353v0.285C23.36,20.252,20.127,23.36,16,23.36z M11,22.612 c-0.889,0-1.612-0.724-1.612-1.612s0.723-1.612,1.612-1.612s1.612,0.724,1.612,1.612S11.889,22.612,11,22.612z M11,20.108 c-0.492,0-0.892,0.399-0.892,0.892s0.4,0.892,0.892,0.892s0.892-0.399,0.892-0.892S11.492,20.108,11,20.108z M16.254,16.254 l-0.509-0.509l3.888-3.889c-0.39-0.623-0.314-1.456,0.226-1.997c0.629-0.629,1.652-0.628,2.281,0c0.628,0.629,0.628,1.651,0,2.28 l0,0c-0.541,0.541-1.375,0.616-1.997,0.226L16.254,16.254z M21,10.108c-0.229,0-0.457,0.087-0.631,0.261 c-0.348,0.348-0.348,0.914,0,1.262s0.914,0.348,1.262,0s0.348-0.914,0-1.262C21.457,10.195,21.229,10.108,21,10.108z\"/></svg>\\n                    </div>\\n                </caem-card>\\n            \\n        \\n    \\n    \\n    \\n\\n\\n\\n    \\n        \\n            \\n            \\n                \\n                <caem-card color-scheme cta-type=\"local\" data-autoid=\"caem--card\" href=\"https://www.ibm.com/uk-en/security?lnk=prodC\" target=\"_self\" pictogram-placement=\"top\" size>\\n                    <caem-card-heading aria-level=\"3\" data-autoid=\"caem--card-heading\" role=\"heading\" slot=\"heading\">\\n                        \\n                        Security &amp; identity</caem-card-heading>\\n                    <svg slot=\"pictogram\" class=\"bx--card__pictogram\" data-autoid=\"caem--card__pictogram\" focusable=\"false\" height=\"48\" width=\"48\" role=\"img\">\\n                        <use href=\"#secure--profile\"></use>\\n                    </svg>\\n                    <p>Cloud-native software to secure resources and simplify compliance</p>\\n                    <caem-card-cta-footer color-scheme target=\"_self\" cta-type=\"local\" data-autoid=\"caem--card-cta-footer\" href=\"https://www.ibm.com/uk-en/security?lnk=prodC\" icon-placement=\"right\" parent-href=\"https://www.ibm.com/uk-en/security?lnk=prodC\" slot=\"footer\">\\n                        \\n                    </caem-card-cta-footer>\\n                    <div class=\"caem-card-svg-source\">\\n                        <svg xmlns=\"http://www.w3.org/2000/svg\" id=\"secure--profile\" viewBox=\"0 0 32 32\"><path d=\"M23.14,25.415v-1.988c-0.373-0.145-0.64-0.503-0.64-0.927c0-0.552,0.448-1,1-1s1,0.448,1,1 c0,0.424-0.266,0.782-0.64,0.927v1.988c0,0.199-0.161,0.36-0.36,0.36S23.14,25.614,23.14,25.415z M31.36,16v15 c0,0.199-0.161,0.36-0.36,0.36H16c-0.199,0-0.36-0.161-0.36-0.36V19h0.72v11.64h14.28V16.36H1c-0.199,0-0.36-0.161-0.36-0.36V1 c0-0.199,0.161-0.36,0.36-0.36h15c0.199,0,0.36,0.161,0.36,0.36v12h-0.72V1.36H1.36v14.28h2.28v-2.639 c0-1.926,1.166-3.659,2.908-4.427C5.978,8.04,5.643,7.293,5.643,6.5c0-1.577,1.283-2.86,2.86-2.86s2.86,1.283,2.86,2.86 c0,0.794-0.335,1.542-0.907,2.075c1.74,0.77,2.904,2.502,2.904,4.426v2.639h6.28V11.5c0-2.128,1.731-3.86,3.859-3.86 c2.129,0,3.861,1.731,3.861,3.86l-0.001,4.14H31C31.199,15.64,31.36,15.801,31.36,16z M12.64,13.001c0-1.837-1.25-3.47-3.041-3.97 c-0.141-0.04-0.244-0.16-0.261-0.306C9.321,8.58,9.395,8.439,9.523,8.369c0.69-0.379,1.12-1.095,1.12-1.869 c0-1.18-0.96-2.14-2.14-2.14s-2.14,0.96-2.14,2.14c0,0.773,0.429,1.489,1.119,1.868c0.128,0.07,0.201,0.211,0.184,0.357 C7.648,8.87,7.545,8.991,7.404,9.03C5.612,9.529,4.36,11.162,4.36,13.001v2.639h8.28C12.64,15.64,12.64,13.001,12.64,13.001z M26.64,11.5c0-1.731-1.408-3.14-3.14-3.14s-3.14,1.409-3.14,3.14v4.14h6.278L26.64,11.5z\"/></svg>\\n                    </div>\\n                </caem-card>\\n            \\n        \\n    \\n    \\n    \\n\\n\\n\\n    \\n\\n\\n                </caem-card-group>\\n            \\n        \\n        \\n    </div>\\n\\n    \\n\\n    <script type=\"module\" src=\"https://1.www.s81c.com/common/carbon/carbon-for-aem/version/v0.9.1/card.min.js\"></script>\\n    <script type=\"module\" src=\"https://1.www.s81c.com/common/carbon/carbon-for-aem/version/v0.9.1/card-group.min.js\"></script>\\n</div>\\n<div class=\"feature-card-section\">\\n    \\n        <div class=\"feature-card-section__container theme-white\">\\n            <dds-feature-section media-alignment=\"right\">\\n\\n                \\n    \\n    \\n        \\n        \\n        \\n        \\n        <dds-image id=\"image--240290838\" alt=\"Isometric illustration of four people at work stations\" slot=\"image\" default-src=\"/content/dam/connectedassets-adobe-cms/worldwide-content/creative-assets/s-migr/ul/g/d3/f1/ibm-spss-leadspace.component.xl.ts=1698783601259.png/content/adobe-cms/uk/en/homepage/jcr:content/root/table_of_contents/feature_card_section\">\\n            \\n            \\n                \\n                    \\n    <dds-image-item media=\"(min-width: 1312px) and (min-resolution: 192dpi)\" srcset=\"/content/dam/connectedassets-adobe-cms/worldwide-content/creative-assets/s-migr/ul/g/d3/f1/ibm-spss-leadspace.component.xl-retina.ts=1698783601259.png/content/adobe-cms/uk/en/homepage/jcr:content/root/table_of_contents/feature_card_section\"></dds-image-item>\\n    <dds-image-item media=\"(min-width: 1312px)\" srcset=\"/content/dam/connectedassets-adobe-cms/worldwide-content/creative-assets/s-migr/ul/g/d3/f1/ibm-spss-leadspace.component.xl.ts=1698783601259.png/content/adobe-cms/uk/en/homepage/jcr:content/root/table_of_contents/feature_card_section\"></dds-image-item>\\n    <dds-image-item media=\"(min-width: 1056px) and (min-resolution: 192dpi)\" srcset=\"/content/dam/connectedassets-adobe-cms/worldwide-content/creative-assets/s-migr/ul/g/d3/f1/ibm-spss-leadspace.component.l-retina.ts=1698783601259.png/content/adobe-cms/uk/en/homepage/jcr:content/root/table_of_contents/feature_card_section\"></dds-image-item>\\n    <dds-image-item media=\"(min-width: 1056px)\" srcset=\"/content/dam/connectedassets-adobe-cms/worldwide-content/creative-assets/s-migr/ul/g/d3/f1/ibm-spss-leadspace.component.l.ts=1698783601259.png/content/adobe-cms/uk/en/homepage/jcr:content/root/table_of_contents/feature_card_section\"></dds-image-item>\\n    <dds-image-item media=\"(min-width: 672px) and (min-resolution: 192dpi)\" srcset=\"/content/dam/connectedassets-adobe-cms/worldwide-content/creative-assets/s-migr/ul/g/d3/f1/ibm-spss-leadspace.component.m-retina.ts=1698783601259.png/content/adobe-cms/uk/en/homepage/jcr:content/root/table_of_contents/feature_card_section\"></dds-image-item>\\n    <dds-image-item media=\"(min-width: 672px)\" srcset=\"/content/dam/connectedassets-adobe-cms/worldwide-content/creative-assets/s-migr/ul/g/d3/f1/ibm-spss-leadspace.component.m.ts=1698783601259.png/content/adobe-cms/uk/en/homepage/jcr:content/root/table_of_contents/feature_card_section\"></dds-image-item>\\n    <dds-image-item media=\"(min-width: 481px) and (min-resolution: 192dpi)\" srcset=\"/content/dam/connectedassets-adobe-cms/worldwide-content/creative-assets/s-migr/ul/g/d3/f1/ibm-spss-leadspace.component.s-retina.ts=1698783601259.png/content/adobe-cms/uk/en/homepage/jcr:content/root/table_of_contents/feature_card_section\"></dds-image-item>\\n    <dds-image-item media=\"(min-width: 481px)\" srcset=\"/content/dam/connectedassets-adobe-cms/worldwide-content/creative-assets/s-migr/ul/g/d3/f1/ibm-spss-leadspace.component.s.ts=1698783601259.png/content/adobe-cms/uk/en/homepage/jcr:content/root/table_of_contents/feature_card_section\"></dds-image-item>\\n    <dds-image-item media=\"(max-width: 480px) and (min-resolution: 192dpi)\" srcset=\"/content/dam/connectedassets-adobe-cms/worldwide-content/creative-assets/s-migr/ul/g/d3/f1/ibm-spss-leadspace.component.xs-retina.ts=1698783601259.png/content/adobe-cms/uk/en/homepage/jcr:content/root/table_of_contents/feature_card_section\"></dds-image-item>\\n    <dds-image-item media=\"(max-width: 480px)\" srcset=\"/content/dam/connectedassets-adobe-cms/worldwide-content/creative-assets/s-migr/ul/g/d3/f1/ibm-spss-leadspace.component.xs.ts=1698783601259.png/content/adobe-cms/uk/en/homepage/jcr:content/root/table_of_contents/feature_card_section\"></dds-image-item>\\n\\n                    \\n                \\n            \\n        </dds-image>\\n    \\n\\n    \\n\\n\\n\\n                <dds-card-eyebrow slot=\"eyebrow\">\\n                    SPSS Software\\n                </dds-card-eyebrow>\\n                <dds-content-block-heading slot=\"heading\">\\n                    Meet the SPSS Software Family\\n                </dds-content-block-heading>\\n                <dds-content-item-paragraph slot=\"copy\">\\n                    See how SPSS Software can help you get more out of your data. From data preparation to presentation-ready visuals, SPSS Software enables deep analytical expertise.\\n                </dds-content-item-paragraph>\\n\\n                <dds-feature-section-card-link slot=\"footer\" target=\"_self\" href=\"https://www.ibm.com/spss\" cta-type=\"local\" color-scheme=\"inverse\">\\n                    <dds-card-link-heading>Learn more</dds-card-link-heading>\\n                    <dds-card-cta-footer cta-type=\"local\" color-scheme=\"inverse\" href=\"https://www.ibm.com/spss\" target=\"_self\"></dds-card-cta-footer>\\n                </dds-feature-section-card-link>\\n            </dds-feature-section>\\n        </div>\\n        \\n    \\n\\n    \\n</div>\\n<div class=\"intro-section\"><div class=\"bx--col\">\\n    <caem-intro-section>\\n\\n        <caem-heading slot=\"heading\" type=\"h2\" type-style=\"expressive-heading-05\" data-autoid=\"caem-heading\">\\n                \\n\\n\\n\\n  \\n    Meet our global consultants\\n\\n\\n\\n\\n\\n\\n    \\n\\n\\n            </caem-heading>\\n\\n        <caem-paragraph size=\"lead-in\" data-autoid=\"caem--paragraph\">\\n            <div class=\"cms-richtext\" id=\"rich-text-fc3cc0d5b0\" data-dynamic-inner-content=\"description\">\\n    <p>Bringing together a diverse set of voices with new technology, we collaborate closely, ideate freely and swiftly apply breakthrough innovations that drive big impact.</p>\\n \\n    \\n    \\n    \\n    \\n\\n</div>\\n        </caem-paragraph>\\n\\n        \\n            <dds-link-list type=\"vertical\">\\n                \\n                    \\n    \\n    \\n        \\n        <dds-video-cta-container>\\n            <dds-link-list-item-cta cta-type=\"local\" href=\"https://www.ibm.com/uk-en/consulting?lnk=intro\" icon-placement=\"right\" role=\"listitem\" target=\"_self\">\\n                View IBM Consulting\\n                \\n            </dds-link-list-item-cta>\\n        </dds-video-cta-container>\\n    \\n    \\n    \\n\\n\\n\\n                \\n                \\n                    \\n    \\n    \\n    \\n    \\n\\n\\n\\n                \\n            </dds-link-list>\\n        \\n\\n        \\n\\n    </caem-intro-section>\\n</div>\\n<script type=\"module\" src=\"https://1.www.s81c.com/common/carbon/carbon-for-aem/version/v0.9.1/paragraph.min.js\"></script>\\n<script type=\"module\" src=\"https://1.www.s81c.com/common/carbon/carbon-for-aem/version/v0.9.1/heading.min.js\"></script>\\n<script type=\"module\" src=\"https://1.www.s81c.com/common/carbon/carbon-for-aem/version/v0.9.1/intro-section.min.js\"></script>\\n<script type=\"module\" src=\"https://1.www.s81c.com/common/carbon/carbon-for-aem/version/v0.9.1/brand-cta-section.min.js\"></script>\\n</div>\\n<div class=\"simple-image\">\\n    \\n    \\n    \\n    <div class=\"bx--image \">\\n        <picture>\\n            \\n            \\n            \\n                \\n                    \\n    <source media=\"(min-width: 1312px) and (min-resolution: 192dpi)\" srcset=\"/content/dam/adobe-cms/default-images/home-consultants.component.crop-16by9-xl-retina.ts=1698259949382.jpg/content/adobe-cms/uk/en/homepage/jcr:content/root/table_of_contents/simple_image\"/>\\n    <source media=\"(min-width: 1312px)\" srcset=\"/content/dam/adobe-cms/default-images/home-consultants.component.crop-16by9-xl.ts=1698259949382.jpg/content/adobe-cms/uk/en/homepage/jcr:content/root/table_of_contents/simple_image\"/>\\n    <source media=\"(min-width: 1056px) and (min-resolution: 192dpi)\" srcset=\"/content/dam/adobe-cms/default-images/home-consultants.component.crop-16by9-l-retina.ts=1698259949382.jpg/content/adobe-cms/uk/en/homepage/jcr:content/root/table_of_contents/simple_image\"/>\\n    <source media=\"(min-width: 1056px)\" srcset=\"/content/dam/adobe-cms/default-images/home-consultants.component.crop-16by9-l.ts=1698259949382.jpg/content/adobe-cms/uk/en/homepage/jcr:content/root/table_of_contents/simple_image\"/>\\n    <source media=\"(min-width: 672px) and (min-resolution: 192dpi)\" srcset=\"/content/dam/adobe-cms/default-images/home-consultants.component.crop-16by9-m-retina.ts=1698259949382.jpg/content/adobe-cms/uk/en/homepage/jcr:content/root/table_of_contents/simple_image\"/>\\n    <source media=\"(min-width: 672px)\" srcset=\"/content/dam/adobe-cms/default-images/home-consultants.component.crop-16by9-m.ts=1698259949382.jpg/content/adobe-cms/uk/en/homepage/jcr:content/root/table_of_contents/simple_image\"/>\\n    <source media=\"(min-width: 481px) and (min-resolution: 192dpi)\" srcset=\"/content/dam/adobe-cms/default-images/home-consultants.component.crop-16by9-s-retina.ts=1698259949382.jpg/content/adobe-cms/uk/en/homepage/jcr:content/root/table_of_contents/simple_image\"/>\\n    <source media=\"(min-width: 481px)\" srcset=\"/content/dam/adobe-cms/default-images/home-consultants.component.crop-16by9-s.ts=1698259949382.jpg/content/adobe-cms/uk/en/homepage/jcr:content/root/table_of_contents/simple_image\"/>\\n    <source media=\"(max-width: 480px) and (min-resolution: 192dpi)\" srcset=\"/content/dam/adobe-cms/default-images/home-consultants.component.crop-16by9-xs-retina.ts=1698259949382.jpg/content/adobe-cms/uk/en/homepage/jcr:content/root/table_of_contents/simple_image\"/>\\n    <source media=\"(max-width: 480px)\" srcset=\"/content/dam/adobe-cms/default-images/home-consultants.component.crop-16by9-xs.ts=1698259949382.jpg/content/adobe-cms/uk/en/homepage/jcr:content/root/table_of_contents/simple_image\"/>\\n\\n                    \\n                \\n            \\n            \\n            <img id=\"image-1982029849\" class=\"bx--image__img\" src=\"/content/dam/adobe-cms/default-images/home-consultants.component.crop-16by9-xl.ts=1698259949382.jpg/content/adobe-cms/uk/en/homepage/_jcr_content/root/table_of_contents/simple_image\" alt=\"Portraits of IBM consultants\" loading=\"lazy\"/>\\n        </picture>\\n        \\n    </div>\\n\\n\\n</div>\\n<div class=\"intro-section\"><div class=\"bx--col\">\\n    <caem-intro-section>\\n\\n        <caem-heading slot=\"heading\" type=\"h2\" type-style=\"expressive-heading-05\" data-autoid=\"caem-heading\">\\n                \\n\\n\\n\\n  \\n    Inside IBM\\n\\n\\n\\n\\n\\n\\n    \\n\\n\\n            </caem-heading>\\n\\n        <caem-paragraph size=\"lead-in\" data-autoid=\"caem--paragraph\">\\n            <div class=\"cms-richtext\" id=\"rich-text-8df38a008d\" data-dynamic-inner-content=\"description\">\\n    <p>Solving the world’s problems through technology wouldn’t be possible without our most important invention: the IBMer. Have a look at our talented teams.</p>\\n \\n    \\n    \\n    \\n    \\n\\n</div>\\n        </caem-paragraph>\\n\\n        \\n            <dds-link-list type=\"vertical\">\\n                \\n                    \\n    \\n    \\n        \\n        <dds-video-cta-container>\\n            <dds-link-list-item-cta cta-type=\"local\" href=\"https://www.ibm.com/uk-en/about?lnk=intro\" icon-placement=\"right\" role=\"listitem\" target=\"_self\">\\n                About IBM\\n                \\n            </dds-link-list-item-cta>\\n        </dds-video-cta-container>\\n    \\n    \\n    \\n\\n\\n\\n                \\n                \\n                    \\n    \\n    \\n    \\n    \\n\\n\\n\\n                \\n            </dds-link-list>\\n        \\n\\n        \\n\\n    </caem-intro-section>\\n</div>\\n<script type=\"module\" src=\"https://1.www.s81c.com/common/carbon/carbon-for-aem/version/v0.9.1/paragraph.min.js\"></script>\\n<script type=\"module\" src=\"https://1.www.s81c.com/common/carbon/carbon-for-aem/version/v0.9.1/heading.min.js\"></script>\\n<script type=\"module\" src=\"https://1.www.s81c.com/common/carbon/carbon-for-aem/version/v0.9.1/intro-section.min.js\"></script>\\n<script type=\"module\" src=\"https://1.www.s81c.com/common/carbon/carbon-for-aem/version/v0.9.1/brand-cta-section.min.js\"></script>\\n</div>\\n<div class=\"block-card-container container responsivegrid\">\\n    <dds-video-cta-container>\\n        <dds-content-block-cards data-autoid=\"dds--content-block-cards\">\\n            \\n                \\n  \\n\\n                \\n            \\n\\n            \\n\\n            <dds-card-group cards-per-row=\"4\">\\n                    \\n\\n    \\n    \\n    \\n    \\n    \\n    \\n    \\n    \\n    \\n    <dds-card-group-item href=\"https://www.ibm.com/careers/uk-en/\" target=\"_self\" pictogram-placement=\"top\" cta-type=\"local\">\\n\\n        \\n            \\n                \\n\\n\\n\\n\\n    \\n    \\n        \\n        \\n        \\n        \\n        <dds-image id=\"image--697372695\" alt=\"Engineer works with electrical device\" slot=\"image\" default-src=\"/content/dam/connectedassets-adobe-cms/worldwide-content/creative-assets/ibs/ul/g/00/00/0100129_Oppermann_PE.component.card-xl.ts=1698259950177.jpg/content/adobe-cms/uk/en/homepage/jcr:content/root/table_of_contents/block_card_container/container/card_1430209788/image\">\\n            \\n            \\n                \\n                    \\n    <dds-image-item media=\"(min-width: 1312px) and (min-resolution: 192dpi)\" srcset=\"/content/dam/connectedassets-adobe-cms/worldwide-content/creative-assets/ibs/ul/g/00/00/0100129_Oppermann_PE.component.card-xl-retina.ts=1698259950177.jpg/content/adobe-cms/uk/en/homepage/jcr:content/root/table_of_contents/block_card_container/container/card_1430209788/image\"></dds-image-item>\\n    <dds-image-item media=\"(min-width: 1312px)\" srcset=\"/content/dam/connectedassets-adobe-cms/worldwide-content/creative-assets/ibs/ul/g/00/00/0100129_Oppermann_PE.component.card-xl.ts=1698259950177.jpg/content/adobe-cms/uk/en/homepage/jcr:content/root/table_of_contents/block_card_container/container/card_1430209788/image\"></dds-image-item>\\n    <dds-image-item media=\"(min-width: 1056px) and (min-resolution: 192dpi)\" srcset=\"/content/dam/connectedassets-adobe-cms/worldwide-content/creative-assets/ibs/ul/g/00/00/0100129_Oppermann_PE.component.card-l-retina.ts=1698259950177.jpg/content/adobe-cms/uk/en/homepage/jcr:content/root/table_of_contents/block_card_container/container/card_1430209788/image\"></dds-image-item>\\n    <dds-image-item media=\"(min-width: 1056px)\" srcset=\"/content/dam/connectedassets-adobe-cms/worldwide-content/creative-assets/ibs/ul/g/00/00/0100129_Oppermann_PE.component.card-l.ts=1698259950177.jpg/content/adobe-cms/uk/en/homepage/jcr:content/root/table_of_contents/block_card_container/container/card_1430209788/image\"></dds-image-item>\\n    <dds-image-item media=\"(min-width: 672px) and (min-resolution: 192dpi)\" srcset=\"/content/dam/connectedassets-adobe-cms/worldwide-content/creative-assets/ibs/ul/g/00/00/0100129_Oppermann_PE.component.card-m-retina.ts=1698259950177.jpg/content/adobe-cms/uk/en/homepage/jcr:content/root/table_of_contents/block_card_container/container/card_1430209788/image\"></dds-image-item>\\n    <dds-image-item media=\"(min-width: 672px)\" srcset=\"/content/dam/connectedassets-adobe-cms/worldwide-content/creative-assets/ibs/ul/g/00/00/0100129_Oppermann_PE.component.card-m.ts=1698259950177.jpg/content/adobe-cms/uk/en/homepage/jcr:content/root/table_of_contents/block_card_container/container/card_1430209788/image\"></dds-image-item>\\n    <dds-image-item media=\"(min-width: 481px) and (min-resolution: 192dpi)\" srcset=\"/content/dam/connectedassets-adobe-cms/worldwide-content/creative-assets/ibs/ul/g/00/00/0100129_Oppermann_PE.component.card-s-retina.ts=1698259950177.jpg/content/adobe-cms/uk/en/homepage/jcr:content/root/table_of_contents/block_card_container/container/card_1430209788/image\"></dds-image-item>\\n    <dds-image-item media=\"(min-width: 481px)\" srcset=\"/content/dam/connectedassets-adobe-cms/worldwide-content/creative-assets/ibs/ul/g/00/00/0100129_Oppermann_PE.component.card-s.ts=1698259950177.jpg/content/adobe-cms/uk/en/homepage/jcr:content/root/table_of_contents/block_card_container/container/card_1430209788/image\"></dds-image-item>\\n    <dds-image-item media=\"(max-width: 480px) and (min-resolution: 192dpi)\" srcset=\"/content/dam/connectedassets-adobe-cms/worldwide-content/creative-assets/ibs/ul/g/00/00/0100129_Oppermann_PE.component.card-xs-retina.ts=1698259950177.jpg/content/adobe-cms/uk/en/homepage/jcr:content/root/table_of_contents/block_card_container/container/card_1430209788/image\"></dds-image-item>\\n    <dds-image-item media=\"(max-width: 480px)\" srcset=\"/content/dam/connectedassets-adobe-cms/worldwide-content/creative-assets/ibs/ul/g/00/00/0100129_Oppermann_PE.component.card-xs.ts=1698259950177.jpg/content/adobe-cms/uk/en/homepage/jcr:content/root/table_of_contents/block_card_container/container/card_1430209788/image\"></dds-image-item>\\n\\n                    \\n                \\n            \\n        </dds-image>\\n    \\n\\n    \\n\\n\\n\\n            \\n        \\n        <dds-card-eyebrow slot=\"eyebrow\" aria-hidden=\"true\" class=\"bx--card__eyebrow\">\\n            Careers at IBM\\n        </dds-card-eyebrow>\\n        <dds-card-heading role=\"heading\" aria-level=\"3\" slot=\"heading\" class=\"bx--card__heading\">\\n            From safer food supply to ethical AI, tackle the world&#39;s toughest problems\\n        </dds-card-heading>\\n        \\n        <dds-card-cta-footer icon-placement=\"right\" cta-type=\"local\" href=\"https://www.ibm.com/careers/uk-en/\" slot=\"footer\" aria-hidden=\"true\" target=\"_self\" class=\"bx--card__footer-icon-size\">\\n            \\n            \\n    \\n    \\n    \\n    \\n\\n        </dds-card-cta-footer>\\n    </dds-card-group-item>\\n    \\n    \\n\\n\\n\\n\\n    \\n    \\n    \\n    \\n    \\n    \\n    \\n    \\n    \\n    <dds-card-group-item href=\"https://research.ibm.com/\" target=\"_self\" pictogram-placement=\"top\" cta-type=\"local\">\\n\\n        \\n            \\n                \\n\\n\\n\\n\\n    \\n    \\n        \\n        \\n        \\n        \\n        <dds-image id=\"image-592349546\" alt=\"A large quantum server at IBM Research \" slot=\"image\" default-src=\"/content/dam/connectedassets-adobe-cms/worldwide-content/other/ul/cms/0c/98/ibm-quantum-system-one.component.card-xl.ts=1702346464199.png/content/adobe-cms/uk/en/homepage/jcr:content/root/table_of_contents/block_card_container/container/card/image\">\\n            \\n            \\n                \\n                    \\n    <dds-image-item media=\"(min-width: 1312px) and (min-resolution: 192dpi)\" srcset=\"/content/dam/connectedassets-adobe-cms/worldwide-content/other/ul/cms/0c/98/ibm-quantum-system-one.component.card-xl-retina.ts=1702346464199.png/content/adobe-cms/uk/en/homepage/jcr:content/root/table_of_contents/block_card_container/container/card/image\"></dds-image-item>\\n    <dds-image-item media=\"(min-width: 1312px)\" srcset=\"/content/dam/connectedassets-adobe-cms/worldwide-content/other/ul/cms/0c/98/ibm-quantum-system-one.component.card-xl.ts=1702346464199.png/content/adobe-cms/uk/en/homepage/jcr:content/root/table_of_contents/block_card_container/container/card/image\"></dds-image-item>\\n    <dds-image-item media=\"(min-width: 1056px) and (min-resolution: 192dpi)\" srcset=\"/content/dam/connectedassets-adobe-cms/worldwide-content/other/ul/cms/0c/98/ibm-quantum-system-one.component.card-l-retina.ts=1702346464199.png/content/adobe-cms/uk/en/homepage/jcr:content/root/table_of_contents/block_card_container/container/card/image\"></dds-image-item>\\n    <dds-image-item media=\"(min-width: 1056px)\" srcset=\"/content/dam/connectedassets-adobe-cms/worldwide-content/other/ul/cms/0c/98/ibm-quantum-system-one.component.card-l.ts=1702346464199.png/content/adobe-cms/uk/en/homepage/jcr:content/root/table_of_contents/block_card_container/container/card/image\"></dds-image-item>\\n    <dds-image-item media=\"(min-width: 672px) and (min-resolution: 192dpi)\" srcset=\"/content/dam/connectedassets-adobe-cms/worldwide-content/other/ul/cms/0c/98/ibm-quantum-system-one.component.card-m-retina.ts=1702346464199.png/content/adobe-cms/uk/en/homepage/jcr:content/root/table_of_contents/block_card_container/container/card/image\"></dds-image-item>\\n    <dds-image-item media=\"(min-width: 672px)\" srcset=\"/content/dam/connectedassets-adobe-cms/worldwide-content/other/ul/cms/0c/98/ibm-quantum-system-one.component.card-m.ts=1702346464199.png/content/adobe-cms/uk/en/homepage/jcr:content/root/table_of_contents/block_card_container/container/card/image\"></dds-image-item>\\n    <dds-image-item media=\"(min-width: 481px) and (min-resolution: 192dpi)\" srcset=\"/content/dam/connectedassets-adobe-cms/worldwide-content/other/ul/cms/0c/98/ibm-quantum-system-one.component.card-s-retina.ts=1702346464199.png/content/adobe-cms/uk/en/homepage/jcr:content/root/table_of_contents/block_card_container/container/card/image\"></dds-image-item>\\n    <dds-image-item media=\"(min-width: 481px)\" srcset=\"/content/dam/connectedassets-adobe-cms/worldwide-content/other/ul/cms/0c/98/ibm-quantum-system-one.component.card-s.ts=1702346464199.png/content/adobe-cms/uk/en/homepage/jcr:content/root/table_of_contents/block_card_container/container/card/image\"></dds-image-item>\\n    <dds-image-item media=\"(max-width: 480px) and (min-resolution: 192dpi)\" srcset=\"/content/dam/connectedassets-adobe-cms/worldwide-content/other/ul/cms/0c/98/ibm-quantum-system-one.component.card-xs-retina.ts=1702346464199.png/content/adobe-cms/uk/en/homepage/jcr:content/root/table_of_contents/block_card_container/container/card/image\"></dds-image-item>\\n    <dds-image-item media=\"(max-width: 480px)\" srcset=\"/content/dam/connectedassets-adobe-cms/worldwide-content/other/ul/cms/0c/98/ibm-quantum-system-one.component.card-xs.ts=1702346464199.png/content/adobe-cms/uk/en/homepage/jcr:content/root/table_of_contents/block_card_container/container/card/image\"></dds-image-item>\\n\\n                    \\n                \\n            \\n        </dds-image>\\n    \\n\\n    \\n\\n\\n\\n            \\n        \\n        <dds-card-eyebrow slot=\"eyebrow\" aria-hidden=\"true\" class=\"bx--card__eyebrow\">\\n            IBM Research\\n        </dds-card-eyebrow>\\n        <dds-card-heading role=\"heading\" aria-level=\"3\" slot=\"heading\" class=\"bx--card__heading\">\\n            See the latest technology developed by IBM scientists and design thinkers\\n        </dds-card-heading>\\n        \\n        <dds-card-cta-footer icon-placement=\"right\" cta-type=\"local\" href=\"https://research.ibm.com/\" slot=\"footer\" aria-hidden=\"true\" target=\"_self\" class=\"bx--card__footer-icon-size\">\\n            \\n            \\n    \\n    \\n    \\n    \\n\\n        </dds-card-cta-footer>\\n    </dds-card-group-item>\\n    \\n    \\n\\n\\n\\n\\n    \\n    \\n    \\n    \\n    \\n    \\n    \\n    \\n    \\n    <dds-card-group-item href=\"https://skillsbuild.org/\" target=\"_blank\" pictogram-placement=\"top\" cta-type=\"external\">\\n\\n        \\n            \\n                \\n\\n\\n\\n\\n    \\n    \\n        \\n        \\n        \\n        \\n        <dds-image id=\"image-646366182\" alt=\"Portrait of tech worker in front of giant server\" slot=\"image\" default-src=\"/content/dam/connectedassets-adobe-cms/worldwide-content/stock-assets/getty/image/photography/fe/64/universitychile0013846.component.card-xl.ts=1698259950526.jpg/content/adobe-cms/uk/en/homepage/jcr:content/root/table_of_contents/block_card_container/container/card_1937905391/image\">\\n            \\n            \\n                \\n                    \\n    <dds-image-item media=\"(min-width: 1312px) and (min-resolution: 192dpi)\" srcset=\"/content/dam/connectedassets-adobe-cms/worldwide-content/stock-assets/getty/image/photography/fe/64/universitychile0013846.component.card-xl-retina.ts=1698259950526.jpg/content/adobe-cms/uk/en/homepage/jcr:content/root/table_of_contents/block_card_container/container/card_1937905391/image\"></dds-image-item>\\n    <dds-image-item media=\"(min-width: 1312px)\" srcset=\"/content/dam/connectedassets-adobe-cms/worldwide-content/stock-assets/getty/image/photography/fe/64/universitychile0013846.component.card-xl.ts=1698259950526.jpg/content/adobe-cms/uk/en/homepage/jcr:content/root/table_of_contents/block_card_container/container/card_1937905391/image\"></dds-image-item>\\n    <dds-image-item media=\"(min-width: 1056px) and (min-resolution: 192dpi)\" srcset=\"/content/dam/connectedassets-adobe-cms/worldwide-content/stock-assets/getty/image/photography/fe/64/universitychile0013846.component.card-l-retina.ts=1698259950526.jpg/content/adobe-cms/uk/en/homepage/jcr:content/root/table_of_contents/block_card_container/container/card_1937905391/image\"></dds-image-item>\\n    <dds-image-item media=\"(min-width: 1056px)\" srcset=\"/content/dam/connectedassets-adobe-cms/worldwide-content/stock-assets/getty/image/photography/fe/64/universitychile0013846.component.card-l.ts=1698259950526.jpg/content/adobe-cms/uk/en/homepage/jcr:content/root/table_of_contents/block_card_container/container/card_1937905391/image\"></dds-image-item>\\n    <dds-image-item media=\"(min-width: 672px) and (min-resolution: 192dpi)\" srcset=\"/content/dam/connectedassets-adobe-cms/worldwide-content/stock-assets/getty/image/photography/fe/64/universitychile0013846.component.card-m-retina.ts=1698259950526.jpg/content/adobe-cms/uk/en/homepage/jcr:content/root/table_of_contents/block_card_container/container/card_1937905391/image\"></dds-image-item>\\n    <dds-image-item media=\"(min-width: 672px)\" srcset=\"/content/dam/connectedassets-adobe-cms/worldwide-content/stock-assets/getty/image/photography/fe/64/universitychile0013846.component.card-m.ts=1698259950526.jpg/content/adobe-cms/uk/en/homepage/jcr:content/root/table_of_contents/block_card_container/container/card_1937905391/image\"></dds-image-item>\\n    <dds-image-item media=\"(min-width: 481px) and (min-resolution: 192dpi)\" srcset=\"/content/dam/connectedassets-adobe-cms/worldwide-content/stock-assets/getty/image/photography/fe/64/universitychile0013846.component.card-s-retina.ts=1698259950526.jpg/content/adobe-cms/uk/en/homepage/jcr:content/root/table_of_contents/block_card_container/container/card_1937905391/image\"></dds-image-item>\\n    <dds-image-item media=\"(min-width: 481px)\" srcset=\"/content/dam/connectedassets-adobe-cms/worldwide-content/stock-assets/getty/image/photography/fe/64/universitychile0013846.component.card-s.ts=1698259950526.jpg/content/adobe-cms/uk/en/homepage/jcr:content/root/table_of_contents/block_card_container/container/card_1937905391/image\"></dds-image-item>\\n    <dds-image-item media=\"(max-width: 480px) and (min-resolution: 192dpi)\" srcset=\"/content/dam/connectedassets-adobe-cms/worldwide-content/stock-assets/getty/image/photography/fe/64/universitychile0013846.component.card-xs-retina.ts=1698259950526.jpg/content/adobe-cms/uk/en/homepage/jcr:content/root/table_of_contents/block_card_container/container/card_1937905391/image\"></dds-image-item>\\n    <dds-image-item media=\"(max-width: 480px)\" srcset=\"/content/dam/connectedassets-adobe-cms/worldwide-content/stock-assets/getty/image/photography/fe/64/universitychile0013846.component.card-xs.ts=1698259950526.jpg/content/adobe-cms/uk/en/homepage/jcr:content/root/table_of_contents/block_card_container/container/card_1937905391/image\"></dds-image-item>\\n\\n                    \\n                \\n            \\n        </dds-image>\\n    \\n\\n    \\n\\n\\n\\n            \\n        \\n        <dds-card-eyebrow slot=\"eyebrow\" aria-hidden=\"true\" class=\"bx--card__eyebrow\">\\n            Training and skills\\n        </dds-card-eyebrow>\\n        <dds-card-heading role=\"heading\" aria-level=\"3\" slot=\"heading\" class=\"bx--card__heading\">\\n            Power your future in tech with job skills, courses and credentials—for free\\n        </dds-card-heading>\\n        \\n        <dds-card-cta-footer icon-placement=\"right\" cta-type=\"external\" href=\"https://skillsbuild.org/\" slot=\"footer\" aria-hidden=\"true\" target=\"_blank\" class=\"bx--card__footer-icon-size\">\\n            \\n            \\n    \\n    \\n    \\n    \\n\\n        </dds-card-cta-footer>\\n    </dds-card-group-item>\\n    \\n    \\n\\n\\n\\n\\n    \\n    \\n    \\n    \\n    \\n    \\n    \\n    \\n    \\n    <dds-card-group-item href=\"https://www.ibm.com/uk-en/impact\" target=\"_self\" pictogram-placement=\"top\" cta-type=\"local\">\\n\\n        \\n            \\n                \\n\\n\\n\\n\\n    \\n    \\n        \\n        \\n        \\n        \\n        <dds-image id=\"image-2120359388\" alt=\"Aerial view of solar panels is in graphic rows\" slot=\"image\" default-src=\"/content/dam/connectedassets-adobe-cms/worldwide-content/stock-assets/getty/image/photography/54/74/dji_0758.component.card-xl.ts=1698692587013.jpg/content/adobe-cms/uk/en/homepage/jcr:content/root/table_of_contents/block_card_container/container/block_card/image\">\\n            \\n            \\n                \\n                    \\n    <dds-image-item media=\"(min-width: 1312px) and (min-resolution: 192dpi)\" srcset=\"/content/dam/connectedassets-adobe-cms/worldwide-content/stock-assets/getty/image/photography/54/74/dji_0758.component.card-xl-retina.ts=1698692587013.jpg/content/adobe-cms/uk/en/homepage/jcr:content/root/table_of_contents/block_card_container/container/block_card/image\"></dds-image-item>\\n    <dds-image-item media=\"(min-width: 1312px)\" srcset=\"/content/dam/connectedassets-adobe-cms/worldwide-content/stock-assets/getty/image/photography/54/74/dji_0758.component.card-xl.ts=1698692587013.jpg/content/adobe-cms/uk/en/homepage/jcr:content/root/table_of_contents/block_card_container/container/block_card/image\"></dds-image-item>\\n    <dds-image-item media=\"(min-width: 1056px) and (min-resolution: 192dpi)\" srcset=\"/content/dam/connectedassets-adobe-cms/worldwide-content/stock-assets/getty/image/photography/54/74/dji_0758.component.card-l-retina.ts=1698692587013.jpg/content/adobe-cms/uk/en/homepage/jcr:content/root/table_of_contents/block_card_container/container/block_card/image\"></dds-image-item>\\n    <dds-image-item media=\"(min-width: 1056px)\" srcset=\"/content/dam/connectedassets-adobe-cms/worldwide-content/stock-assets/getty/image/photography/54/74/dji_0758.component.card-l.ts=1698692587013.jpg/content/adobe-cms/uk/en/homepage/jcr:content/root/table_of_contents/block_card_container/container/block_card/image\"></dds-image-item>\\n    <dds-image-item media=\"(min-width: 672px) and (min-resolution: 192dpi)\" srcset=\"/content/dam/connectedassets-adobe-cms/worldwide-content/stock-assets/getty/image/photography/54/74/dji_0758.component.card-m-retina.ts=1698692587013.jpg/content/adobe-cms/uk/en/homepage/jcr:content/root/table_of_contents/block_card_container/container/block_card/image\"></dds-image-item>\\n    <dds-image-item media=\"(min-width: 672px)\" srcset=\"/content/dam/connectedassets-adobe-cms/worldwide-content/stock-assets/getty/image/photography/54/74/dji_0758.component.card-m.ts=1698692587013.jpg/content/adobe-cms/uk/en/homepage/jcr:content/root/table_of_contents/block_card_container/container/block_card/image\"></dds-image-item>\\n    <dds-image-item media=\"(min-width: 481px) and (min-resolution: 192dpi)\" srcset=\"/content/dam/connectedassets-adobe-cms/worldwide-content/stock-assets/getty/image/photography/54/74/dji_0758.component.card-s-retina.ts=1698692587013.jpg/content/adobe-cms/uk/en/homepage/jcr:content/root/table_of_contents/block_card_container/container/block_card/image\"></dds-image-item>\\n    <dds-image-item media=\"(min-width: 481px)\" srcset=\"/content/dam/connectedassets-adobe-cms/worldwide-content/stock-assets/getty/image/photography/54/74/dji_0758.component.card-s.ts=1698692587013.jpg/content/adobe-cms/uk/en/homepage/jcr:content/root/table_of_contents/block_card_container/container/block_card/image\"></dds-image-item>\\n    <dds-image-item media=\"(max-width: 480px) and (min-resolution: 192dpi)\" srcset=\"/content/dam/connectedassets-adobe-cms/worldwide-content/stock-assets/getty/image/photography/54/74/dji_0758.component.card-xs-retina.ts=1698692587013.jpg/content/adobe-cms/uk/en/homepage/jcr:content/root/table_of_contents/block_card_container/container/block_card/image\"></dds-image-item>\\n    <dds-image-item media=\"(max-width: 480px)\" srcset=\"/content/dam/connectedassets-adobe-cms/worldwide-content/stock-assets/getty/image/photography/54/74/dji_0758.component.card-xs.ts=1698692587013.jpg/content/adobe-cms/uk/en/homepage/jcr:content/root/table_of_contents/block_card_container/container/block_card/image\"></dds-image-item>\\n\\n                    \\n                \\n            \\n        </dds-image>\\n    \\n\\n    \\n\\n\\n\\n            \\n        \\n        <dds-card-eyebrow slot=\"eyebrow\" aria-hidden=\"true\" class=\"bx--card__eyebrow\">\\n            Corporate social responsibility\\n        </dds-card-eyebrow>\\n        <dds-card-heading role=\"heading\" aria-level=\"3\" slot=\"heading\" class=\"bx--card__heading\">\\n             IBM aspires to make a positive impact on the world and the places where we work and live\\n        </dds-card-heading>\\n        \\n        <dds-card-cta-footer icon-placement=\"right\" cta-type=\"local\" href=\"https://www.ibm.com/uk-en/impact\" slot=\"footer\" aria-hidden=\"true\" target=\"_self\" class=\"bx--card__footer-icon-size\">\\n            \\n            \\n    \\n    \\n    \\n    \\n\\n        </dds-card-cta-footer>\\n    </dds-card-group-item>\\n    \\n    \\n\\n\\n\\n\\n\\n\\n\\n                </dds-card-group>\\n            \\n            \\n    \\n    \\n    \\n    \\n\\n\\n\\n\\n\\n            \\n        </dds-content-block-cards>\\n    </dds-video-cta-container>\\n    \\n\\n</div>\\n\\n        \\n    </div>\\n\\n</dds-table-of-contents>\\n</div>\\n<div class=\"footer\">\\n\\n\\n\\n\\n    <dds-footer-container data-cmp-is=\"footer\" data-autoid=\"dds--footer\" class=\"cmp-footer\" data-children-count=\"0\" size=\"tall\"></dds-footer-container>\\n\\n\\n</div>\\n\\n        \\n    </div>\\n\\n</div>\\n\\n\\n<dds-lightbox-video-player-container></dds-lightbox-video-player-container>\\n    \\n    \\n    \\n<script src=\"/etc.clientlibs/adobe-cms/clientlibs/clientlib-idlBundle.min.ACSHASH5e376ab4f31d99e90ad64f9312a43817.js\"></script>\\n\\n\\n\\n    \\n\\n    <script src=\"/etc.clientlibs/adobe-cms/clientlibs/clientlib-target-antiflicker.min.ACSHASH36a1efb28e947b5873f4a28c2cf9d5eb.js\"></script>\\n<script src=\"/etc.clientlibs/adobe-cms/clientlibs/clientlib-idlWebComponents.min.ACSHASHb9685534c134e0c6508a8a2fdcd654b4.js\"></script>\\n<script src=\"/etc.clientlibs/adobe-cms/clientlibs/clientlib-idlStyles.min.ACSHASHcc9faa0534149d6eb15b78fa0fe36dd0.js\"></script>\\n\\n\\n\\n<script src=\"https://www.ibm.com/common/digitaladvisor/cm-app/latest/cm-app.min.js\" defer async></script>\\n\\n\\n    \\r\\n\\n    \\n\\n    \\n\\n    \\n\\n\\n<script type=\"text/javascript\"  src=\"/7wBEgk/6/F/_1hkCZsZFg/YmuJNL6kpkEt/CgwcAg/GD/FAJnBnOiA\"></script><link rel=\"stylesheet\" type=\"text/css\"  href=\"/_sec/cp_challenge/sec-4-1.css\">\\n                                        <script  src=\"/_sec/cp_challenge/sec-cpt-4-1.js\" async defer></script>\\n                                        <div id=\"sec-overlay\" style=\"display:none;\">\\n                                        <div id=\"sec-container\">\\n                                        </div>\\n                                      </div></body>\\n</html>'"
      ]
     },
     "execution_count": 119,
     "metadata": {},
     "output_type": "execute_result"
    }
   ],
   "source": [
    "data\n"
   ]
  },
  {
   "cell_type": "code",
   "execution_count": 120,
   "id": "6bdedc2f",
   "metadata": {},
   "outputs": [],
   "source": [
    "soup = BeautifulSoup(data , 'html5lib')"
   ]
  },
  {
   "cell_type": "code",
   "execution_count": 121,
   "id": "f752ee3e",
   "metadata": {},
   "outputs": [
    {
     "name": "stdout",
     "output_type": "stream",
     "text": [
      "https://www.ibm.com/uk-en/cloud?lnk=intro\n"
     ]
    }
   ],
   "source": [
    "for link in soup.find_all('a', href=True):\n",
    "    print(link.get('href'))"
   ]
  },
  {
   "cell_type": "code",
   "execution_count": 122,
   "id": "d9f6308c",
   "metadata": {},
   "outputs": [
    {
     "name": "stdout",
     "output_type": "stream",
     "text": [
      "<img alt=\"Portraits of IBM consultants\" class=\"bx--image__img\" id=\"image-1982029849\" loading=\"lazy\" src=\"/content/dam/adobe-cms/default-images/home-consultants.component.crop-16by9-xl.ts=1698259949382.jpg/content/adobe-cms/uk/en/homepage/_jcr_content/root/table_of_contents/simple_image\"/>\n",
      "/content/dam/adobe-cms/default-images/home-consultants.component.crop-16by9-xl.ts=1698259949382.jpg/content/adobe-cms/uk/en/homepage/_jcr_content/root/table_of_contents/simple_image\n"
     ]
    }
   ],
   "source": [
    "for link in soup.find_all('img'):\n",
    "    print(link)\n",
    "    print(link.get('src'))"
   ]
  },
  {
   "cell_type": "code",
   "execution_count": null,
   "id": "93f92fc4",
   "metadata": {},
   "outputs": [],
   "source": []
  },
  {
   "cell_type": "markdown",
   "id": "1186bd5c",
   "metadata": {},
   "source": [
    "# -----------------------------------------------------------------------------------------"
   ]
  },
  {
   "cell_type": "code",
   "execution_count": null,
   "id": "fcda8f62",
   "metadata": {},
   "outputs": [],
   "source": []
  },
  {
   "cell_type": "code",
   "execution_count": 123,
   "id": "d7fc5df9",
   "metadata": {},
   "outputs": [],
   "source": [
    "#The below url contains an html table with data about colors and color codes.\n",
    "url = \"https://cf-courses-data.s3.us.cloud-object-storage.appdomain.cloud/IBM-DA0321EN-SkillsNetwork/labs/datasets/HTMLColorCodes.html\""
   ]
  },
  {
   "cell_type": "code",
   "execution_count": 124,
   "id": "4936cb86",
   "metadata": {},
   "outputs": [],
   "source": [
    "# get the contents of the webpage in text format and store in a variable called data\n",
    "data  = requests.get(url).text"
   ]
  },
  {
   "cell_type": "code",
   "execution_count": 125,
   "id": "8205c34d",
   "metadata": {},
   "outputs": [],
   "source": [
    "soup = BeautifulSoup(data,\"html5lib\")"
   ]
  },
  {
   "cell_type": "code",
   "execution_count": 126,
   "id": "6fbc5535",
   "metadata": {},
   "outputs": [],
   "source": [
    "#find a html table in the web page\n",
    "table = soup.find('table') # in html table is represented by the tag <table>"
   ]
  },
  {
   "cell_type": "code",
   "execution_count": 127,
   "id": "8ef8fa86",
   "metadata": {},
   "outputs": [
    {
     "name": "stdout",
     "output_type": "stream",
     "text": [
      "Color Name--->Hex Code#RRGGBB\n",
      "lightsalmon--->#FFA07A\n",
      "salmon--->#FA8072\n",
      "darksalmon--->#E9967A\n",
      "lightcoral--->#F08080\n",
      "coral--->#FF7F50\n",
      "tomato--->#FF6347\n",
      "orangered--->#FF4500\n",
      "gold--->#FFD700\n",
      "orange--->#FFA500\n",
      "darkorange--->#FF8C00\n",
      "lightyellow--->#FFFFE0\n",
      "lemonchiffon--->#FFFACD\n",
      "papayawhip--->#FFEFD5\n",
      "moccasin--->#FFE4B5\n",
      "peachpuff--->#FFDAB9\n",
      "palegoldenrod--->#EEE8AA\n",
      "khaki--->#F0E68C\n",
      "darkkhaki--->#BDB76B\n",
      "yellow--->#FFFF00\n",
      "lawngreen--->#7CFC00\n",
      "chartreuse--->#7FFF00\n",
      "limegreen--->#32CD32\n",
      "lime--->#00FF00\n",
      "forestgreen--->#228B22\n",
      "green--->#008000\n",
      "powderblue--->#B0E0E6\n",
      "lightblue--->#ADD8E6\n",
      "lightskyblue--->#87CEFA\n",
      "skyblue--->#87CEEB\n",
      "deepskyblue--->#00BFFF\n",
      "lightsteelblue--->#B0C4DE\n",
      "dodgerblue--->#1E90FF\n"
     ]
    }
   ],
   "source": [
    "#Get all rows from the table\n",
    "for row in table.find_all('tr'): # in html table row is represented by the tag <tr>\n",
    "    # Get all columns in each row.\n",
    "    cols = row.find_all('td') # in html a column is represented by the tag <td>\n",
    "    color_name = cols[2].string # store the value in column 3 as color_name\n",
    "    color_code = cols[3].text # store the value in column 4 as color_code\n",
    "    print(\"{}--->{}\".format(color_name,color_code))"
   ]
  },
  {
   "cell_type": "markdown",
   "id": "78787965",
   "metadata": {},
   "source": [
    "# ETL"
   ]
  },
  {
   "cell_type": "markdown",
   "id": "7e91b7fb",
   "metadata": {},
   "source": [
    "## CSV format"
   ]
  },
  {
   "cell_type": "code",
   "execution_count": 10,
   "id": "945a38c8",
   "metadata": {},
   "outputs": [],
   "source": [
    "# pip install piplite"
   ]
  },
  {
   "cell_type": "code",
   "execution_count": 9,
   "id": "ecc1b90f",
   "metadata": {},
   "outputs": [],
   "source": [
    "# import piplite\n",
    "# await piplite.install(['seaborn', 'lxml', 'openpyxl'])\n",
    "\n",
    "# import pandas as pd"
   ]
  },
  {
   "cell_type": "code",
   "execution_count": 8,
   "id": "47641a18",
   "metadata": {},
   "outputs": [],
   "source": [
    "# from pyodide.http import pyfetch\n",
    "\n",
    "# filename = \"https://cf-courses-data.s3.us.cloud-object-storage.appdomain.cloud/IBMDeveloperSkillsNetwork-PY0101EN-SkillsNetwork/labs/Module%205/data/addresses.csv\"\n",
    "\n",
    "# async def download(url, filename):\n",
    "#     response = await pyfetch(url)\n",
    "#     if response.status == 200:\n",
    "#         with open(filename, \"wb\") as f:\n",
    "#             f.write(await response.bytes())\n",
    "\n",
    "# await download(filename, \"addresses.csv\")\n",
    "\n",
    "# df = pd.read_csv(\"addresses.csv\", header=None)"
   ]
  },
  {
   "cell_type": "markdown",
   "id": "6c6f4891",
   "metadata": {},
   "source": [
    "# Transform function in pandas"
   ]
  },
  {
   "cell_type": "code",
   "execution_count": 4,
   "id": "da4a760d",
   "metadata": {},
   "outputs": [],
   "source": [
    "import pandas as pd\n",
    "import numpy as np"
   ]
  },
  {
   "cell_type": "code",
   "execution_count": 5,
   "id": "92162e56",
   "metadata": {},
   "outputs": [
    {
     "data": {
      "text/html": [
       "<div>\n",
       "<style scoped>\n",
       "    .dataframe tbody tr th:only-of-type {\n",
       "        vertical-align: middle;\n",
       "    }\n",
       "\n",
       "    .dataframe tbody tr th {\n",
       "        vertical-align: top;\n",
       "    }\n",
       "\n",
       "    .dataframe thead th {\n",
       "        text-align: right;\n",
       "    }\n",
       "</style>\n",
       "<table border=\"1\" class=\"dataframe\">\n",
       "  <thead>\n",
       "    <tr style=\"text-align: right;\">\n",
       "      <th></th>\n",
       "      <th>a</th>\n",
       "      <th>b</th>\n",
       "      <th>c</th>\n",
       "    </tr>\n",
       "  </thead>\n",
       "  <tbody>\n",
       "    <tr>\n",
       "      <th>0</th>\n",
       "      <td>1</td>\n",
       "      <td>2</td>\n",
       "      <td>3</td>\n",
       "    </tr>\n",
       "    <tr>\n",
       "      <th>1</th>\n",
       "      <td>4</td>\n",
       "      <td>5</td>\n",
       "      <td>6</td>\n",
       "    </tr>\n",
       "    <tr>\n",
       "      <th>2</th>\n",
       "      <td>7</td>\n",
       "      <td>8</td>\n",
       "      <td>9</td>\n",
       "    </tr>\n",
       "  </tbody>\n",
       "</table>\n",
       "</div>"
      ],
      "text/plain": [
       "   a  b  c\n",
       "0  1  2  3\n",
       "1  4  5  6\n",
       "2  7  8  9"
      ]
     },
     "execution_count": 5,
     "metadata": {},
     "output_type": "execute_result"
    }
   ],
   "source": [
    "df = pd.DataFrame(np.array([[1,2,3],[4,5,6],[7,8,9]]), columns=['a','b','c'])\n",
    "df"
   ]
  },
  {
   "cell_type": "code",
   "execution_count": 6,
   "id": "430f4624",
   "metadata": {},
   "outputs": [
    {
     "data": {
      "text/html": [
       "<div>\n",
       "<style scoped>\n",
       "    .dataframe tbody tr th:only-of-type {\n",
       "        vertical-align: middle;\n",
       "    }\n",
       "\n",
       "    .dataframe tbody tr th {\n",
       "        vertical-align: top;\n",
       "    }\n",
       "\n",
       "    .dataframe thead th {\n",
       "        text-align: right;\n",
       "    }\n",
       "</style>\n",
       "<table border=\"1\" class=\"dataframe\">\n",
       "  <thead>\n",
       "    <tr style=\"text-align: right;\">\n",
       "      <th></th>\n",
       "      <th>a</th>\n",
       "      <th>b</th>\n",
       "      <th>c</th>\n",
       "    </tr>\n",
       "  </thead>\n",
       "  <tbody>\n",
       "    <tr>\n",
       "      <th>0</th>\n",
       "      <td>11</td>\n",
       "      <td>12</td>\n",
       "      <td>13</td>\n",
       "    </tr>\n",
       "    <tr>\n",
       "      <th>1</th>\n",
       "      <td>14</td>\n",
       "      <td>15</td>\n",
       "      <td>16</td>\n",
       "    </tr>\n",
       "    <tr>\n",
       "      <th>2</th>\n",
       "      <td>17</td>\n",
       "      <td>18</td>\n",
       "      <td>19</td>\n",
       "    </tr>\n",
       "  </tbody>\n",
       "</table>\n",
       "</div>"
      ],
      "text/plain": [
       "    a   b   c\n",
       "0  11  12  13\n",
       "1  14  15  16\n",
       "2  17  18  19"
      ]
     },
     "execution_count": 6,
     "metadata": {},
     "output_type": "execute_result"
    }
   ],
   "source": [
    "#applying tranform function\n",
    "\n",
    "df = df.transform(func = lambda x : x+10)\n",
    "df"
   ]
  },
  {
   "cell_type": "code",
   "execution_count": 7,
   "id": "cd85aba2",
   "metadata": {},
   "outputs": [
    {
     "data": {
      "text/html": [
       "<div>\n",
       "<style scoped>\n",
       "    .dataframe tbody tr th:only-of-type {\n",
       "        vertical-align: middle;\n",
       "    }\n",
       "\n",
       "    .dataframe tbody tr th {\n",
       "        vertical-align: top;\n",
       "    }\n",
       "\n",
       "    .dataframe thead th {\n",
       "        text-align: right;\n",
       "    }\n",
       "</style>\n",
       "<table border=\"1\" class=\"dataframe\">\n",
       "  <thead>\n",
       "    <tr style=\"text-align: right;\">\n",
       "      <th></th>\n",
       "      <th>a</th>\n",
       "      <th>b</th>\n",
       "      <th>c</th>\n",
       "    </tr>\n",
       "  </thead>\n",
       "  <tbody>\n",
       "    <tr>\n",
       "      <th>0</th>\n",
       "      <td>3.316625</td>\n",
       "      <td>3.464102</td>\n",
       "      <td>3.605551</td>\n",
       "    </tr>\n",
       "    <tr>\n",
       "      <th>1</th>\n",
       "      <td>3.741657</td>\n",
       "      <td>3.872983</td>\n",
       "      <td>4.000000</td>\n",
       "    </tr>\n",
       "    <tr>\n",
       "      <th>2</th>\n",
       "      <td>4.123106</td>\n",
       "      <td>4.242641</td>\n",
       "      <td>4.358899</td>\n",
       "    </tr>\n",
       "  </tbody>\n",
       "</table>\n",
       "</div>"
      ],
      "text/plain": [
       "          a         b         c\n",
       "0  3.316625  3.464102  3.605551\n",
       "1  3.741657  3.872983  4.000000\n",
       "2  4.123106  4.242641  4.358899"
      ]
     },
     "execution_count": 7,
     "metadata": {},
     "output_type": "execute_result"
    }
   ],
   "source": [
    "result = df.transform(func = 'sqrt')\n",
    "result"
   ]
  },
  {
   "cell_type": "markdown",
   "id": "f69db481",
   "metadata": {},
   "source": [
    "# JSON file Format"
   ]
  },
  {
   "cell_type": "code",
   "execution_count": 11,
   "id": "36029fd8",
   "metadata": {},
   "outputs": [],
   "source": [
    "import json"
   ]
  },
  {
   "cell_type": "code",
   "execution_count": 12,
   "id": "66763353",
   "metadata": {},
   "outputs": [],
   "source": [
    "person = {\n",
    "    'first_name' : 'Mark',\n",
    "    'last_name' : 'abc',\n",
    "    'age' : 27,\n",
    "    'address': {\n",
    "        \"streetAddress\": \"21 2nd Street\",\n",
    "        \"city\": \"New York\",\n",
    "        \"state\": \"NY\",\n",
    "        \"postalCode\": \"10021-3100\"\n",
    "    }\n",
    "}"
   ]
  },
  {
   "cell_type": "code",
   "execution_count": 13,
   "id": "cd0a3662",
   "metadata": {},
   "outputs": [],
   "source": [
    "with open('person.json', 'w') as f:\n",
    "    json.dump(person, f)"
   ]
  },
  {
   "cell_type": "code",
   "execution_count": 14,
   "id": "7d3f0ac1",
   "metadata": {},
   "outputs": [],
   "source": [
    "# serializing json\n",
    "json_object = json.dumps(person, indent = 4)\n",
    "\n",
    "#writing to sample.json\n",
    "with open(\"sample.json\", 'w') as outfile:\n",
    "    outfile.write(json_object)"
   ]
  },
  {
   "cell_type": "code",
   "execution_count": 15,
   "id": "be9192a4",
   "metadata": {},
   "outputs": [
    {
     "name": "stdout",
     "output_type": "stream",
     "text": [
      "{\n",
      "    \"first_name\": \"Mark\",\n",
      "    \"last_name\": \"abc\",\n",
      "    \"age\": 27,\n",
      "    \"address\": {\n",
      "        \"streetAddress\": \"21 2nd Street\",\n",
      "        \"city\": \"New York\",\n",
      "        \"state\": \"NY\",\n",
      "        \"postalCode\": \"10021-3100\"\n",
      "    }\n",
      "}\n"
     ]
    }
   ],
   "source": [
    "print(json_object)"
   ]
  },
  {
   "cell_type": "code",
   "execution_count": 16,
   "id": "9b925751",
   "metadata": {},
   "outputs": [
    {
     "data": {
      "text/plain": [
       "str"
      ]
     },
     "execution_count": 16,
     "metadata": {},
     "output_type": "execute_result"
    }
   ],
   "source": [
    "type(json_object)"
   ]
  },
  {
   "cell_type": "code",
   "execution_count": 17,
   "id": "17dd4bba",
   "metadata": {},
   "outputs": [
    {
     "name": "stdout",
     "output_type": "stream",
     "text": [
      "{'first_name': 'Mark', 'last_name': 'abc', 'age': 27, 'address': {'streetAddress': '21 2nd Street', 'city': 'New York', 'state': 'NY', 'postalCode': '10021-3100'}}\n",
      "<class 'dict'>\n"
     ]
    }
   ],
   "source": [
    "# opening json file\n",
    "\n",
    "with open('sample.json', 'r') as openfile:\n",
    "    #reading from json file\n",
    "    json_object = json.load(openfile)\n",
    "    \n",
    "print(json_object)\n",
    "print(type(json_object))"
   ]
  },
  {
   "cell_type": "code",
   "execution_count": 21,
   "id": "89a5a79c",
   "metadata": {},
   "outputs": [
    {
     "ename": "ModuleNotFoundError",
     "evalue": "No module named 'pyfetch'",
     "output_type": "error",
     "traceback": [
      "\u001b[1;31m---------------------------------------------------------------------------\u001b[0m",
      "\u001b[1;31mModuleNotFoundError\u001b[0m                       Traceback (most recent call last)",
      "\u001b[1;32m~\\AppData\\Local\\Temp/ipykernel_10488/3262983540.py\u001b[0m in \u001b[0;36m<module>\u001b[1;34m\u001b[0m\n\u001b[0;32m      2\u001b[0m \u001b[1;32mimport\u001b[0m \u001b[0murllib\u001b[0m\u001b[1;33m.\u001b[0m\u001b[0mrequest\u001b[0m\u001b[1;33m\u001b[0m\u001b[1;33m\u001b[0m\u001b[0m\n\u001b[0;32m      3\u001b[0m \u001b[0murllib\u001b[0m\u001b[1;33m.\u001b[0m\u001b[0mrequest\u001b[0m\u001b[1;33m.\u001b[0m\u001b[0murlretrieve\u001b[0m\u001b[1;33m(\u001b[0m\u001b[1;34m\"https://cf-courses-data.s3.us.cloud-object-storage.appdomain.cloud/IBMDeveloperSkillsNetwork-PY0101EN-SkillsNetwork/labs/Module%205/data/file_example_XLSX_10.xlsx\"\u001b[0m\u001b[1;33m,\u001b[0m \u001b[1;34m\"sample.xlsx\"\u001b[0m\u001b[1;33m)\u001b[0m\u001b[1;33m\u001b[0m\u001b[1;33m\u001b[0m\u001b[0m\n\u001b[1;32m----> 4\u001b[1;33m \u001b[1;32mimport\u001b[0m \u001b[0mpyfetch\u001b[0m\u001b[1;33m\u001b[0m\u001b[1;33m\u001b[0m\u001b[0m\n\u001b[0m",
      "\u001b[1;31mModuleNotFoundError\u001b[0m: No module named 'pyfetch'"
     ]
    }
   ],
   "source": [
    "# Not needed unless you're running locally\n",
    "import urllib.request\n",
    "urllib.request.urlretrieve(\"https://cf-courses-data.s3.us.cloud-object-storage.appdomain.cloud/IBMDeveloperSkillsNetwork-PY0101EN-SkillsNetwork/labs/Module%205/data/file_example_XLSX_10.xlsx\", \"sample.xlsx\")\n",
    "import pyfetch"
   ]
  },
  {
   "cell_type": "code",
   "execution_count": 19,
   "id": "4a322e9f",
   "metadata": {},
   "outputs": [],
   "source": [
    "filename = \"https://cf-courses-data.s3.us.cloud-object-storage.appdomain.cloud/IBMDeveloperSkillsNetwork-PY0101EN-SkillsNetwork/labs/Module%205/data/file_example_XLSX_10.xlsx\"\n"
   ]
  },
  {
   "cell_type": "code",
   "execution_count": 20,
   "id": "dc48814f",
   "metadata": {},
   "outputs": [
    {
     "ename": "NameError",
     "evalue": "name 'pyfetch' is not defined",
     "output_type": "error",
     "traceback": [
      "\u001b[1;31m---------------------------------------------------------------------------\u001b[0m",
      "\u001b[1;31mNameError\u001b[0m                                 Traceback (most recent call last)",
      "\u001b[1;32m~\\AppData\\Local\\Temp/ipykernel_10488/1578148582.py\u001b[0m in \u001b[0;36m<module>\u001b[1;34m\u001b[0m\n\u001b[0;32m      5\u001b[0m             \u001b[0mf\u001b[0m\u001b[1;33m.\u001b[0m\u001b[0mwrite\u001b[0m\u001b[1;33m(\u001b[0m\u001b[1;32mawait\u001b[0m \u001b[0mresponse\u001b[0m\u001b[1;33m.\u001b[0m\u001b[0mbytes\u001b[0m\u001b[1;33m(\u001b[0m\u001b[1;33m)\u001b[0m\u001b[1;33m)\u001b[0m\u001b[1;33m\u001b[0m\u001b[1;33m\u001b[0m\u001b[0m\n\u001b[0;32m      6\u001b[0m \u001b[1;33m\u001b[0m\u001b[0m\n\u001b[1;32m----> 7\u001b[1;33m \u001b[1;32mawait\u001b[0m \u001b[0mdownload\u001b[0m\u001b[1;33m(\u001b[0m\u001b[0mfilename\u001b[0m\u001b[1;33m,\u001b[0m \u001b[1;34m'file_example_XLSX_10.xlsx'\u001b[0m\u001b[1;33m)\u001b[0m\u001b[1;33m\u001b[0m\u001b[1;33m\u001b[0m\u001b[0m\n\u001b[0m\u001b[0;32m      8\u001b[0m \u001b[1;33m\u001b[0m\u001b[0m\n\u001b[0;32m      9\u001b[0m \u001b[0mdf\u001b[0m \u001b[1;33m=\u001b[0m \u001b[0mpd\u001b[0m\u001b[1;33m.\u001b[0m\u001b[0mread_excel\u001b[0m\u001b[1;33m(\u001b[0m\u001b[1;34m\"file_example_XLSX_10.xlsx\"\u001b[0m\u001b[1;33m)\u001b[0m\u001b[1;33m\u001b[0m\u001b[1;33m\u001b[0m\u001b[0m\n",
      "\u001b[1;32m~\\AppData\\Local\\Temp/ipykernel_10488/1578148582.py\u001b[0m in \u001b[0;36mdownload\u001b[1;34m(url, filename)\u001b[0m\n\u001b[0;32m      1\u001b[0m \u001b[1;32masync\u001b[0m \u001b[1;32mdef\u001b[0m \u001b[0mdownload\u001b[0m\u001b[1;33m(\u001b[0m\u001b[0murl\u001b[0m\u001b[1;33m,\u001b[0m \u001b[0mfilename\u001b[0m\u001b[1;33m)\u001b[0m\u001b[1;33m:\u001b[0m\u001b[1;33m\u001b[0m\u001b[1;33m\u001b[0m\u001b[0m\n\u001b[1;32m----> 2\u001b[1;33m     \u001b[0mresponse\u001b[0m \u001b[1;33m=\u001b[0m \u001b[1;32mawait\u001b[0m \u001b[0mpyfetch\u001b[0m\u001b[1;33m(\u001b[0m\u001b[0murl\u001b[0m\u001b[1;33m)\u001b[0m\u001b[1;33m\u001b[0m\u001b[1;33m\u001b[0m\u001b[0m\n\u001b[0m\u001b[0;32m      3\u001b[0m     \u001b[1;32mif\u001b[0m \u001b[0mresponse\u001b[0m\u001b[1;33m.\u001b[0m\u001b[0mstatus\u001b[0m \u001b[1;33m==\u001b[0m \u001b[1;36m200\u001b[0m\u001b[1;33m:\u001b[0m\u001b[1;33m\u001b[0m\u001b[1;33m\u001b[0m\u001b[0m\n\u001b[0;32m      4\u001b[0m         \u001b[1;32mwith\u001b[0m \u001b[0mopen\u001b[0m\u001b[1;33m(\u001b[0m\u001b[0mfilename\u001b[0m\u001b[1;33m,\u001b[0m \u001b[1;34m'wb'\u001b[0m\u001b[1;33m)\u001b[0m \u001b[1;32mas\u001b[0m \u001b[0mf\u001b[0m\u001b[1;33m:\u001b[0m\u001b[1;33m\u001b[0m\u001b[1;33m\u001b[0m\u001b[0m\n\u001b[0;32m      5\u001b[0m             \u001b[0mf\u001b[0m\u001b[1;33m.\u001b[0m\u001b[0mwrite\u001b[0m\u001b[1;33m(\u001b[0m\u001b[1;32mawait\u001b[0m \u001b[0mresponse\u001b[0m\u001b[1;33m.\u001b[0m\u001b[0mbytes\u001b[0m\u001b[1;33m(\u001b[0m\u001b[1;33m)\u001b[0m\u001b[1;33m)\u001b[0m\u001b[1;33m\u001b[0m\u001b[1;33m\u001b[0m\u001b[0m\n",
      "\u001b[1;31mNameError\u001b[0m: name 'pyfetch' is not defined"
     ]
    }
   ],
   "source": [
    "async def download(url, filename):\n",
    "    response = await pyfetch(url)\n",
    "    if response.status == 200:\n",
    "        with open(filename, 'wb') as f:\n",
    "            f.write(await response.bytes())\n",
    "            \n",
    "await download(filename, 'file_example_XLSX_10.xlsx')\n",
    "\n",
    "df = pd.read_excel(\"file_example_XLSX_10.xlsx\")\n",
    "df"
   ]
  },
  {
   "cell_type": "code",
   "execution_count": null,
   "id": "c804805f",
   "metadata": {},
   "outputs": [],
   "source": [
    "\n"
   ]
  },
  {
   "cell_type": "markdown",
   "id": "2ca2299a",
   "metadata": {},
   "source": [
    "# XML file format"
   ]
  },
  {
   "cell_type": "code",
   "execution_count": 22,
   "id": "45def4ba",
   "metadata": {},
   "outputs": [],
   "source": [
    "import xml.etree.ElementTree as ET\n",
    "\n",
    "# create the file structure\n",
    "employee = ET.Element('employee')\n",
    "details = ET.SubElement(employee, 'details')\n",
    "first = ET.SubElement(details, 'firstname')\n",
    "second = ET.SubElement(details, 'lastname')\n",
    "third = ET.SubElement(details, 'age')\n",
    "first.text = 'Shiv'\n",
    "second.text = 'Mishra'\n",
    "third.text = '23'\n",
    "\n",
    "# create a new XML file with the results\n",
    "mydata1 = ET.ElementTree(employee)\n",
    "# myfile = open(\"items2.xml\", \"wb\")\n",
    "# myfile.write(mydata)\n",
    "with open(\"new_sample.xml\", \"wb\") as files:\n",
    "    mydata1.write(files)"
   ]
  },
  {
   "cell_type": "code",
   "execution_count": 23,
   "id": "cb15ece2",
   "metadata": {},
   "outputs": [
    {
     "ename": "NameError",
     "evalue": "name 'pyfetch' is not defined",
     "output_type": "error",
     "traceback": [
      "\u001b[1;31m---------------------------------------------------------------------------\u001b[0m",
      "\u001b[1;31mNameError\u001b[0m                                 Traceback (most recent call last)",
      "\u001b[1;32m~\\AppData\\Local\\Temp/ipykernel_10488/3038151151.py\u001b[0m in \u001b[0;36m<module>\u001b[1;34m\u001b[0m\n\u001b[0;32m     12\u001b[0m             \u001b[0mf\u001b[0m\u001b[1;33m.\u001b[0m\u001b[0mwrite\u001b[0m\u001b[1;33m(\u001b[0m\u001b[1;32mawait\u001b[0m \u001b[0mresponse\u001b[0m\u001b[1;33m.\u001b[0m\u001b[0mbytes\u001b[0m\u001b[1;33m(\u001b[0m\u001b[1;33m)\u001b[0m\u001b[1;33m)\u001b[0m\u001b[1;33m\u001b[0m\u001b[1;33m\u001b[0m\u001b[0m\n\u001b[0;32m     13\u001b[0m \u001b[1;33m\u001b[0m\u001b[0m\n\u001b[1;32m---> 14\u001b[1;33m \u001b[1;32mawait\u001b[0m \u001b[0mdownload\u001b[0m\u001b[1;33m(\u001b[0m\u001b[0mfilename\u001b[0m\u001b[1;33m,\u001b[0m \u001b[1;34m\"Sample-employee-XML-file.xml\"\u001b[0m\u001b[1;33m)\u001b[0m\u001b[1;33m\u001b[0m\u001b[1;33m\u001b[0m\u001b[0m\n\u001b[0m",
      "\u001b[1;32m~\\AppData\\Local\\Temp/ipykernel_10488/3038151151.py\u001b[0m in \u001b[0;36mdownload\u001b[1;34m(url, filename)\u001b[0m\n\u001b[0;32m      7\u001b[0m \u001b[1;33m\u001b[0m\u001b[0m\n\u001b[0;32m      8\u001b[0m \u001b[1;32masync\u001b[0m \u001b[1;32mdef\u001b[0m \u001b[0mdownload\u001b[0m\u001b[1;33m(\u001b[0m\u001b[0murl\u001b[0m\u001b[1;33m,\u001b[0m \u001b[0mfilename\u001b[0m\u001b[1;33m)\u001b[0m\u001b[1;33m:\u001b[0m\u001b[1;33m\u001b[0m\u001b[1;33m\u001b[0m\u001b[0m\n\u001b[1;32m----> 9\u001b[1;33m     \u001b[0mresponse\u001b[0m \u001b[1;33m=\u001b[0m \u001b[1;32mawait\u001b[0m \u001b[0mpyfetch\u001b[0m\u001b[1;33m(\u001b[0m\u001b[0murl\u001b[0m\u001b[1;33m)\u001b[0m\u001b[1;33m\u001b[0m\u001b[1;33m\u001b[0m\u001b[0m\n\u001b[0m\u001b[0;32m     10\u001b[0m     \u001b[1;32mif\u001b[0m \u001b[0mresponse\u001b[0m\u001b[1;33m.\u001b[0m\u001b[0mstatus\u001b[0m \u001b[1;33m==\u001b[0m \u001b[1;36m200\u001b[0m\u001b[1;33m:\u001b[0m\u001b[1;33m\u001b[0m\u001b[1;33m\u001b[0m\u001b[0m\n\u001b[0;32m     11\u001b[0m         \u001b[1;32mwith\u001b[0m \u001b[0mopen\u001b[0m\u001b[1;33m(\u001b[0m\u001b[0mfilename\u001b[0m\u001b[1;33m,\u001b[0m \u001b[1;34m\"wb\"\u001b[0m\u001b[1;33m)\u001b[0m \u001b[1;32mas\u001b[0m \u001b[0mf\u001b[0m\u001b[1;33m:\u001b[0m\u001b[1;33m\u001b[0m\u001b[1;33m\u001b[0m\u001b[0m\n",
      "\u001b[1;31mNameError\u001b[0m: name 'pyfetch' is not defined"
     ]
    }
   ],
   "source": [
    "# Not needed unless running locally\n",
    "# !wget https://cf-courses-data.s3.us.cloud-object-storage.appdomain.cloud/IBMDeveloperSkillsNetwork-PY0101EN-SkillsNetwork/labs/Module%205/data/Sample-employee-XML-file.xml\n",
    "\n",
    "import xml.etree.ElementTree as etree\n",
    "\n",
    "filename = \"https://cf-courses-data.s3.us.cloud-object-storage.appdomain.cloud/IBMDeveloperSkillsNetwork-PY0101EN-SkillsNetwork/labs/Module%205/data/Sample-employee-XML-file.xml\"\n",
    "\n",
    "async def download(url, filename):\n",
    "    response = await pyfetch(url)\n",
    "    if response.status == 200:\n",
    "        with open(filename, \"wb\") as f:\n",
    "            f.write(await response.bytes())\n",
    "\n",
    "await download(filename, \"Sample-employee-XML-file.xml\")"
   ]
  },
  {
   "cell_type": "code",
   "execution_count": null,
   "id": "6820e735",
   "metadata": {},
   "outputs": [],
   "source": [
    "tree = etree.parse(\"Sample-employee-XML-file.xml\")\n",
    "\n",
    "root = tree.getroot()\n",
    "columns = [\"firstname\", \"lastname\", \"title\", \"division\", \"building\",\"room\"]\n",
    "\n",
    "datatframe = pd.DataFrame(columns = columns)\n",
    "\n",
    "for node in root: \n",
    "\n",
    "    firstname = node.find(\"firstname\").text\n",
    "\n",
    "    lastname = node.find(\"lastname\").text \n",
    "\n",
    "    title = node.find(\"title\").text \n",
    "    \n",
    "    division = node.find(\"division\").text \n",
    "    \n",
    "    building = node.find(\"building\").text\n",
    "    \n",
    "    room = node.find(\"room\").text\n",
    "    \n",
    "    datatframe = pd.concat([datatframe, pd.Series([firstname, lastname, title, division, building, room], index = columns)], ignore_index = True)"
   ]
  },
  {
   "cell_type": "code",
   "execution_count": null,
   "id": "fea47e2f",
   "metadata": {},
   "outputs": [],
   "source": [
    "# Herein xpath we mention the set of xml nodes to be considered for migrating  to the dataframe which in this case is details node under employees.\n",
    "df=pd.read_xml(\"Sample-employee-XML-file.xml\", xpath=\"/employees/details\") "
   ]
  },
  {
   "cell_type": "code",
   "execution_count": null,
   "id": "1503f30e",
   "metadata": {},
   "outputs": [],
   "source": [
    "datatframe.to_csv(\"employee.csv\", index=False)"
   ]
  },
  {
   "cell_type": "markdown",
   "id": "c3438930",
   "metadata": {},
   "source": [
    "<h2>Read/Save Other Data Formats</h2>\n",
    "\n",
    "| Data Formate |        Read       |            Save |\n",
    "| ------------ | :---------------: | --------------: |\n",
    "| csv          |  `pd.read_csv()`  |   `df.to_csv()` |\n",
    "| json         |  `pd.read_json()` |  `df.to_json()` |\n",
    "| excel        | `pd.read_excel()` | `df.to_excel()` |\n",
    "| hdf          |  `pd.read_hdf()`  |   `df.to_hdf()` |\n",
    "| sql          |  `pd.read_sql()`  |   `df.to_sql()` |\n",
    "| ...          |        ...        |             ... |"
   ]
  },
  {
   "cell_type": "markdown",
   "id": "34f366c9",
   "metadata": {},
   "source": [
    "# Binary file format"
   ]
  },
  {
   "cell_type": "code",
   "execution_count": 24,
   "id": "c7ecc9cc",
   "metadata": {},
   "outputs": [],
   "source": [
    "from PIL import Image"
   ]
  },
  {
   "cell_type": "code",
   "execution_count": 25,
   "id": "9eb8195f",
   "metadata": {},
   "outputs": [],
   "source": [
    "import urllib.request\n",
    "urllib.request.urlretrieve(\"https://hips.hearstapps.com/hmg-prod.s3.amazonaws.com/images/dog-puppy-on-garden-royalty-free-image-1586966191.jpg\", \"dog.jpg\")\n",
    "\n",
    "filename = \"https://hips.hearstapps.com/hmg-prod.s3.amazonaws.com/images/dog-puppy-on-garden-royalty-free-image-1586966191.jpg\"\n",
    "async def download(url, filename):\n",
    "    response = await pyfetch(url)\n",
    "    if response.status == 200:\n",
    "        with open(filename, \"wb\") as f:\n",
    "            f.write(await response.bytes())\n",
    "\n",
    "await download(filename, \"./dog.jpg\")"
   ]
  },
  {
   "cell_type": "code",
   "execution_count": null,
   "id": "9c3d07ce",
   "metadata": {},
   "outputs": [],
   "source": []
  },
  {
   "cell_type": "code",
   "execution_count": null,
   "id": "eb9e109c",
   "metadata": {},
   "outputs": [],
   "source": []
  },
  {
   "cell_type": "markdown",
   "id": "501380a8",
   "metadata": {},
   "source": [
    "# Data Acquisition"
   ]
  },
  {
   "cell_type": "code",
   "execution_count": null,
   "id": "6a3df5c3",
   "metadata": {},
   "outputs": [],
   "source": [
    "filename = \"https://cf-courses-data.s3.us.cloud-object-storage.appdomain.cloud/IBMDeveloperSkillsNetwork-PY0101EN-SkillsNetwork/labs/Module%205/data/diabetes.csv\"\n",
    "\n",
    "async def download(url, filename):\n",
    "    response = await pyfetch(url)\n",
    "    if response.status == 200:\n",
    "        with open(filename, \"wb\") as f:\n",
    "            f.write(await response.bytes())\n",
    "\n",
    "await download(filename, \"diabetes.csv\")\n",
    "df = pd.read_csv(\"diabetes.csv\")\n"
   ]
  },
  {
   "cell_type": "code",
   "execution_count": null,
   "id": "9b5cdbbf",
   "metadata": {},
   "outputs": [],
   "source": [
    "df.info()"
   ]
  },
  {
   "cell_type": "code",
   "execution_count": null,
   "id": "e1daf2bb",
   "metadata": {},
   "outputs": [],
   "source": [
    "df.describe()"
   ]
  },
  {
   "cell_type": "code",
   "execution_count": null,
   "id": "34a42b26",
   "metadata": {},
   "outputs": [],
   "source": [
    "missing_data = df.isnull()\n",
    "missing_data.head(5)"
   ]
  },
  {
   "cell_type": "code",
   "execution_count": null,
   "id": "20d35d3f",
   "metadata": {},
   "outputs": [],
   "source": [
    "for column in missing_data.columns.values.tolist():\n",
    "    print(column)\n",
    "    print (missing_data[column].value_counts())\n",
    "    print(\"\")  "
   ]
  },
  {
   "cell_type": "code",
   "execution_count": 26,
   "id": "23aeab9b",
   "metadata": {},
   "outputs": [
    {
     "data": {
      "text/plain": [
       "a    int32\n",
       "b    int32\n",
       "c    int32\n",
       "dtype: object"
      ]
     },
     "execution_count": 26,
     "metadata": {},
     "output_type": "execute_result"
    }
   ],
   "source": [
    "df.dtypes"
   ]
  },
  {
   "cell_type": "code",
   "execution_count": null,
   "id": "e2a4cd47",
   "metadata": {},
   "outputs": [],
   "source": [
    "# import libraries\n",
    "import matplotlib.pyplot as plt\n",
    "import seaborn as sns"
   ]
  },
  {
   "cell_type": "code",
   "execution_count": null,
   "id": "59ede776",
   "metadata": {},
   "outputs": [],
   "source": [
    "labels= 'Not Diabetic','Diabetic'\n",
    "plt.pie(df['Outcome'].value_counts(),labels=labels,autopct='%0.02f%%')\n",
    "plt.legend()\n",
    "plt.show()"
   ]
  },
  {
   "cell_type": "code",
   "execution_count": 27,
   "id": "ab1103f8",
   "metadata": {},
   "outputs": [],
   "source": [
    "var = '01234567'"
   ]
  },
  {
   "cell_type": "code",
   "execution_count": 30,
   "id": "f635af59",
   "metadata": {},
   "outputs": [
    {
     "name": "stdout",
     "output_type": "stream",
     "text": [
      "0246\n"
     ]
    }
   ],
   "source": [
    "print(var[::2])"
   ]
  },
  {
   "cell_type": "code",
   "execution_count": 31,
   "id": "deba9fae",
   "metadata": {},
   "outputs": [
    {
     "data": {
      "text/plain": [
       "3"
      ]
     },
     "execution_count": 31,
     "metadata": {},
     "output_type": "execute_result"
    }
   ],
   "source": [
    "int(3.99)"
   ]
  },
  {
   "cell_type": "code",
   "execution_count": 32,
   "id": "666692b5",
   "metadata": {},
   "outputs": [
    {
     "data": {
      "text/plain": [
       "0.5"
      ]
     },
     "execution_count": 32,
     "metadata": {},
     "output_type": "execute_result"
    }
   ],
   "source": [
    "1/2"
   ]
  },
  {
   "cell_type": "code",
   "execution_count": 33,
   "id": "d13664e7",
   "metadata": {},
   "outputs": [
    {
     "data": {
      "text/plain": [
       "1.0"
      ]
     },
     "execution_count": 33,
     "metadata": {},
     "output_type": "execute_result"
    }
   ],
   "source": [
    "2/2"
   ]
  },
  {
   "cell_type": "code",
   "execution_count": 34,
   "id": "443879e2",
   "metadata": {},
   "outputs": [
    {
     "data": {
      "text/plain": [
       "['1', '2', '3', '4']"
      ]
     },
     "execution_count": 34,
     "metadata": {},
     "output_type": "execute_result"
    }
   ],
   "source": [
    "'1,2,3,4'.split(',')\n"
   ]
  },
  {
   "cell_type": "code",
   "execution_count": 35,
   "id": "2f8e576a",
   "metadata": {},
   "outputs": [
    {
     "name": "stdout",
     "output_type": "stream",
     "text": [
      "2\n",
      "3\n",
      "4\n"
     ]
    }
   ],
   "source": [
    "for i in range(1,5): \n",
    "    if (i!=1): \n",
    "        print(i)"
   ]
  },
  {
   "cell_type": "code",
   "execution_count": 36,
   "id": "104a55da",
   "metadata": {},
   "outputs": [
    {
     "name": "stdout",
     "output_type": "stream",
     "text": [
      "11\n",
      "22\n",
      "33\n"
     ]
    }
   ],
   "source": [
    " A=['1','2','3'] \n",
    "    \n",
    "for a in A: \n",
    "    print(2*a) "
   ]
  },
  {
   "cell_type": "code",
   "execution_count": null,
   "id": "68793b4d",
   "metadata": {},
   "outputs": [],
   "source": []
  }
 ],
 "metadata": {
  "kernelspec": {
   "display_name": "Python 3 (ipykernel)",
   "language": "python",
   "name": "python3"
  },
  "language_info": {
   "codemirror_mode": {
    "name": "ipython",
    "version": 3
   },
   "file_extension": ".py",
   "mimetype": "text/x-python",
   "name": "python",
   "nbconvert_exporter": "python",
   "pygments_lexer": "ipython3",
   "version": "3.9.7"
  }
 },
 "nbformat": 4,
 "nbformat_minor": 5
}
